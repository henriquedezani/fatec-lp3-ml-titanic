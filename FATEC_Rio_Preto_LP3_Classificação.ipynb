{
  "nbformat": 4,
  "nbformat_minor": 0,
  "metadata": {
    "colab": {
      "name": "FATEC Rio Preto - LP3 - Classificação.ipynb",
      "provenance": [],
      "collapsed_sections": [],
      "toc_visible": true,
      "authorship_tag": "ABX9TyPSPVYO0AZ2UXCyEwyWmvZJ",
      "include_colab_link": true
    },
    "kernelspec": {
      "name": "python3",
      "display_name": "Python 3"
    }
  },
  "cells": [
    {
      "cell_type": "markdown",
      "metadata": {
        "id": "view-in-github",
        "colab_type": "text"
      },
      "source": [
        "<a href=\"https://colab.research.google.com/github/henriquedezani/fatec-lp3-ml-titanic/blob/main/FATEC_Rio_Preto_LP3_Classifica%C3%A7%C3%A3o.ipynb\" target=\"_parent\"><img src=\"https://colab.research.google.com/assets/colab-badge.svg\" alt=\"Open In Colab\"/></a>"
      ]
    },
    {
      "cell_type": "markdown",
      "metadata": {
        "id": "N5p2h2O-rGh1"
      },
      "source": [
        "![Fatec São José do Rio Preto](data:image/png;base64,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)\n",
        "\n",
        "### **Curso Superior de Tecnologia em Informática para Negócios**\n",
        "### Linguagem de Programação III\n",
        "#### Prof. Dr. Henrique Dezani\n",
        "[dezani@fatecriopreto.edu.br](mailto:dezani@fatecriopreto.edu.br)"
      ]
    },
    {
      "cell_type": "markdown",
      "metadata": {
        "id": "wgEU0Ot0uyGz"
      },
      "source": [
        "# Classificação"
      ]
    },
    {
      "cell_type": "code",
      "metadata": {
        "id": "0UdrMyY7uxVH"
      },
      "source": [
        ""
      ],
      "execution_count": 35,
      "outputs": []
    },
    {
      "cell_type": "markdown",
      "metadata": {
        "id": "48K2TlK0ttK3"
      },
      "source": [
        "Titanic\n"
      ]
    },
    {
      "cell_type": "code",
      "metadata": {
        "id": "SMNu3KvrrBqI"
      },
      "source": [
        "import pandas as pd"
      ],
      "execution_count": 36,
      "outputs": []
    },
    {
      "cell_type": "code",
      "metadata": {
        "id": "YF-nw70RtvZ_"
      },
      "source": [
        "dataframe = pd.read_csv('https://raw.githubusercontent.com/henriquedezani/fatec-lp3-ml-titanic/main/dataset/train.csv')"
      ],
      "execution_count": 37,
      "outputs": []
    },
    {
      "cell_type": "code",
      "metadata": {
        "colab": {
          "base_uri": "https://localhost:8080/",
          "height": 255
        },
        "id": "MRe_Lgvdtz8f",
        "outputId": "721ff4c4-9e8c-40f6-f50c-6191ccc1914e"
      },
      "source": [
        "dataframe.head()"
      ],
      "execution_count": 38,
      "outputs": [
        {
          "output_type": "execute_result",
          "data": {
            "text/html": [
              "<div>\n",
              "<style scoped>\n",
              "    .dataframe tbody tr th:only-of-type {\n",
              "        vertical-align: middle;\n",
              "    }\n",
              "\n",
              "    .dataframe tbody tr th {\n",
              "        vertical-align: top;\n",
              "    }\n",
              "\n",
              "    .dataframe thead th {\n",
              "        text-align: right;\n",
              "    }\n",
              "</style>\n",
              "<table border=\"1\" class=\"dataframe\">\n",
              "  <thead>\n",
              "    <tr style=\"text-align: right;\">\n",
              "      <th></th>\n",
              "      <th>PassengerId</th>\n",
              "      <th>Survived</th>\n",
              "      <th>Pclass</th>\n",
              "      <th>Name</th>\n",
              "      <th>Sex</th>\n",
              "      <th>Age</th>\n",
              "      <th>SibSp</th>\n",
              "      <th>Parch</th>\n",
              "      <th>Ticket</th>\n",
              "      <th>Fare</th>\n",
              "      <th>Cabin</th>\n",
              "      <th>Embarked</th>\n",
              "    </tr>\n",
              "  </thead>\n",
              "  <tbody>\n",
              "    <tr>\n",
              "      <th>0</th>\n",
              "      <td>1</td>\n",
              "      <td>0</td>\n",
              "      <td>3</td>\n",
              "      <td>Braund, Mr. Owen Harris</td>\n",
              "      <td>male</td>\n",
              "      <td>22.0</td>\n",
              "      <td>1</td>\n",
              "      <td>0</td>\n",
              "      <td>A/5 21171</td>\n",
              "      <td>7.2500</td>\n",
              "      <td>NaN</td>\n",
              "      <td>S</td>\n",
              "    </tr>\n",
              "    <tr>\n",
              "      <th>1</th>\n",
              "      <td>2</td>\n",
              "      <td>1</td>\n",
              "      <td>1</td>\n",
              "      <td>Cumings, Mrs. John Bradley (Florence Briggs Th...</td>\n",
              "      <td>female</td>\n",
              "      <td>38.0</td>\n",
              "      <td>1</td>\n",
              "      <td>0</td>\n",
              "      <td>PC 17599</td>\n",
              "      <td>71.2833</td>\n",
              "      <td>C85</td>\n",
              "      <td>C</td>\n",
              "    </tr>\n",
              "    <tr>\n",
              "      <th>2</th>\n",
              "      <td>3</td>\n",
              "      <td>1</td>\n",
              "      <td>3</td>\n",
              "      <td>Heikkinen, Miss. Laina</td>\n",
              "      <td>female</td>\n",
              "      <td>26.0</td>\n",
              "      <td>0</td>\n",
              "      <td>0</td>\n",
              "      <td>STON/O2. 3101282</td>\n",
              "      <td>7.9250</td>\n",
              "      <td>NaN</td>\n",
              "      <td>S</td>\n",
              "    </tr>\n",
              "    <tr>\n",
              "      <th>3</th>\n",
              "      <td>4</td>\n",
              "      <td>1</td>\n",
              "      <td>1</td>\n",
              "      <td>Futrelle, Mrs. Jacques Heath (Lily May Peel)</td>\n",
              "      <td>female</td>\n",
              "      <td>35.0</td>\n",
              "      <td>1</td>\n",
              "      <td>0</td>\n",
              "      <td>113803</td>\n",
              "      <td>53.1000</td>\n",
              "      <td>C123</td>\n",
              "      <td>S</td>\n",
              "    </tr>\n",
              "    <tr>\n",
              "      <th>4</th>\n",
              "      <td>5</td>\n",
              "      <td>0</td>\n",
              "      <td>3</td>\n",
              "      <td>Allen, Mr. William Henry</td>\n",
              "      <td>male</td>\n",
              "      <td>35.0</td>\n",
              "      <td>0</td>\n",
              "      <td>0</td>\n",
              "      <td>373450</td>\n",
              "      <td>8.0500</td>\n",
              "      <td>NaN</td>\n",
              "      <td>S</td>\n",
              "    </tr>\n",
              "  </tbody>\n",
              "</table>\n",
              "</div>"
            ],
            "text/plain": [
              "   PassengerId  Survived  Pclass  ...     Fare Cabin  Embarked\n",
              "0            1         0       3  ...   7.2500   NaN         S\n",
              "1            2         1       1  ...  71.2833   C85         C\n",
              "2            3         1       3  ...   7.9250   NaN         S\n",
              "3            4         1       1  ...  53.1000  C123         S\n",
              "4            5         0       3  ...   8.0500   NaN         S\n",
              "\n",
              "[5 rows x 12 columns]"
            ]
          },
          "metadata": {
            "tags": []
          },
          "execution_count": 38
        }
      ]
    },
    {
      "cell_type": "code",
      "metadata": {
        "colab": {
          "base_uri": "https://localhost:8080/"
        },
        "id": "wN8sE87OvYmT",
        "outputId": "2cf20a78-7519-4113-cfc5-bcd8d7fdb5ce"
      },
      "source": [
        "dataframe.shape"
      ],
      "execution_count": 39,
      "outputs": [
        {
          "output_type": "execute_result",
          "data": {
            "text/plain": [
              "(891, 12)"
            ]
          },
          "metadata": {
            "tags": []
          },
          "execution_count": 39
        }
      ]
    },
    {
      "cell_type": "code",
      "metadata": {
        "colab": {
          "base_uri": "https://localhost:8080/"
        },
        "id": "fAg1NlGft1KY",
        "outputId": "920d757c-5123-403b-ecc5-c52de6b50a8f"
      },
      "source": [
        "dataframe.isnull().sum()"
      ],
      "execution_count": 40,
      "outputs": [
        {
          "output_type": "execute_result",
          "data": {
            "text/plain": [
              "PassengerId      0\n",
              "Survived         0\n",
              "Pclass           0\n",
              "Name             0\n",
              "Sex              0\n",
              "Age            177\n",
              "SibSp            0\n",
              "Parch            0\n",
              "Ticket           0\n",
              "Fare             0\n",
              "Cabin          687\n",
              "Embarked         2\n",
              "dtype: int64"
            ]
          },
          "metadata": {
            "tags": []
          },
          "execution_count": 40
        }
      ]
    },
    {
      "cell_type": "code",
      "metadata": {
        "colab": {
          "base_uri": "https://localhost:8080/"
        },
        "id": "kSi9CfSYvexU",
        "outputId": "969eb8a3-41fb-448b-a5bc-b9c2238c12d5"
      },
      "source": [
        "dataframe.dtypes"
      ],
      "execution_count": 41,
      "outputs": [
        {
          "output_type": "execute_result",
          "data": {
            "text/plain": [
              "PassengerId      int64\n",
              "Survived         int64\n",
              "Pclass           int64\n",
              "Name            object\n",
              "Sex             object\n",
              "Age            float64\n",
              "SibSp            int64\n",
              "Parch            int64\n",
              "Ticket          object\n",
              "Fare           float64\n",
              "Cabin           object\n",
              "Embarked        object\n",
              "dtype: object"
            ]
          },
          "metadata": {
            "tags": []
          },
          "execution_count": 41
        }
      ]
    },
    {
      "cell_type": "code",
      "metadata": {
        "id": "s1-zWBewvjcK"
      },
      "source": [
        "mulheres = dataframe.loc[dataframe.Sex == 'female']['Survived']"
      ],
      "execution_count": 42,
      "outputs": []
    },
    {
      "cell_type": "code",
      "metadata": {
        "colab": {
          "base_uri": "https://localhost:8080/"
        },
        "id": "It4AsstwwCyN",
        "outputId": "9d0bbe60-77ae-45c3-a30a-f04c21100f1a"
      },
      "source": [
        "mulheres.tail()"
      ],
      "execution_count": 43,
      "outputs": [
        {
          "output_type": "execute_result",
          "data": {
            "text/plain": [
              "880    1\n",
              "882    0\n",
              "885    0\n",
              "887    1\n",
              "888    0\n",
              "Name: Survived, dtype: int64"
            ]
          },
          "metadata": {
            "tags": []
          },
          "execution_count": 43
        }
      ]
    },
    {
      "cell_type": "code",
      "metadata": {
        "colab": {
          "base_uri": "https://localhost:8080/"
        },
        "id": "R1m-8AsHv7Mt",
        "outputId": "2f60df5e-3c79-4bf1-9886-68d2f28ae38f"
      },
      "source": [
        "sum(mulheres)"
      ],
      "execution_count": 44,
      "outputs": [
        {
          "output_type": "execute_result",
          "data": {
            "text/plain": [
              "233"
            ]
          },
          "metadata": {
            "tags": []
          },
          "execution_count": 44
        }
      ]
    },
    {
      "cell_type": "code",
      "metadata": {
        "colab": {
          "base_uri": "https://localhost:8080/"
        },
        "id": "FYUSvybvwQzK",
        "outputId": "c130ce92-59f0-4ffd-81dd-bcfa6ae35471"
      },
      "source": [
        "len(mulheres)"
      ],
      "execution_count": 45,
      "outputs": [
        {
          "output_type": "execute_result",
          "data": {
            "text/plain": [
              "314"
            ]
          },
          "metadata": {
            "tags": []
          },
          "execution_count": 45
        }
      ]
    },
    {
      "cell_type": "code",
      "metadata": {
        "colab": {
          "base_uri": "https://localhost:8080/"
        },
        "id": "OUhOU9t-wXNz",
        "outputId": "dbfedbd2-34c0-43fa-ecb3-ae31e0667e89"
      },
      "source": [
        "mulheres_sobreviventes = sum(mulheres)/len(mulheres)\n",
        "mulheres_sobreviventes"
      ],
      "execution_count": 46,
      "outputs": [
        {
          "output_type": "execute_result",
          "data": {
            "text/plain": [
              "0.7420382165605095"
            ]
          },
          "metadata": {
            "tags": []
          },
          "execution_count": 46
        }
      ]
    },
    {
      "cell_type": "code",
      "metadata": {
        "colab": {
          "base_uri": "https://localhost:8080/"
        },
        "id": "5jPAtaqvvrVl",
        "outputId": "72879092-a287-4dab-ba15-f31d73b17d8f"
      },
      "source": [
        "mulheres.shape"
      ],
      "execution_count": 47,
      "outputs": [
        {
          "output_type": "execute_result",
          "data": {
            "text/plain": [
              "(314,)"
            ]
          },
          "metadata": {
            "tags": []
          },
          "execution_count": 47
        }
      ]
    },
    {
      "cell_type": "code",
      "metadata": {
        "colab": {
          "base_uri": "https://localhost:8080/"
        },
        "id": "SURKVx9lwcCR",
        "outputId": "ec7463c4-9f72-4b53-e919-7bb7449b25ae"
      },
      "source": [
        "# PANDAS LOC e ILOC\n",
        "homens = dataframe.loc[dataframe.Sex == 'male']['Survived']\n",
        "homens_sobreviventes = sum(homens)/len(homens)\n",
        "homens_sobreviventes"
      ],
      "execution_count": 48,
      "outputs": [
        {
          "output_type": "execute_result",
          "data": {
            "text/plain": [
              "0.18890814558058924"
            ]
          },
          "metadata": {
            "tags": []
          },
          "execution_count": 48
        }
      ]
    },
    {
      "cell_type": "code",
      "metadata": {
        "colab": {
          "base_uri": "https://localhost:8080/"
        },
        "id": "PkHSRLpEwqgX",
        "outputId": "7fb4be97-ad1d-4dea-e37c-0952832e29a2"
      },
      "source": [
        "dataframe['Sex'].value_counts()"
      ],
      "execution_count": 49,
      "outputs": [
        {
          "output_type": "execute_result",
          "data": {
            "text/plain": [
              "male      577\n",
              "female    314\n",
              "Name: Sex, dtype: int64"
            ]
          },
          "metadata": {
            "tags": []
          },
          "execution_count": 49
        }
      ]
    },
    {
      "cell_type": "code",
      "metadata": {
        "colab": {
          "base_uri": "https://localhost:8080/",
          "height": 281
        },
        "id": "-BgYrmZ4w3hl",
        "outputId": "4578ff8b-6080-451e-ce7b-0113179ab9cc"
      },
      "source": [
        "# MATPLOTLIB\n",
        "import matplotlib.pyplot as plt\n",
        "fig, ax = plt.subplots()\n",
        "ax.bar(1, len(homens), label='homens')\n",
        "ax.bar(2, len(mulheres), label='mulheres')\n",
        "ax.legend()\n",
        "ax.set_title('Quantidade de homens e mulheres no Titanic')\n",
        "ax.set_xticklabels(['','Homens', 'Mulheres'])\n",
        "plt.show()"
      ],
      "execution_count": 50,
      "outputs": [
        {
          "output_type": "display_data",
          "data": {
            "image/png": "[encoded data removed]",
            "text/plain": [
              "<Figure size 432x288 with 1 Axes>"
            ]
          },
          "metadata": {
            "tags": [],
            "needs_background": "light"
          }
        }
      ]
    },
    {
      "cell_type": "code",
      "metadata": {
        "colab": {
          "base_uri": "https://localhost:8080/",
          "height": 304
        },
        "id": "rPbHyqoy0mnl",
        "outputId": "f59c4a59-a603-4912-8495-6d3ef67ae111"
      },
      "source": [
        "import matplotlib.pyplot as plt\n",
        "fig, ax = plt.subplots()\n",
        "\n",
        "data = pd.Series([len(homens), len(mulheres)], index=['homens', 'mulheres'])\n",
        "data.plot.bar()\n",
        "plt.show()"
      ],
      "execution_count": 51,
      "outputs": [
        {
          "output_type": "display_data",
          "data": {
            "image/png": "[encoded data removed]",
            "text/plain": [
              "<Figure size 432x288 with 1 Axes>"
            ]
          },
          "metadata": {
            "tags": [],
            "needs_background": "light"
          }
        }
      ]
    },
    {
      "cell_type": "code",
      "metadata": {
        "colab": {
          "base_uri": "https://localhost:8080/",
          "height": 292
        },
        "id": "8xXLMaPW1F-K",
        "outputId": "80f9e4ad-a0fb-4b23-9528-592b85671a42"
      },
      "source": [
        "import matplotlib.pyplot as plt\n",
        "fig, ax = plt.subplots()\n",
        "dataframe['Sex'].value_counts().plot.bar()\n",
        "plt.legend()\n",
        "plt.show()"
      ],
      "execution_count": 52,
      "outputs": [
        {
          "output_type": "display_data",
          "data": {
            "image/png": "[encoded data removed]",
            "text/plain": [
              "<Figure size 432x288 with 1 Axes>"
            ]
          },
          "metadata": {
            "tags": [],
            "needs_background": "light"
          }
        }
      ]
    },
    {
      "cell_type": "code",
      "metadata": {
        "colab": {
          "base_uri": "https://localhost:8080/"
        },
        "id": "ayem99dg1Byx",
        "outputId": "c4df1104-4a39-4720-adfc-1efa01f89a00"
      },
      "source": [
        "data"
      ],
      "execution_count": 53,
      "outputs": [
        {
          "output_type": "execute_result",
          "data": {
            "text/plain": [
              "homens      577\n",
              "mulheres    314\n",
              "dtype: int64"
            ]
          },
          "metadata": {
            "tags": []
          },
          "execution_count": 53
        }
      ]
    },
    {
      "cell_type": "code",
      "metadata": {
        "colab": {
          "base_uri": "https://localhost:8080/",
          "height": 297
        },
        "id": "aPLmkdUL2UdW",
        "outputId": "99efba74-c737-477c-9325-4c16525b1bf7"
      },
      "source": [
        "import numpy as np\n",
        "\n",
        "total = [len(homens), len(mulheres)]\n",
        "sobreviventes = [sum(homens), sum(mulheres)]\n",
        "\n",
        "labels = ['homens', 'mulheres']\n",
        "\n",
        "x = np.arange(len(labels))  # the label locations\n",
        "width = 0.4  # the width of the bars\n",
        "\n",
        "fig, ax = plt.subplots()\n",
        "rects1 = ax.bar(x - width/2, total, width, label='Total')\n",
        "rects2 = ax.bar(x + width/2, sobreviventes, width, label='Sobreviventes')\n",
        "\n",
        "# Add some text for labels, title and custom x-axis tick labels, etc.\n",
        "ax.set_ylabel('Sex')\n",
        "ax.set_title('Scores by total and survived')\n",
        "ax.set_xticks(x)\n",
        "ax.set_xticklabels(labels)\n",
        "ax.legend()\n",
        "\n",
        "\n",
        "# def autolabel(rects):\n",
        "#     \"\"\"Attach a text label above each bar in *rects*, displaying its height.\"\"\"\n",
        "#     for rect in rects:\n",
        "#         height = rect.get_height()\n",
        "#         ax.annotate('{}'.format(height),\n",
        "#                     xy=(rect.get_x() + rect.get_width() / 2, height),\n",
        "#                     xytext=(0, 3),  # 3 points vertical offset\n",
        "#                     textcoords=\"offset points\",\n",
        "#                     ha='center', va='bottom')\n",
        "\n",
        "\n",
        "# autolabel(rects1)\n",
        "# autolabel(rects2)\n",
        "\n",
        "fig.tight_layout()\n",
        "\n",
        "plt.show()"
      ],
      "execution_count": 54,
      "outputs": [
        {
          "output_type": "display_data",
          "data": {
            "image/png": "[encoded data removed]",
            "text/plain": [
              "<Figure size 432x288 with 1 Axes>"
            ]
          },
          "metadata": {
            "tags": [],
            "needs_background": "light"
          }
        }
      ]
    },
    {
      "cell_type": "code",
      "metadata": {
        "id": "Ax1BiJbL4TR5"
      },
      "source": [
        "dic = {'total': [len(homens), len(mulheres)], 'sobreviventes': [sum(homens), sum(mulheres)]}"
      ],
      "execution_count": 55,
      "outputs": []
    },
    {
      "cell_type": "code",
      "metadata": {
        "colab": {
          "base_uri": "https://localhost:8080/"
        },
        "id": "Tk0Dukqi4iCf",
        "outputId": "350cea15-a306-4894-864f-deed8393d592"
      },
      "source": [
        "dic"
      ],
      "execution_count": 56,
      "outputs": [
        {
          "output_type": "execute_result",
          "data": {
            "text/plain": [
              "{'sobreviventes': [109, 233], 'total': [577, 314]}"
            ]
          },
          "metadata": {
            "tags": []
          },
          "execution_count": 56
        }
      ]
    },
    {
      "cell_type": "code",
      "metadata": {
        "id": "S7yFyea14j03"
      },
      "source": [
        "df = pd.DataFrame(dic, index=['homens', 'mulheres'])"
      ],
      "execution_count": 57,
      "outputs": []
    },
    {
      "cell_type": "code",
      "metadata": {
        "colab": {
          "base_uri": "https://localhost:8080/",
          "height": 111
        },
        "id": "Wdyx-GCn4ozK",
        "outputId": "eb6f534c-992f-42d3-a2bb-f9c4b715205d"
      },
      "source": [
        "df"
      ],
      "execution_count": 58,
      "outputs": [
        {
          "output_type": "execute_result",
          "data": {
            "text/html": [
              "<div>\n",
              "<style scoped>\n",
              "    .dataframe tbody tr th:only-of-type {\n",
              "        vertical-align: middle;\n",
              "    }\n",
              "\n",
              "    .dataframe tbody tr th {\n",
              "        vertical-align: top;\n",
              "    }\n",
              "\n",
              "    .dataframe thead th {\n",
              "        text-align: right;\n",
              "    }\n",
              "</style>\n",
              "<table border=\"1\" class=\"dataframe\">\n",
              "  <thead>\n",
              "    <tr style=\"text-align: right;\">\n",
              "      <th></th>\n",
              "      <th>total</th>\n",
              "      <th>sobreviventes</th>\n",
              "    </tr>\n",
              "  </thead>\n",
              "  <tbody>\n",
              "    <tr>\n",
              "      <th>homens</th>\n",
              "      <td>577</td>\n",
              "      <td>109</td>\n",
              "    </tr>\n",
              "    <tr>\n",
              "      <th>mulheres</th>\n",
              "      <td>314</td>\n",
              "      <td>233</td>\n",
              "    </tr>\n",
              "  </tbody>\n",
              "</table>\n",
              "</div>"
            ],
            "text/plain": [
              "          total  sobreviventes\n",
              "homens      577            109\n",
              "mulheres    314            233"
            ]
          },
          "metadata": {
            "tags": []
          },
          "execution_count": 58
        }
      ]
    },
    {
      "cell_type": "code",
      "metadata": {
        "colab": {
          "base_uri": "https://localhost:8080/",
          "height": 304
        },
        "id": "r6VNkBMl45aq",
        "outputId": "8f914407-7945-4966-dd21-08b1510c415e"
      },
      "source": [
        "df.plot.bar();"
      ],
      "execution_count": 59,
      "outputs": [
        {
          "output_type": "display_data",
          "data": {
            "image/png": "[encoded data removed]",
            "text/plain": [
              "<Figure size 432x288 with 1 Axes>"
            ]
          },
          "metadata": {
            "tags": [],
            "needs_background": "light"
          }
        }
      ]
    },
    {
      "cell_type": "code",
      "metadata": {
        "colab": {
          "base_uri": "https://localhost:8080/",
          "height": 265
        },
        "id": "I8em6YSK4wtK",
        "outputId": "8726df1a-acea-41d0-9377-edaa98766d92"
      },
      "source": [
        "df.plot.barh();"
      ],
      "execution_count": 60,
      "outputs": [
        {
          "output_type": "display_data",
          "data": {
            "image/png": "[encoded data removed]",
            "text/plain": [
              "<Figure size 432x288 with 1 Axes>"
            ]
          },
          "metadata": {
            "tags": [],
            "needs_background": "light"
          }
        }
      ]
    },
    {
      "cell_type": "code",
      "metadata": {
        "id": "-GaSFYZ6ausI"
      },
      "source": [
        ""
      ],
      "execution_count": 60,
      "outputs": []
    },
    {
      "cell_type": "code",
      "metadata": {
        "colab": {
          "base_uri": "https://localhost:8080/",
          "height": 265
        },
        "id": "Z8GGFJw85xZI",
        "outputId": "a7c18769-cf68-47ca-8f6e-7f45e75bc440"
      },
      "source": [
        "# HISTOGRAMA\n",
        "dataframe['Age'].hist(bins=30);"
      ],
      "execution_count": 61,
      "outputs": [
        {
          "output_type": "display_data",
          "data": {
            "image/png": "[encoded data removed]",
            "text/plain": [
              "<Figure size 432x288 with 1 Axes>"
            ]
          },
          "metadata": {
            "tags": [],
            "needs_background": "light"
          }
        }
      ]
    },
    {
      "cell_type": "code",
      "metadata": {
        "id": "qZtidHlMX6tV"
      },
      "source": [
        "sobreviventes = dataframe.query('Survived == 1')['Age']\n",
        "nao_sobreviventes = dataframe.query('Survived == 0')['Age']"
      ],
      "execution_count": 62,
      "outputs": []
    },
    {
      "cell_type": "code",
      "metadata": {
        "id": "3Rygq0TLY5OJ"
      },
      "source": [
        "sobreviventes.name='Sobreviventes'\n",
        "nao_sobreviventes.name='Não Sobreviventes'"
      ],
      "execution_count": 63,
      "outputs": []
    },
    {
      "cell_type": "code",
      "metadata": {
        "colab": {
          "base_uri": "https://localhost:8080/"
        },
        "id": "cMLAc4-NZDzz",
        "outputId": "778b196a-3783-4d1a-f984-417c52382897"
      },
      "source": [
        "sobreviventes"
      ],
      "execution_count": 64,
      "outputs": [
        {
          "output_type": "execute_result",
          "data": {
            "text/plain": [
              "1      38.0\n",
              "2      26.0\n",
              "3      35.0\n",
              "8      27.0\n",
              "9      14.0\n",
              "       ... \n",
              "875    15.0\n",
              "879    56.0\n",
              "880    25.0\n",
              "887    19.0\n",
              "889    26.0\n",
              "Name: Sobreviventes, Length: 342, dtype: float64"
            ]
          },
          "metadata": {
            "tags": []
          },
          "execution_count": 64
        }
      ]
    },
    {
      "cell_type": "code",
      "metadata": {
        "colab": {
          "base_uri": "https://localhost:8080/"
        },
        "id": "sWwpCMznYLSK",
        "outputId": "9cea8fb4-64f0-4f9a-ef98-03717ae55123"
      },
      "source": [
        "sobreviventes.dtypes"
      ],
      "execution_count": 65,
      "outputs": [
        {
          "output_type": "execute_result",
          "data": {
            "text/plain": [
              "dtype('float64')"
            ]
          },
          "metadata": {
            "tags": []
          },
          "execution_count": 65
        }
      ]
    },
    {
      "cell_type": "code",
      "metadata": {
        "colab": {
          "base_uri": "https://localhost:8080/",
          "height": 279
        },
        "id": "FLFDupMEYZg9",
        "outputId": "ae454194-1224-4ced-9f9f-961100fbe2ec"
      },
      "source": [
        "# import matplotlib.pyplot as plt\n",
        "plt.hist(nao_sobreviventes, alpha=0.5, color='r', bins=30)\n",
        "plt.hist(sobreviventes, alpha=0.5, color='g', bins=30)\n",
        "plt.legend(['Não Sobreviventes', 'Sobreviventes'])\n",
        "plt.xlabel('Idade')\n",
        "plt.ylabel('Quantidade')\n",
        "plt.show();"
      ],
      "execution_count": 66,
      "outputs": [
        {
          "output_type": "display_data",
          "data": {
            "image/png": "[encoded data removed]",
            "text/plain": [
              "<Figure size 432x288 with 1 Axes>"
            ]
          },
          "metadata": {
            "tags": [],
            "needs_background": "light"
          }
        }
      ]
    },
    {
      "cell_type": "code",
      "metadata": {
        "id": "niDj1PXwbgXi"
      },
      "source": [
        "plt.figure = plt.figure"
      ],
      "execution_count": 67,
      "outputs": []
    },
    {
      "cell_type": "code",
      "metadata": {
        "id": "3prWJdC4aDnW"
      },
      "source": [
        "sobreviventes_s = dataframe.query('Survived == 1')['Sex']\n",
        "nao_sobreviventes_s = dataframe.query('Survived == 0')['Sex']"
      ],
      "execution_count": 68,
      "outputs": []
    },
    {
      "cell_type": "code",
      "metadata": {
        "colab": {
          "base_uri": "https://localhost:8080/",
          "height": 279
        },
        "id": "m-ORYjrxaHrw",
        "outputId": "7d5c2c06-0d14-4517-940f-552410af4f31"
      },
      "source": [
        "plt.hist(nao_sobreviventes_s, alpha=0.5, color='r', label='Não Sobreviventes')\n",
        "plt.hist(sobreviventes_s, alpha=0.5, color='g', label='Sobreviventes')\n",
        "plt.legend()\n",
        "plt.xlabel('Sexo')\n",
        "plt.ylabel('Quantidade')\n",
        "plt.show();"
      ],
      "execution_count": 113,
      "outputs": [
        {
          "output_type": "display_data",
          "data": {
            "image/png": "[encoded data removed]",
            "text/plain": [
              "<Figure size 432x288 with 1 Axes>"
            ]
          },
          "metadata": {
            "tags": [],
            "needs_background": "light"
          }
        }
      ]
    },
    {
      "cell_type": "code",
      "metadata": {
        "colab": {
          "base_uri": "https://localhost:8080/",
          "height": 283
        },
        "id": "HtIMG1TlWyvq",
        "outputId": "fb23df2e-cffa-4887-9894-924a57f8f553"
      },
      "source": [
        "dataframe['Age'].hist(by=dataframe['Survived']);"
      ],
      "execution_count": 70,
      "outputs": [
        {
          "output_type": "display_data",
          "data": {
            "image/png": "[encoded data removed]",
            "text/plain": [
              "<Figure size 432x288 with 2 Axes>"
            ]
          },
          "metadata": {
            "tags": [],
            "needs_background": "light"
          }
        }
      ]
    },
    {
      "cell_type": "code",
      "metadata": {
        "colab": {
          "base_uri": "https://localhost:8080/",
          "height": 304
        },
        "id": "Xuw4BGF8W9Jn",
        "outputId": "28372cfd-378b-41b9-b471-817325b0d706"
      },
      "source": [
        "dataframe['Sex'].hist(by=dataframe['Survived']);"
      ],
      "execution_count": 71,
      "outputs": [
        {
          "output_type": "display_data",
          "data": {
            "image/png": "[encoded data removed]",
            "text/plain": [
              "<Figure size 432x288 with 2 Axes>"
            ]
          },
          "metadata": {
            "tags": [],
            "needs_background": "light"
          }
        }
      ]
    },
    {
      "cell_type": "code",
      "metadata": {
        "colab": {
          "base_uri": "https://localhost:8080/",
          "height": 286
        },
        "id": "75qKC4RP56qu",
        "outputId": "bf23e77c-d6d0-491b-e057-a647d530aefc"
      },
      "source": [
        "dataframe['Pclass'].hist(by=dataframe['Survived']);"
      ],
      "execution_count": 72,
      "outputs": [
        {
          "output_type": "display_data",
          "data": {
            "image/png": "[encoded data removed]",
            "text/plain": [
              "<Figure size 432x288 with 2 Axes>"
            ]
          },
          "metadata": {
            "tags": [],
            "needs_background": "light"
          }
        }
      ]
    },
    {
      "cell_type": "code",
      "metadata": {
        "colab": {
          "base_uri": "https://localhost:8080/",
          "height": 266
        },
        "id": "v92UZuJNCE-v",
        "outputId": "859127d5-3152-440b-ba94-cc73d33507e4"
      },
      "source": [
        "dataframe.corr()"
      ],
      "execution_count": 73,
      "outputs": [
        {
          "output_type": "execute_result",
          "data": {
            "text/html": [
              "<div>\n",
              "<style scoped>\n",
              "    .dataframe tbody tr th:only-of-type {\n",
              "        vertical-align: middle;\n",
              "    }\n",
              "\n",
              "    .dataframe tbody tr th {\n",
              "        vertical-align: top;\n",
              "    }\n",
              "\n",
              "    .dataframe thead th {\n",
              "        text-align: right;\n",
              "    }\n",
              "</style>\n",
              "<table border=\"1\" class=\"dataframe\">\n",
              "  <thead>\n",
              "    <tr style=\"text-align: right;\">\n",
              "      <th></th>\n",
              "      <th>PassengerId</th>\n",
              "      <th>Survived</th>\n",
              "      <th>Pclass</th>\n",
              "      <th>Age</th>\n",
              "      <th>SibSp</th>\n",
              "      <th>Parch</th>\n",
              "      <th>Fare</th>\n",
              "    </tr>\n",
              "  </thead>\n",
              "  <tbody>\n",
              "    <tr>\n",
              "      <th>PassengerId</th>\n",
              "      <td>1.000000</td>\n",
              "      <td>-0.005007</td>\n",
              "      <td>-0.035144</td>\n",
              "      <td>0.036847</td>\n",
              "      <td>-0.057527</td>\n",
              "      <td>-0.001652</td>\n",
              "      <td>0.012658</td>\n",
              "    </tr>\n",
              "    <tr>\n",
              "      <th>Survived</th>\n",
              "      <td>-0.005007</td>\n",
              "      <td>1.000000</td>\n",
              "      <td>-0.338481</td>\n",
              "      <td>-0.077221</td>\n",
              "      <td>-0.035322</td>\n",
              "      <td>0.081629</td>\n",
              "      <td>0.257307</td>\n",
              "    </tr>\n",
              "    <tr>\n",
              "      <th>Pclass</th>\n",
              "      <td>-0.035144</td>\n",
              "      <td>-0.338481</td>\n",
              "      <td>1.000000</td>\n",
              "      <td>-0.369226</td>\n",
              "      <td>0.083081</td>\n",
              "      <td>0.018443</td>\n",
              "      <td>-0.549500</td>\n",
              "    </tr>\n",
              "    <tr>\n",
              "      <th>Age</th>\n",
              "      <td>0.036847</td>\n",
              "      <td>-0.077221</td>\n",
              "      <td>-0.369226</td>\n",
              "      <td>1.000000</td>\n",
              "      <td>-0.308247</td>\n",
              "      <td>-0.189119</td>\n",
              "      <td>0.096067</td>\n",
              "    </tr>\n",
              "    <tr>\n",
              "      <th>SibSp</th>\n",
              "      <td>-0.057527</td>\n",
              "      <td>-0.035322</td>\n",
              "      <td>0.083081</td>\n",
              "      <td>-0.308247</td>\n",
              "      <td>1.000000</td>\n",
              "      <td>0.414838</td>\n",
              "      <td>0.159651</td>\n",
              "    </tr>\n",
              "    <tr>\n",
              "      <th>Parch</th>\n",
              "      <td>-0.001652</td>\n",
              "      <td>0.081629</td>\n",
              "      <td>0.018443</td>\n",
              "      <td>-0.189119</td>\n",
              "      <td>0.414838</td>\n",
              "      <td>1.000000</td>\n",
              "      <td>0.216225</td>\n",
              "    </tr>\n",
              "    <tr>\n",
              "      <th>Fare</th>\n",
              "      <td>0.012658</td>\n",
              "      <td>0.257307</td>\n",
              "      <td>-0.549500</td>\n",
              "      <td>0.096067</td>\n",
              "      <td>0.159651</td>\n",
              "      <td>0.216225</td>\n",
              "      <td>1.000000</td>\n",
              "    </tr>\n",
              "  </tbody>\n",
              "</table>\n",
              "</div>"
            ],
            "text/plain": [
              "             PassengerId  Survived    Pclass  ...     SibSp     Parch      Fare\n",
              "PassengerId     1.000000 -0.005007 -0.035144  ... -0.057527 -0.001652  0.012658\n",
              "Survived       -0.005007  1.000000 -0.338481  ... -0.035322  0.081629  0.257307\n",
              "Pclass         -0.035144 -0.338481  1.000000  ...  0.083081  0.018443 -0.549500\n",
              "Age             0.036847 -0.077221 -0.369226  ... -0.308247 -0.189119  0.096067\n",
              "SibSp          -0.057527 -0.035322  0.083081  ...  1.000000  0.414838  0.159651\n",
              "Parch          -0.001652  0.081629  0.018443  ...  0.414838  1.000000  0.216225\n",
              "Fare            0.012658  0.257307 -0.549500  ...  0.159651  0.216225  1.000000\n",
              "\n",
              "[7 rows x 7 columns]"
            ]
          },
          "metadata": {
            "tags": []
          },
          "execution_count": 73
        }
      ]
    },
    {
      "cell_type": "code",
      "metadata": {
        "id": "BXr9Op4gCE8G"
      },
      "source": [
        "dataframe['Sex'] = dataframe['Sex'].map({'male': 0, 'female': 1})"
      ],
      "execution_count": 74,
      "outputs": []
    },
    {
      "cell_type": "code",
      "metadata": {
        "colab": {
          "base_uri": "https://localhost:8080/",
          "height": 255
        },
        "id": "Hgwmoi4yCE5c",
        "outputId": "756517c7-7fae-43be-bf33-b8e93efa88c4"
      },
      "source": [
        "dataframe.head()"
      ],
      "execution_count": 75,
      "outputs": [
        {
          "output_type": "execute_result",
          "data": {
            "text/html": [
              "<div>\n",
              "<style scoped>\n",
              "    .dataframe tbody tr th:only-of-type {\n",
              "        vertical-align: middle;\n",
              "    }\n",
              "\n",
              "    .dataframe tbody tr th {\n",
              "        vertical-align: top;\n",
              "    }\n",
              "\n",
              "    .dataframe thead th {\n",
              "        text-align: right;\n",
              "    }\n",
              "</style>\n",
              "<table border=\"1\" class=\"dataframe\">\n",
              "  <thead>\n",
              "    <tr style=\"text-align: right;\">\n",
              "      <th></th>\n",
              "      <th>PassengerId</th>\n",
              "      <th>Survived</th>\n",
              "      <th>Pclass</th>\n",
              "      <th>Name</th>\n",
              "      <th>Sex</th>\n",
              "      <th>Age</th>\n",
              "      <th>SibSp</th>\n",
              "      <th>Parch</th>\n",
              "      <th>Ticket</th>\n",
              "      <th>Fare</th>\n",
              "      <th>Cabin</th>\n",
              "      <th>Embarked</th>\n",
              "    </tr>\n",
              "  </thead>\n",
              "  <tbody>\n",
              "    <tr>\n",
              "      <th>0</th>\n",
              "      <td>1</td>\n",
              "      <td>0</td>\n",
              "      <td>3</td>\n",
              "      <td>Braund, Mr. Owen Harris</td>\n",
              "      <td>0</td>\n",
              "      <td>22.0</td>\n",
              "      <td>1</td>\n",
              "      <td>0</td>\n",
              "      <td>A/5 21171</td>\n",
              "      <td>7.2500</td>\n",
              "      <td>NaN</td>\n",
              "      <td>S</td>\n",
              "    </tr>\n",
              "    <tr>\n",
              "      <th>1</th>\n",
              "      <td>2</td>\n",
              "      <td>1</td>\n",
              "      <td>1</td>\n",
              "      <td>Cumings, Mrs. John Bradley (Florence Briggs Th...</td>\n",
              "      <td>1</td>\n",
              "      <td>38.0</td>\n",
              "      <td>1</td>\n",
              "      <td>0</td>\n",
              "      <td>PC 17599</td>\n",
              "      <td>71.2833</td>\n",
              "      <td>C85</td>\n",
              "      <td>C</td>\n",
              "    </tr>\n",
              "    <tr>\n",
              "      <th>2</th>\n",
              "      <td>3</td>\n",
              "      <td>1</td>\n",
              "      <td>3</td>\n",
              "      <td>Heikkinen, Miss. Laina</td>\n",
              "      <td>1</td>\n",
              "      <td>26.0</td>\n",
              "      <td>0</td>\n",
              "      <td>0</td>\n",
              "      <td>STON/O2. 3101282</td>\n",
              "      <td>7.9250</td>\n",
              "      <td>NaN</td>\n",
              "      <td>S</td>\n",
              "    </tr>\n",
              "    <tr>\n",
              "      <th>3</th>\n",
              "      <td>4</td>\n",
              "      <td>1</td>\n",
              "      <td>1</td>\n",
              "      <td>Futrelle, Mrs. Jacques Heath (Lily May Peel)</td>\n",
              "      <td>1</td>\n",
              "      <td>35.0</td>\n",
              "      <td>1</td>\n",
              "      <td>0</td>\n",
              "      <td>113803</td>\n",
              "      <td>53.1000</td>\n",
              "      <td>C123</td>\n",
              "      <td>S</td>\n",
              "    </tr>\n",
              "    <tr>\n",
              "      <th>4</th>\n",
              "      <td>5</td>\n",
              "      <td>0</td>\n",
              "      <td>3</td>\n",
              "      <td>Allen, Mr. William Henry</td>\n",
              "      <td>0</td>\n",
              "      <td>35.0</td>\n",
              "      <td>0</td>\n",
              "      <td>0</td>\n",
              "      <td>373450</td>\n",
              "      <td>8.0500</td>\n",
              "      <td>NaN</td>\n",
              "      <td>S</td>\n",
              "    </tr>\n",
              "  </tbody>\n",
              "</table>\n",
              "</div>"
            ],
            "text/plain": [
              "   PassengerId  Survived  Pclass  ...     Fare  Cabin  Embarked\n",
              "0            1         0       3  ...   7.2500    NaN         S\n",
              "1            2         1       1  ...  71.2833    C85         C\n",
              "2            3         1       3  ...   7.9250    NaN         S\n",
              "3            4         1       1  ...  53.1000   C123         S\n",
              "4            5         0       3  ...   8.0500    NaN         S\n",
              "\n",
              "[5 rows x 12 columns]"
            ]
          },
          "metadata": {
            "tags": []
          },
          "execution_count": 75
        }
      ]
    },
    {
      "cell_type": "code",
      "metadata": {
        "colab": {
          "base_uri": "https://localhost:8080/",
          "height": 297
        },
        "id": "P7cTvCUGE8kv",
        "outputId": "2ddad81d-4078-4dad-d6ea-7c4f7299965c"
      },
      "source": [
        "dataframe.describe()"
      ],
      "execution_count": 76,
      "outputs": [
        {
          "output_type": "execute_result",
          "data": {
            "text/html": [
              "<div>\n",
              "<style scoped>\n",
              "    .dataframe tbody tr th:only-of-type {\n",
              "        vertical-align: middle;\n",
              "    }\n",
              "\n",
              "    .dataframe tbody tr th {\n",
              "        vertical-align: top;\n",
              "    }\n",
              "\n",
              "    .dataframe thead th {\n",
              "        text-align: right;\n",
              "    }\n",
              "</style>\n",
              "<table border=\"1\" class=\"dataframe\">\n",
              "  <thead>\n",
              "    <tr style=\"text-align: right;\">\n",
              "      <th></th>\n",
              "      <th>PassengerId</th>\n",
              "      <th>Survived</th>\n",
              "      <th>Pclass</th>\n",
              "      <th>Sex</th>\n",
              "      <th>Age</th>\n",
              "      <th>SibSp</th>\n",
              "      <th>Parch</th>\n",
              "      <th>Fare</th>\n",
              "    </tr>\n",
              "  </thead>\n",
              "  <tbody>\n",
              "    <tr>\n",
              "      <th>count</th>\n",
              "      <td>891.000000</td>\n",
              "      <td>891.000000</td>\n",
              "      <td>891.000000</td>\n",
              "      <td>891.000000</td>\n",
              "      <td>714.000000</td>\n",
              "      <td>891.000000</td>\n",
              "      <td>891.000000</td>\n",
              "      <td>891.000000</td>\n",
              "    </tr>\n",
              "    <tr>\n",
              "      <th>mean</th>\n",
              "      <td>446.000000</td>\n",
              "      <td>0.383838</td>\n",
              "      <td>2.308642</td>\n",
              "      <td>0.352413</td>\n",
              "      <td>29.699118</td>\n",
              "      <td>0.523008</td>\n",
              "      <td>0.381594</td>\n",
              "      <td>32.204208</td>\n",
              "    </tr>\n",
              "    <tr>\n",
              "      <th>std</th>\n",
              "      <td>257.353842</td>\n",
              "      <td>0.486592</td>\n",
              "      <td>0.836071</td>\n",
              "      <td>0.477990</td>\n",
              "      <td>14.526497</td>\n",
              "      <td>1.102743</td>\n",
              "      <td>0.806057</td>\n",
              "      <td>49.693429</td>\n",
              "    </tr>\n",
              "    <tr>\n",
              "      <th>min</th>\n",
              "      <td>1.000000</td>\n",
              "      <td>0.000000</td>\n",
              "      <td>1.000000</td>\n",
              "      <td>0.000000</td>\n",
              "      <td>0.420000</td>\n",
              "      <td>0.000000</td>\n",
              "      <td>0.000000</td>\n",
              "      <td>0.000000</td>\n",
              "    </tr>\n",
              "    <tr>\n",
              "      <th>25%</th>\n",
              "      <td>223.500000</td>\n",
              "      <td>0.000000</td>\n",
              "      <td>2.000000</td>\n",
              "      <td>0.000000</td>\n",
              "      <td>20.125000</td>\n",
              "      <td>0.000000</td>\n",
              "      <td>0.000000</td>\n",
              "      <td>7.910400</td>\n",
              "    </tr>\n",
              "    <tr>\n",
              "      <th>50%</th>\n",
              "      <td>446.000000</td>\n",
              "      <td>0.000000</td>\n",
              "      <td>3.000000</td>\n",
              "      <td>0.000000</td>\n",
              "      <td>28.000000</td>\n",
              "      <td>0.000000</td>\n",
              "      <td>0.000000</td>\n",
              "      <td>14.454200</td>\n",
              "    </tr>\n",
              "    <tr>\n",
              "      <th>75%</th>\n",
              "      <td>668.500000</td>\n",
              "      <td>1.000000</td>\n",
              "      <td>3.000000</td>\n",
              "      <td>1.000000</td>\n",
              "      <td>38.000000</td>\n",
              "      <td>1.000000</td>\n",
              "      <td>0.000000</td>\n",
              "      <td>31.000000</td>\n",
              "    </tr>\n",
              "    <tr>\n",
              "      <th>max</th>\n",
              "      <td>891.000000</td>\n",
              "      <td>1.000000</td>\n",
              "      <td>3.000000</td>\n",
              "      <td>1.000000</td>\n",
              "      <td>80.000000</td>\n",
              "      <td>8.000000</td>\n",
              "      <td>6.000000</td>\n",
              "      <td>512.329200</td>\n",
              "    </tr>\n",
              "  </tbody>\n",
              "</table>\n",
              "</div>"
            ],
            "text/plain": [
              "       PassengerId    Survived      Pclass  ...       SibSp       Parch        Fare\n",
              "count   891.000000  891.000000  891.000000  ...  891.000000  891.000000  891.000000\n",
              "mean    446.000000    0.383838    2.308642  ...    0.523008    0.381594   32.204208\n",
              "std     257.353842    0.486592    0.836071  ...    1.102743    0.806057   49.693429\n",
              "min       1.000000    0.000000    1.000000  ...    0.000000    0.000000    0.000000\n",
              "25%     223.500000    0.000000    2.000000  ...    0.000000    0.000000    7.910400\n",
              "50%     446.000000    0.000000    3.000000  ...    0.000000    0.000000   14.454200\n",
              "75%     668.500000    1.000000    3.000000  ...    1.000000    0.000000   31.000000\n",
              "max     891.000000    1.000000    3.000000  ...    8.000000    6.000000  512.329200\n",
              "\n",
              "[8 rows x 8 columns]"
            ]
          },
          "metadata": {
            "tags": []
          },
          "execution_count": 76
        }
      ]
    },
    {
      "cell_type": "code",
      "metadata": {
        "colab": {
          "base_uri": "https://localhost:8080/"
        },
        "id": "evjV9HlJCE2x",
        "outputId": "132048a9-d939-420f-fecc-58bf8506a3af"
      },
      "source": [
        "dataframe.isnull().sum()"
      ],
      "execution_count": 77,
      "outputs": [
        {
          "output_type": "execute_result",
          "data": {
            "text/plain": [
              "PassengerId      0\n",
              "Survived         0\n",
              "Pclass           0\n",
              "Name             0\n",
              "Sex              0\n",
              "Age            177\n",
              "SibSp            0\n",
              "Parch            0\n",
              "Ticket           0\n",
              "Fare             0\n",
              "Cabin          687\n",
              "Embarked         2\n",
              "dtype: int64"
            ]
          },
          "metadata": {
            "tags": []
          },
          "execution_count": 77
        }
      ]
    },
    {
      "cell_type": "code",
      "metadata": {
        "id": "b64-AVfGCE0H"
      },
      "source": [
        ""
      ],
      "execution_count": 77,
      "outputs": []
    },
    {
      "cell_type": "code",
      "metadata": {
        "id": "W4k6xzb2t6OI"
      },
      "source": [
        "dataframe.dropna(subset=['Age'], inplace=True)"
      ],
      "execution_count": 78,
      "outputs": []
    },
    {
      "cell_type": "code",
      "metadata": {
        "colab": {
          "base_uri": "https://localhost:8080/",
          "height": 255
        },
        "id": "zT1rEXBKuSHW",
        "outputId": "95925059-cfbc-4398-b2ff-2bc22b179ecb"
      },
      "source": [
        "dataframe.head()"
      ],
      "execution_count": 79,
      "outputs": [
        {
          "output_type": "execute_result",
          "data": {
            "text/html": [
              "<div>\n",
              "<style scoped>\n",
              "    .dataframe tbody tr th:only-of-type {\n",
              "        vertical-align: middle;\n",
              "    }\n",
              "\n",
              "    .dataframe tbody tr th {\n",
              "        vertical-align: top;\n",
              "    }\n",
              "\n",
              "    .dataframe thead th {\n",
              "        text-align: right;\n",
              "    }\n",
              "</style>\n",
              "<table border=\"1\" class=\"dataframe\">\n",
              "  <thead>\n",
              "    <tr style=\"text-align: right;\">\n",
              "      <th></th>\n",
              "      <th>PassengerId</th>\n",
              "      <th>Survived</th>\n",
              "      <th>Pclass</th>\n",
              "      <th>Name</th>\n",
              "      <th>Sex</th>\n",
              "      <th>Age</th>\n",
              "      <th>SibSp</th>\n",
              "      <th>Parch</th>\n",
              "      <th>Ticket</th>\n",
              "      <th>Fare</th>\n",
              "      <th>Cabin</th>\n",
              "      <th>Embarked</th>\n",
              "    </tr>\n",
              "  </thead>\n",
              "  <tbody>\n",
              "    <tr>\n",
              "      <th>0</th>\n",
              "      <td>1</td>\n",
              "      <td>0</td>\n",
              "      <td>3</td>\n",
              "      <td>Braund, Mr. Owen Harris</td>\n",
              "      <td>0</td>\n",
              "      <td>22.0</td>\n",
              "      <td>1</td>\n",
              "      <td>0</td>\n",
              "      <td>A/5 21171</td>\n",
              "      <td>7.2500</td>\n",
              "      <td>NaN</td>\n",
              "      <td>S</td>\n",
              "    </tr>\n",
              "    <tr>\n",
              "      <th>1</th>\n",
              "      <td>2</td>\n",
              "      <td>1</td>\n",
              "      <td>1</td>\n",
              "      <td>Cumings, Mrs. John Bradley (Florence Briggs Th...</td>\n",
              "      <td>1</td>\n",
              "      <td>38.0</td>\n",
              "      <td>1</td>\n",
              "      <td>0</td>\n",
              "      <td>PC 17599</td>\n",
              "      <td>71.2833</td>\n",
              "      <td>C85</td>\n",
              "      <td>C</td>\n",
              "    </tr>\n",
              "    <tr>\n",
              "      <th>2</th>\n",
              "      <td>3</td>\n",
              "      <td>1</td>\n",
              "      <td>3</td>\n",
              "      <td>Heikkinen, Miss. Laina</td>\n",
              "      <td>1</td>\n",
              "      <td>26.0</td>\n",
              "      <td>0</td>\n",
              "      <td>0</td>\n",
              "      <td>STON/O2. 3101282</td>\n",
              "      <td>7.9250</td>\n",
              "      <td>NaN</td>\n",
              "      <td>S</td>\n",
              "    </tr>\n",
              "    <tr>\n",
              "      <th>3</th>\n",
              "      <td>4</td>\n",
              "      <td>1</td>\n",
              "      <td>1</td>\n",
              "      <td>Futrelle, Mrs. Jacques Heath (Lily May Peel)</td>\n",
              "      <td>1</td>\n",
              "      <td>35.0</td>\n",
              "      <td>1</td>\n",
              "      <td>0</td>\n",
              "      <td>113803</td>\n",
              "      <td>53.1000</td>\n",
              "      <td>C123</td>\n",
              "      <td>S</td>\n",
              "    </tr>\n",
              "    <tr>\n",
              "      <th>4</th>\n",
              "      <td>5</td>\n",
              "      <td>0</td>\n",
              "      <td>3</td>\n",
              "      <td>Allen, Mr. William Henry</td>\n",
              "      <td>0</td>\n",
              "      <td>35.0</td>\n",
              "      <td>0</td>\n",
              "      <td>0</td>\n",
              "      <td>373450</td>\n",
              "      <td>8.0500</td>\n",
              "      <td>NaN</td>\n",
              "      <td>S</td>\n",
              "    </tr>\n",
              "  </tbody>\n",
              "</table>\n",
              "</div>"
            ],
            "text/plain": [
              "   PassengerId  Survived  Pclass  ...     Fare  Cabin  Embarked\n",
              "0            1         0       3  ...   7.2500    NaN         S\n",
              "1            2         1       1  ...  71.2833    C85         C\n",
              "2            3         1       3  ...   7.9250    NaN         S\n",
              "3            4         1       1  ...  53.1000   C123         S\n",
              "4            5         0       3  ...   8.0500    NaN         S\n",
              "\n",
              "[5 rows x 12 columns]"
            ]
          },
          "metadata": {
            "tags": []
          },
          "execution_count": 79
        }
      ]
    },
    {
      "cell_type": "code",
      "metadata": {
        "colab": {
          "base_uri": "https://localhost:8080/"
        },
        "id": "583dcQAWuTFX",
        "outputId": "f0efbc50-8c38-4997-8327-589c0df5ab30"
      },
      "source": [
        "dataframe.shape"
      ],
      "execution_count": 80,
      "outputs": [
        {
          "output_type": "execute_result",
          "data": {
            "text/plain": [
              "(714, 12)"
            ]
          },
          "metadata": {
            "tags": []
          },
          "execution_count": 80
        }
      ]
    },
    {
      "cell_type": "code",
      "metadata": {
        "id": "NYr7az-PuVyE"
      },
      "source": [
        "X = dataframe.drop(columns=['PassengerId', 'Survived', 'Name', 'Ticket', 'Embarked', 'Cabin'])"
      ],
      "execution_count": 81,
      "outputs": []
    },
    {
      "cell_type": "code",
      "metadata": {
        "colab": {
          "base_uri": "https://localhost:8080/",
          "height": 204
        },
        "id": "a8ufsS0mupGq",
        "outputId": "91058c47-904a-4cbb-9a21-384d6c6e84f9"
      },
      "source": [
        "X.head()"
      ],
      "execution_count": 82,
      "outputs": [
        {
          "output_type": "execute_result",
          "data": {
            "text/html": [
              "<div>\n",
              "<style scoped>\n",
              "    .dataframe tbody tr th:only-of-type {\n",
              "        vertical-align: middle;\n",
              "    }\n",
              "\n",
              "    .dataframe tbody tr th {\n",
              "        vertical-align: top;\n",
              "    }\n",
              "\n",
              "    .dataframe thead th {\n",
              "        text-align: right;\n",
              "    }\n",
              "</style>\n",
              "<table border=\"1\" class=\"dataframe\">\n",
              "  <thead>\n",
              "    <tr style=\"text-align: right;\">\n",
              "      <th></th>\n",
              "      <th>Pclass</th>\n",
              "      <th>Sex</th>\n",
              "      <th>Age</th>\n",
              "      <th>SibSp</th>\n",
              "      <th>Parch</th>\n",
              "      <th>Fare</th>\n",
              "    </tr>\n",
              "  </thead>\n",
              "  <tbody>\n",
              "    <tr>\n",
              "      <th>0</th>\n",
              "      <td>3</td>\n",
              "      <td>0</td>\n",
              "      <td>22.0</td>\n",
              "      <td>1</td>\n",
              "      <td>0</td>\n",
              "      <td>7.2500</td>\n",
              "    </tr>\n",
              "    <tr>\n",
              "      <th>1</th>\n",
              "      <td>1</td>\n",
              "      <td>1</td>\n",
              "      <td>38.0</td>\n",
              "      <td>1</td>\n",
              "      <td>0</td>\n",
              "      <td>71.2833</td>\n",
              "    </tr>\n",
              "    <tr>\n",
              "      <th>2</th>\n",
              "      <td>3</td>\n",
              "      <td>1</td>\n",
              "      <td>26.0</td>\n",
              "      <td>0</td>\n",
              "      <td>0</td>\n",
              "      <td>7.9250</td>\n",
              "    </tr>\n",
              "    <tr>\n",
              "      <th>3</th>\n",
              "      <td>1</td>\n",
              "      <td>1</td>\n",
              "      <td>35.0</td>\n",
              "      <td>1</td>\n",
              "      <td>0</td>\n",
              "      <td>53.1000</td>\n",
              "    </tr>\n",
              "    <tr>\n",
              "      <th>4</th>\n",
              "      <td>3</td>\n",
              "      <td>0</td>\n",
              "      <td>35.0</td>\n",
              "      <td>0</td>\n",
              "      <td>0</td>\n",
              "      <td>8.0500</td>\n",
              "    </tr>\n",
              "  </tbody>\n",
              "</table>\n",
              "</div>"
            ],
            "text/plain": [
              "   Pclass  Sex   Age  SibSp  Parch     Fare\n",
              "0       3    0  22.0      1      0   7.2500\n",
              "1       1    1  38.0      1      0  71.2833\n",
              "2       3    1  26.0      0      0   7.9250\n",
              "3       1    1  35.0      1      0  53.1000\n",
              "4       3    0  35.0      0      0   8.0500"
            ]
          },
          "metadata": {
            "tags": []
          },
          "execution_count": 82
        }
      ]
    },
    {
      "cell_type": "code",
      "metadata": {
        "colab": {
          "base_uri": "https://localhost:8080/"
        },
        "id": "8ElUrTpqKx90",
        "outputId": "68f99cad-c2f9-4d87-8a1e-8fdc4f0768c9"
      },
      "source": [
        "X.isnull().sum()"
      ],
      "execution_count": 83,
      "outputs": [
        {
          "output_type": "execute_result",
          "data": {
            "text/plain": [
              "Pclass    0\n",
              "Sex       0\n",
              "Age       0\n",
              "SibSp     0\n",
              "Parch     0\n",
              "Fare      0\n",
              "dtype: int64"
            ]
          },
          "metadata": {
            "tags": []
          },
          "execution_count": 83
        }
      ]
    },
    {
      "cell_type": "code",
      "metadata": {
        "id": "RK7ixEMwuqKP"
      },
      "source": [
        "y = dataframe['Survived']"
      ],
      "execution_count": 84,
      "outputs": []
    },
    {
      "cell_type": "code",
      "metadata": {
        "colab": {
          "base_uri": "https://localhost:8080/"
        },
        "id": "t2RG8HriJpw8",
        "outputId": "d406cfae-bce1-47ac-f361-f273e976f222"
      },
      "source": [
        "y.head()"
      ],
      "execution_count": 85,
      "outputs": [
        {
          "output_type": "execute_result",
          "data": {
            "text/plain": [
              "0    0\n",
              "1    1\n",
              "2    1\n",
              "3    1\n",
              "4    0\n",
              "Name: Survived, dtype: int64"
            ]
          },
          "metadata": {
            "tags": []
          },
          "execution_count": 85
        }
      ]
    },
    {
      "cell_type": "code",
      "metadata": {
        "id": "kImfebNhJqxh"
      },
      "source": [
        "from sklearn.model_selection import train_test_split"
      ],
      "execution_count": 86,
      "outputs": []
    },
    {
      "cell_type": "code",
      "metadata": {
        "id": "bnbUmIkKJ6J8"
      },
      "source": [
        "X_train, X_test, y_train, y_test = train_test_split(X, y, test_size=0.3, random_state=0)"
      ],
      "execution_count": 87,
      "outputs": []
    },
    {
      "cell_type": "code",
      "metadata": {
        "colab": {
          "base_uri": "https://localhost:8080/"
        },
        "id": "-ZrOsUFrKJ5e",
        "outputId": "f9e9c891-a8f4-4e11-fe59-0c3f8d681c1d"
      },
      "source": [
        "X_train.shape, X_test.shape"
      ],
      "execution_count": 88,
      "outputs": [
        {
          "output_type": "execute_result",
          "data": {
            "text/plain": [
              "((499, 6), (215, 6))"
            ]
          },
          "metadata": {
            "tags": []
          },
          "execution_count": 88
        }
      ]
    },
    {
      "cell_type": "code",
      "metadata": {
        "id": "Nhiu97otKN9X"
      },
      "source": [
        "# from sklearn.ensemble import RandomForestClassifier\n",
        "from sklearn.tree import DecisionTreeClassifier"
      ],
      "execution_count": 89,
      "outputs": []
    },
    {
      "cell_type": "code",
      "metadata": {
        "id": "eE7ZVutVKZ4Z"
      },
      "source": [
        "# classificador = RandomForestClassifier()\n",
        "classificador = DecisionTreeClassifier()"
      ],
      "execution_count": 90,
      "outputs": []
    },
    {
      "cell_type": "code",
      "metadata": {
        "colab": {
          "base_uri": "https://localhost:8080/"
        },
        "id": "PXFcOvVDKcI1",
        "outputId": "9341ef79-7f8b-469b-f67b-49db57f537fb"
      },
      "source": [
        "classificador.fit(X_train, y_train)"
      ],
      "execution_count": 91,
      "outputs": [
        {
          "output_type": "execute_result",
          "data": {
            "text/plain": [
              "DecisionTreeClassifier(ccp_alpha=0.0, class_weight=None, criterion='gini',\n",
              "                       max_depth=None, max_features=None, max_leaf_nodes=None,\n",
              "                       min_impurity_decrease=0.0, min_impurity_split=None,\n",
              "                       min_samples_leaf=1, min_samples_split=2,\n",
              "                       min_weight_fraction_leaf=0.0, presort='deprecated',\n",
              "                       random_state=None, splitter='best')"
            ]
          },
          "metadata": {
            "tags": []
          },
          "execution_count": 91
        }
      ]
    },
    {
      "cell_type": "code",
      "metadata": {
        "id": "8WE4bx8MKhGj"
      },
      "source": [
        "resultado = classificador.predict(X_test)"
      ],
      "execution_count": 92,
      "outputs": []
    },
    {
      "cell_type": "code",
      "metadata": {
        "colab": {
          "base_uri": "https://localhost:8080/"
        },
        "id": "qQlpYaNsK_Xt",
        "outputId": "c6f90934-f5bb-4761-93ba-1b52479141f2"
      },
      "source": [
        "resultado"
      ],
      "execution_count": 93,
      "outputs": [
        {
          "output_type": "execute_result",
          "data": {
            "text/plain": [
              "array([1, 1, 1, 0, 1, 0, 1, 0, 0, 0, 0, 0, 1, 0, 0, 1, 0, 1, 1, 0, 0, 1,\n",
              "       1, 1, 0, 1, 1, 0, 0, 0, 0, 0, 0, 1, 0, 0, 1, 1, 0, 0, 0, 0, 0, 0,\n",
              "       0, 1, 0, 0, 0, 0, 0, 0, 0, 1, 1, 0, 1, 0, 0, 0, 1, 0, 0, 0, 1, 1,\n",
              "       1, 0, 1, 0, 0, 1, 1, 1, 0, 0, 0, 0, 1, 0, 1, 1, 1, 1, 1, 0, 0, 0,\n",
              "       1, 0, 1, 1, 1, 0, 1, 0, 1, 1, 0, 1, 0, 1, 1, 1, 1, 1, 1, 0, 1, 0,\n",
              "       0, 0, 0, 0, 1, 1, 0, 0, 1, 1, 0, 1, 0, 0, 0, 1, 1, 0, 0, 1, 1, 0,\n",
              "       1, 1, 1, 0, 1, 1, 0, 0, 1, 0, 1, 1, 0, 0, 0, 0, 0, 0, 0, 0, 0, 0,\n",
              "       0, 1, 1, 0, 0, 0, 0, 0, 0, 0, 0, 1, 0, 0, 0, 0, 1, 0, 1, 0, 0, 0,\n",
              "       1, 1, 0, 1, 0, 0, 0, 0, 0, 1, 1, 1, 1, 0, 0, 1, 0, 1, 0, 1, 1, 1,\n",
              "       0, 0, 1, 0, 1, 0, 0, 1, 0, 1, 1, 0, 0, 0, 0, 1, 0])"
            ]
          },
          "metadata": {
            "tags": []
          },
          "execution_count": 93
        }
      ]
    },
    {
      "cell_type": "code",
      "metadata": {
        "colab": {
          "base_uri": "https://localhost:8080/"
        },
        "id": "tJtzjPnxLAEN",
        "outputId": "6c89725e-af3a-4006-b99d-f55e7ab0ab2d"
      },
      "source": [
        "y_test"
      ],
      "execution_count": 94,
      "outputs": [
        {
          "output_type": "execute_result",
          "data": {
            "text/plain": [
              "423    0\n",
              "177    0\n",
              "305    1\n",
              "292    0\n",
              "889    1\n",
              "      ..\n",
              "203    0\n",
              "499    0\n",
              "628    0\n",
              "879    1\n",
              "745    0\n",
              "Name: Survived, Length: 215, dtype: int64"
            ]
          },
          "metadata": {
            "tags": []
          },
          "execution_count": 94
        }
      ]
    },
    {
      "cell_type": "code",
      "metadata": {
        "id": "hE_r19zILF9v"
      },
      "source": [
        "from sklearn import metrics"
      ],
      "execution_count": 95,
      "outputs": []
    },
    {
      "cell_type": "code",
      "metadata": {
        "colab": {
          "base_uri": "https://localhost:8080/"
        },
        "id": "UgOPpGH4LpGc",
        "outputId": "6e17434b-6d09-46ff-8cf7-ae9c5613d861"
      },
      "source": [
        "print(metrics.classification_report(y_test, resultado))"
      ],
      "execution_count": 96,
      "outputs": [
        {
          "output_type": "stream",
          "text": [
            "              precision    recall  f1-score   support\n",
            "\n",
            "           0       0.80      0.80      0.80       125\n",
            "           1       0.72      0.72      0.72        90\n",
            "\n",
            "    accuracy                           0.77       215\n",
            "   macro avg       0.76      0.76      0.76       215\n",
            "weighted avg       0.77      0.77      0.77       215\n",
            "\n"
          ],
          "name": "stdout"
        }
      ]
    },
    {
      "cell_type": "code",
      "metadata": {
        "colab": {
          "base_uri": "https://localhost:8080/"
        },
        "id": "ldlNaL0HLt9i",
        "outputId": "82e0c5ce-6a4e-4e72-8f28-4239fbacf729"
      },
      "source": [
        "print(metrics.classification_report(y_test, resultado))"
      ],
      "execution_count": 97,
      "outputs": [
        {
          "output_type": "stream",
          "text": [
            "              precision    recall  f1-score   support\n",
            "\n",
            "           0       0.80      0.80      0.80       125\n",
            "           1       0.72      0.72      0.72        90\n",
            "\n",
            "    accuracy                           0.77       215\n",
            "   macro avg       0.76      0.76      0.76       215\n",
            "weighted avg       0.77      0.77      0.77       215\n",
            "\n"
          ],
          "name": "stdout"
        }
      ]
    },
    {
      "cell_type": "code",
      "metadata": {
        "colab": {
          "base_uri": "https://localhost:8080/"
        },
        "id": "HKrtLUL-Nmje",
        "outputId": "354c7183-5df2-41b1-c7fa-305beba4c584"
      },
      "source": [
        "classificador.feature_importances_"
      ],
      "execution_count": 98,
      "outputs": [
        {
          "output_type": "execute_result",
          "data": {
            "text/plain": [
              "array([0.12986774, 0.28263076, 0.27404328, 0.07007466, 0.01891909,\n",
              "       0.22446447])"
            ]
          },
          "metadata": {
            "tags": []
          },
          "execution_count": 98
        }
      ]
    },
    {
      "cell_type": "code",
      "metadata": {
        "id": "6gMxLX6UN18m"
      },
      "source": [
        "features = pd.Series(classificador.feature_importances_, index=X_train.columns).sort_values(ascending=True)"
      ],
      "execution_count": 99,
      "outputs": []
    },
    {
      "cell_type": "code",
      "metadata": {
        "colab": {
          "base_uri": "https://localhost:8080/"
        },
        "id": "oPd4niKIN_Yo",
        "outputId": "caaa9679-d755-4716-9783-d4b86fd0da8b"
      },
      "source": [
        "features"
      ],
      "execution_count": 100,
      "outputs": [
        {
          "output_type": "execute_result",
          "data": {
            "text/plain": [
              "Parch     0.018919\n",
              "SibSp     0.070075\n",
              "Pclass    0.129868\n",
              "Fare      0.224464\n",
              "Age       0.274043\n",
              "Sex       0.282631\n",
              "dtype: float64"
            ]
          },
          "metadata": {
            "tags": []
          },
          "execution_count": 100
        }
      ]
    },
    {
      "cell_type": "code",
      "metadata": {
        "colab": {
          "base_uri": "https://localhost:8080/",
          "height": 280
        },
        "id": "tZSCtCd1OAId",
        "outputId": "8bb3cfed-7003-4f5a-9802-78b27640f72d"
      },
      "source": [
        "features.plot.barh()\n",
        "plt.ylabel('Features')\n",
        "plt.xlabel('Importância')\n",
        "plt.show();"
      ],
      "execution_count": 101,
      "outputs": [
        {
          "output_type": "display_data",
          "data": {
            "image/png": "[encoded data removed]",
            "text/plain": [
              "<Figure size 432x288 with 1 Axes>"
            ]
          },
          "metadata": {
            "tags": [],
            "needs_background": "light"
          }
        }
      ]
    },
    {
      "cell_type": "code",
      "metadata": {
        "id": "T6TvgiVoQDM6"
      },
      "source": [
        ""
      ],
      "execution_count": 101,
      "outputs": []
    },
    {
      "cell_type": "code",
      "metadata": {
        "colab": {
          "base_uri": "https://localhost:8080/",
          "height": 171
        },
        "id": "jHgZ7eDQOZZl",
        "outputId": "8cb93949-2e32-488e-a699-f9c82eb063de"
      },
      "source": [
        "from sklearn import tree\n",
        "dot_data = tree.export_graphviz(classificador, max_depth=6, feature_names=X_train.columns, class_names=['0', '1'])\n",
        "dot_data"
      ],
      "execution_count": 102,
      "outputs": [
        {
          "output_type": "execute_result",
          "data": {
            "application/vnd.google.colaboratory.intrinsic+json": {
              "type": "string"
            },
            "text/plain": [
              "'digraph Tree {\\nnode [shape=box] ;\\n0 [label=\"Sex <= 0.5\\\\ngini = 0.48\\\\nsamples = 499\\\\nvalue = [299, 200]\\\\nclass = 0\"] ;\\n1 [label=\"Age <= 6.5\\\\ngini = 0.326\\\\nsamples = 317\\\\nvalue = [252, 65]\\\\nclass = 0\"] ;\\n0 -> 1 [labeldistance=2.5, labelangle=45, headlabel=\"True\"] ;\\n2 [label=\"SibSp <= 2.5\\\\ngini = 0.401\\\\nsamples = 18\\\\nvalue = [5, 13]\\\\nclass = 1\"] ;\\n1 -> 2 ;\\n3 [label=\"gini = 0.0\\\\nsamples = 13\\\\nvalue = [0, 13]\\\\nclass = 1\"] ;\\n2 -> 3 ;\\n4 [label=\"gini = 0.0\\\\nsamples = 5\\\\nvalue = [5, 0]\\\\nclass = 0\"] ;\\n2 -> 4 ;\\n5 [label=\"Pclass <= 1.5\\\\ngini = 0.287\\\\nsamples = 299\\\\nvalue = [247, 52]\\\\nclass = 0\"] ;\\n1 -> 5 ;\\n6 [label=\"Age <= 53.0\\\\ngini = 0.473\\\\nsamples = 65\\\\nvalue = [40, 25]\\\\nclass = 0\"] ;\\n5 -> 6 ;\\n7 [label=\"Age <= 47.5\\\\ngini = 0.497\\\\nsamples = 50\\\\nvalue = [27, 23]\\\\nclass = 0\"] ;\\n6 -> 7 ;\\n8 [label=\"Age <= 45.5\\\\ngini = 0.476\\\\nsamples = 41\\\\nvalue = [25, 16]\\\\nclass = 0\"] ;\\n7 -> 8 ;\\n9 [label=\"Fare <= 387.665\\\\ngini = 0.494\\\\nsamples = 36\\\\nvalue = [20, 16]\\\\nclass = 0\"] ;\\n8 -> 9 ;\\n10 [label=\"(...)\"] ;\\n9 -> 10 ;\\n33 [label=\"(...)\"] ;\\n9 -> 33 ;\\n34 [label=\"gini = 0.0\\\\nsamples = 5\\\\nvalue = [5, 0]\\\\nclass = 0\"] ;\\n8 -> 34 ;\\n35 [label=\"Parch <= 0.5\\\\ngini = 0.346\\\\nsamples = 9\\\\nvalue = [2, 7]\\\\nclass = 1\"] ;\\n7 -> 35 ;\\n36 [label=\"Age <= 49.5\\\\ngini = 0.219\\\\nsamples = 8\\\\nvalue = [1, 7]\\\\nclass = 1\"] ;\\n35 -> 36 ;\\n37 [label=\"(...)\"] ;\\n36 -> 37 ;\\n38 [label=\"(...)\"] ;\\n36 -> 38 ;\\n43 [label=\"gini = 0.0\\\\nsamples = 1\\\\nvalue = [1, 0]\\\\nclass = 0\"] ;\\n35 -> 43 ;\\n44 [label=\"Fare <= 78.244\\\\ngini = 0.231\\\\nsamples = 15\\\\nvalue = [13, 2]\\\\nclass = 0\"] ;\\n6 -> 44 ;\\n45 [label=\"Fare <= 35.077\\\\ngini = 0.133\\\\nsamples = 14\\\\nvalue = [13, 1]\\\\nclass = 0\"] ;\\n44 -> 45 ;\\n46 [label=\"gini = 0.0\\\\nsamples = 10\\\\nvalue = [10, 0]\\\\nclass = 0\"] ;\\n45 -> 46 ;\\n47 [label=\"Fare <= 42.502\\\\ngini = 0.375\\\\nsamples = 4\\\\nvalue = [3, 1]\\\\nclass = 0\"] ;\\n45 -> 47 ;\\n48 [label=\"(...)\"] ;\\n47 -> 48 ;\\n49 [label=\"(...)\"] ;\\n47 -> 49 ;\\n50 [label=\"gini = 0.0\\\\nsamples = 1\\\\nvalue = [0, 1]\\\\nclass = 1\"] ;\\n44 -> 50 ;\\n51 [label=\"Fare <= 51.698\\\\ngini = 0.204\\\\nsamples = 234\\\\nvalue = [207, 27]\\\\nclass = 0\"] ;\\n5 -> 51 ;\\n52 [label=\"Age <= 13.0\\\\ngini = 0.189\\\\nsamples = 227\\\\nvalue = [203, 24]\\\\nclass = 0\"] ;\\n51 -> 52 ;\\n53 [label=\"SibSp <= 2.0\\\\ngini = 0.444\\\\nsamples = 9\\\\nvalue = [6, 3]\\\\nclass = 0\"] ;\\n52 -> 53 ;\\n54 [label=\"gini = 0.0\\\\nsamples = 3\\\\nvalue = [0, 3]\\\\nclass = 1\"] ;\\n53 -> 54 ;\\n55 [label=\"gini = 0.0\\\\nsamples = 6\\\\nvalue = [6, 0]\\\\nclass = 0\"] ;\\n53 -> 55 ;\\n56 [label=\"Fare <= 8.175\\\\ngini = 0.174\\\\nsamples = 218\\\\nvalue = [197, 21]\\\\nclass = 0\"] ;\\n52 -> 56 ;\\n57 [label=\"Age <= 32.5\\\\ngini = 0.25\\\\nsamples = 109\\\\nvalue = [93, 16]\\\\nclass = 0\"] ;\\n56 -> 57 ;\\n58 [label=\"(...)\"] ;\\n57 -> 58 ;\\n103 [label=\"(...)\"] ;\\n57 -> 103 ;\\n110 [label=\"Age <= 29.5\\\\ngini = 0.088\\\\nsamples = 109\\\\nvalue = [104, 5]\\\\nclass = 0\"] ;\\n56 -> 110 ;\\n111 [label=\"(...)\"] ;\\n110 -> 111 ;\\n120 [label=\"(...)\"] ;\\n110 -> 120 ;\\n143 [label=\"Fare <= 64.998\\\\ngini = 0.49\\\\nsamples = 7\\\\nvalue = [4, 3]\\\\nclass = 0\"] ;\\n51 -> 143 ;\\n144 [label=\"Age <= 30.0\\\\ngini = 0.375\\\\nsamples = 4\\\\nvalue = [1, 3]\\\\nclass = 1\"] ;\\n143 -> 144 ;\\n145 [label=\"Age <= 27.0\\\\ngini = 0.5\\\\nsamples = 2\\\\nvalue = [1, 1]\\\\nclass = 0\"] ;\\n144 -> 145 ;\\n146 [label=\"(...)\"] ;\\n145 -> 146 ;\\n147 [label=\"(...)\"] ;\\n145 -> 147 ;\\n148 [label=\"gini = 0.0\\\\nsamples = 2\\\\nvalue = [0, 2]\\\\nclass = 1\"] ;\\n144 -> 148 ;\\n149 [label=\"gini = 0.0\\\\nsamples = 3\\\\nvalue = [3, 0]\\\\nclass = 0\"] ;\\n143 -> 149 ;\\n150 [label=\"Pclass <= 2.5\\\\ngini = 0.383\\\\nsamples = 182\\\\nvalue = [47, 135]\\\\nclass = 1\"] ;\\n0 -> 150 [labeldistance=2.5, labelangle=-45, headlabel=\"False\"] ;\\n151 [label=\"Fare <= 26.125\\\\ngini = 0.089\\\\nsamples = 107\\\\nvalue = [5, 102]\\\\nclass = 1\"] ;\\n150 -> 151 ;\\n152 [label=\"Age <= 36.5\\\\ngini = 0.198\\\\nsamples = 36\\\\nvalue = [4, 32]\\\\nclass = 1\"] ;\\n151 -> 152 ;\\n153 [label=\"Age <= 27.5\\\\ngini = 0.142\\\\nsamples = 26\\\\nvalue = [2, 24]\\\\nclass = 1\"] ;\\n152 -> 153 ;\\n154 [label=\"Age <= 23.5\\\\ngini = 0.26\\\\nsamples = 13\\\\nvalue = [2, 11]\\\\nclass = 1\"] ;\\n153 -> 154 ;\\n155 [label=\"gini = 0.0\\\\nsamples = 7\\\\nvalue = [0, 7]\\\\nclass = 1\"] ;\\n154 -> 155 ;\\n156 [label=\"Parch <= 1.0\\\\ngini = 0.444\\\\nsamples = 6\\\\nvalue = [2, 4]\\\\nclass = 1\"] ;\\n154 -> 156 ;\\n157 [label=\"(...)\"] ;\\n156 -> 157 ;\\n166 [label=\"(...)\"] ;\\n156 -> 166 ;\\n167 [label=\"gini = 0.0\\\\nsamples = 13\\\\nvalue = [0, 13]\\\\nclass = 1\"] ;\\n153 -> 167 ;\\n168 [label=\"Age <= 39.0\\\\ngini = 0.32\\\\nsamples = 10\\\\nvalue = [2, 8]\\\\nclass = 1\"] ;\\n152 -> 168 ;\\n169 [label=\"gini = 0.0\\\\nsamples = 1\\\\nvalue = [1, 0]\\\\nclass = 0\"] ;\\n168 -> 169 ;\\n170 [label=\"SibSp <= 0.5\\\\ngini = 0.198\\\\nsamples = 9\\\\nvalue = [1, 8]\\\\nclass = 1\"] ;\\n168 -> 170 ;\\n171 [label=\"gini = 0.0\\\\nsamples = 6\\\\nvalue = [0, 6]\\\\nclass = 1\"] ;\\n170 -> 171 ;\\n172 [label=\"Age <= 43.0\\\\ngini = 0.444\\\\nsamples = 3\\\\nvalue = [1, 2]\\\\nclass = 1\"] ;\\n170 -> 172 ;\\n173 [label=\"(...)\"] ;\\n172 -> 173 ;\\n174 [label=\"(...)\"] ;\\n172 -> 174 ;\\n177 [label=\"Fare <= 143.592\\\\ngini = 0.028\\\\nsamples = 71\\\\nvalue = [1, 70]\\\\nclass = 1\"] ;\\n151 -> 177 ;\\n178 [label=\"gini = 0.0\\\\nsamples = 57\\\\nvalue = [0, 57]\\\\nclass = 1\"] ;\\n177 -> 178 ;\\n179 [label=\"Fare <= 152.506\\\\ngini = 0.133\\\\nsamples = 14\\\\nvalue = [1, 13]\\\\nclass = 1\"] ;\\n177 -> 179 ;\\n180 [label=\"Age <= 23.5\\\\ngini = 0.5\\\\nsamples = 2\\\\nvalue = [1, 1]\\\\nclass = 0\"] ;\\n179 -> 180 ;\\n181 [label=\"gini = 0.0\\\\nsamples = 1\\\\nvalue = [0, 1]\\\\nclass = 1\"] ;\\n180 -> 181 ;\\n182 [label=\"gini = 0.0\\\\nsamples = 1\\\\nvalue = [1, 0]\\\\nclass = 0\"] ;\\n180 -> 182 ;\\n183 [label=\"gini = 0.0\\\\nsamples = 12\\\\nvalue = [0, 12]\\\\nclass = 1\"] ;\\n179 -> 183 ;\\n184 [label=\"Fare <= 20.8\\\\ngini = 0.493\\\\nsamples = 75\\\\nvalue = [42, 33]\\\\nclass = 0\"] ;\\n150 -> 184 ;\\n185 [label=\"Parch <= 0.5\\\\ngini = 0.496\\\\nsamples = 55\\\\nvalue = [25, 30]\\\\nclass = 1\"] ;\\n184 -> 185 ;\\n186 [label=\"Fare <= 7.763\\\\ngini = 0.499\\\\nsamples = 40\\\\nvalue = [21, 19]\\\\nclass = 0\"] ;\\n185 -> 186 ;\\n187 [label=\"Age <= 26.25\\\\ngini = 0.397\\\\nsamples = 11\\\\nvalue = [3, 8]\\\\nclass = 1\"] ;\\n186 -> 187 ;\\n188 [label=\"Fare <= 6.987\\\\ngini = 0.32\\\\nsamples = 10\\\\nvalue = [2, 8]\\\\nclass = 1\"] ;\\n187 -> 188 ;\\n189 [label=\"(...)\"] ;\\n188 -> 189 ;\\n190 [label=\"(...)\"] ;\\n188 -> 190 ;\\n197 [label=\"gini = 0.0\\\\nsamples = 1\\\\nvalue = [1, 0]\\\\nclass = 0\"] ;\\n187 -> 197 ;\\n198 [label=\"Age <= 25.5\\\\ngini = 0.471\\\\nsamples = 29\\\\nvalue = [18, 11]\\\\nclass = 0\"] ;\\n186 -> 198 ;\\n199 [label=\"Fare <= 8.346\\\\ngini = 0.375\\\\nsamples = 16\\\\nvalue = [12, 4]\\\\nclass = 0\"] ;\\n198 -> 199 ;\\n200 [label=\"(...)\"] ;\\n199 -> 200 ;\\n207 [label=\"(...)\"] ;\\n199 -> 207 ;\\n210 [label=\"Fare <= 7.91\\\\ngini = 0.497\\\\nsamples = 13\\\\nvalue = [6, 7]\\\\nclass = 1\"] ;\\n198 -> 210 ;\\n211 [label=\"(...)\"] ;\\n210 -> 211 ;\\n212 [label=\"(...)\"] ;\\n210 -> 212 ;\\n225 [label=\"Age <= 38.0\\\\ngini = 0.391\\\\nsamples = 15\\\\nvalue = [4, 11]\\\\nclass = 1\"] ;\\n185 -> 225 ;\\n226 [label=\"Age <= 13.0\\\\ngini = 0.26\\\\nsamples = 13\\\\nvalue = [2, 11]\\\\nclass = 1\"] ;\\n225 -> 226 ;\\n227 [label=\"Fare <= 10.798\\\\ngini = 0.444\\\\nsamples = 6\\\\nvalue = [2, 4]\\\\nclass = 1\"] ;\\n226 -> 227 ;\\n228 [label=\"(...)\"] ;\\n227 -> 228 ;\\n229 [label=\"(...)\"] ;\\n227 -> 229 ;\\n232 [label=\"gini = 0.0\\\\nsamples = 7\\\\nvalue = [0, 7]\\\\nclass = 1\"] ;\\n226 -> 232 ;\\n233 [label=\"gini = 0.0\\\\nsamples = 2\\\\nvalue = [2, 0]\\\\nclass = 0\"] ;\\n225 -> 233 ;\\n234 [label=\"Age <= 5.5\\\\ngini = 0.255\\\\nsamples = 20\\\\nvalue = [17, 3]\\\\nclass = 0\"] ;\\n184 -> 234 ;\\n235 [label=\"Age <= 3.5\\\\ngini = 0.5\\\\nsamples = 4\\\\nvalue = [2, 2]\\\\nclass = 0\"] ;\\n234 -> 235 ;\\n236 [label=\"gini = 0.0\\\\nsamples = 2\\\\nvalue = [2, 0]\\\\nclass = 0\"] ;\\n235 -> 236 ;\\n237 [label=\"gini = 0.0\\\\nsamples = 2\\\\nvalue = [0, 2]\\\\nclass = 1\"] ;\\n235 -> 237 ;\\n238 [label=\"Parch <= 4.5\\\\ngini = 0.117\\\\nsamples = 16\\\\nvalue = [15, 1]\\\\nclass = 0\"] ;\\n234 -> 238 ;\\n239 [label=\"gini = 0.0\\\\nsamples = 12\\\\nvalue = [12, 0]\\\\nclass = 0\"] ;\\n238 -> 239 ;\\n240 [label=\"Age <= 38.5\\\\ngini = 0.375\\\\nsamples = 4\\\\nvalue = [3, 1]\\\\nclass = 0\"] ;\\n238 -> 240 ;\\n241 [label=\"gini = 0.0\\\\nsamples = 1\\\\nvalue = [0, 1]\\\\nclass = 1\"] ;\\n240 -> 241 ;\\n242 [label=\"gini = 0.0\\\\nsamples = 3\\\\nvalue = [3, 0]\\\\nclass = 0\"] ;\\n240 -> 242 ;\\n}'"
            ]
          },
          "metadata": {
            "tags": []
          },
          "execution_count": 102
        }
      ]
    },
    {
      "cell_type": "code",
      "metadata": {
        "id": "qwlW7aVQPS1i"
      },
      "source": [
        "import graphviz"
      ],
      "execution_count": 103,
      "outputs": []
    },
    {
      "cell_type": "code",
      "metadata": {
        "colab": {
          "base_uri": "https://localhost:8080/",
          "height": 1000
        },
        "id": "AVy4n1NTPmVJ",
        "outputId": "02aafa48-d7f5-4588-f7ef-3592a40751e4"
      },
      "source": [
        "graph = graphviz.Source(dot_data)\n",
        "graph"
      ],
      "execution_count": 104,
      "outputs": [
        {
          "output_type": "execute_result",
          "data": {
            "text/plain": [
              "<graphviz.files.Source at 0x7fb3b20bc470>"
            ],
            "image/svg+xml": "<?xml version=\"1.0\" encoding=\"UTF-8\" standalone=\"no\"?>\n<!DOCTYPE svg PUBLIC \"-//W3C//DTD SVG 1.1//EN\"\n \"http://www.w3.org/Graphics/SVG/1.1/DTD/svg11.dtd\">\n<!-- Generated by graphviz version 2.40.1 (20161225.0304)\n -->\n<!-- Title: Tree Pages: 1 -->\n<svg width=\"3303pt\" height=\"877pt\"\n viewBox=\"0.00 0.00 3302.50 877.00\" xmlns=\"http://www.w3.org/2000/svg\" xmlns:xlink=\"http://www.w3.org/1999/xlink\">\n<g id=\"graph0\" class=\"graph\" transform=\"scale(1 1) rotate(0) translate(4 873)\">\n<title>Tree</title>\n<polygon fill=\"#ffffff\" stroke=\"transparent\" points=\"-4,4 -4,-873 3298.5,-873 3298.5,4 -4,4\"/>\n<!-- 0 -->\n<g id=\"node1\" class=\"node\">\n<title>0</title>\n<polygon fill=\"none\" stroke=\"#000000\" points=\"1370.5,-869 1245.5,-869 1245.5,-786 1370.5,-786 1370.5,-869\"/>\n<text text-anchor=\"middle\" x=\"1308\" y=\"-853.8\" font-family=\"Times,serif\" font-size=\"14.00\" fill=\"#000000\">Sex &lt;= 0.5</text>\n<text text-anchor=\"middle\" x=\"1308\" y=\"-838.8\" font-family=\"Times,serif\" font-size=\"14.00\" fill=\"#000000\">gini = 0.48</text>\n<text text-anchor=\"middle\" x=\"1308\" y=\"-823.8\" font-family=\"Times,serif\" font-size=\"14.00\" fill=\"#000000\">samples = 499</text>\n<text text-anchor=\"middle\" x=\"1308\" y=\"-808.8\" font-family=\"Times,serif\" font-size=\"14.00\" fill=\"#000000\">value = [299, 200]</text>\n<text text-anchor=\"middle\" x=\"1308\" y=\"-793.8\" font-family=\"Times,serif\" font-size=\"14.00\" fill=\"#000000\">class = 0</text>\n</g>\n<!-- 1 -->\n<g id=\"node2\" class=\"node\">\n<title>1</title>\n<polygon fill=\"none\" stroke=\"#000000\" points=\"951.5,-750 834.5,-750 834.5,-667 951.5,-667 951.5,-750\"/>\n<text text-anchor=\"middle\" x=\"893\" y=\"-734.8\" font-family=\"Times,serif\" font-size=\"14.00\" fill=\"#000000\">Age &lt;= 6.5</text>\n<text text-anchor=\"middle\" x=\"893\" y=\"-719.8\" font-family=\"Times,serif\" font-size=\"14.00\" fill=\"#000000\">gini = 0.326</text>\n<text text-anchor=\"middle\" x=\"893\" y=\"-704.8\" font-family=\"Times,serif\" font-size=\"14.00\" fill=\"#000000\">samples = 317</text>\n<text text-anchor=\"middle\" x=\"893\" y=\"-689.8\" font-family=\"Times,serif\" font-size=\"14.00\" fill=\"#000000\">value = [252, 65]</text>\n<text text-anchor=\"middle\" x=\"893\" y=\"-674.8\" font-family=\"Times,serif\" font-size=\"14.00\" fill=\"#000000\">class = 0</text>\n</g>\n<!-- 0&#45;&gt;1 -->\n<g id=\"edge1\" class=\"edge\">\n<title>0&#45;&gt;1</title>\n<path fill=\"none\" stroke=\"#000000\" d=\"M1245.421,-809.5557C1169.094,-787.6691 1040.5141,-750.7992 961.5677,-728.1616\"/>\n<polygon fill=\"#000000\" stroke=\"#000000\" points=\"962.2959,-724.7294 951.7185,-725.3374 960.3664,-731.4582 962.2959,-724.7294\"/>\n<text text-anchor=\"middle\" x=\"963.8387\" y=\"-743.5029\" font-family=\"Times,serif\" font-size=\"14.00\" fill=\"#000000\">True</text>\n</g>\n<!-- 150 -->\n<g id=\"node45\" class=\"node\">\n<title>150</title>\n<polygon fill=\"none\" stroke=\"#000000\" points=\"1836.5,-750 1719.5,-750 1719.5,-667 1836.5,-667 1836.5,-750\"/>\n<text text-anchor=\"middle\" x=\"1778\" y=\"-734.8\" font-family=\"Times,serif\" font-size=\"14.00\" fill=\"#000000\">Pclass &lt;= 2.5</text>\n<text text-anchor=\"middle\" x=\"1778\" y=\"-719.8\" font-family=\"Times,serif\" font-size=\"14.00\" fill=\"#000000\">gini = 0.383</text>\n<text text-anchor=\"middle\" x=\"1778\" y=\"-704.8\" font-family=\"Times,serif\" font-size=\"14.00\" fill=\"#000000\">samples = 182</text>\n<text text-anchor=\"middle\" x=\"1778\" y=\"-689.8\" font-family=\"Times,serif\" font-size=\"14.00\" fill=\"#000000\">value = [47, 135]</text>\n<text text-anchor=\"middle\" x=\"1778\" y=\"-674.8\" font-family=\"Times,serif\" font-size=\"14.00\" fill=\"#000000\">class = 1</text>\n</g>\n<!-- 0&#45;&gt;150 -->\n<g id=\"edge44\" class=\"edge\">\n<title>0&#45;&gt;150</title>\n<path fill=\"none\" stroke=\"#000000\" d=\"M1370.8986,-811.5746C1458.9001,-789.2934 1618.1773,-748.9657 1709.2287,-725.9123\"/>\n<polygon fill=\"#000000\" stroke=\"#000000\" points=\"1710.3385,-729.2418 1719.1736,-723.3944 1708.6204,-722.456 1710.3385,-729.2418\"/>\n<text text-anchor=\"middle\" x=\"1706.3756\" y=\"-741.1702\" font-family=\"Times,serif\" font-size=\"14.00\" fill=\"#000000\">False</text>\n</g>\n<!-- 2 -->\n<g id=\"node3\" class=\"node\">\n<title>2</title>\n<polygon fill=\"none\" stroke=\"#000000\" points=\"728,-631 626,-631 626,-548 728,-548 728,-631\"/>\n<text text-anchor=\"middle\" x=\"677\" y=\"-615.8\" font-family=\"Times,serif\" font-size=\"14.00\" fill=\"#000000\">SibSp &lt;= 2.5</text>\n<text text-anchor=\"middle\" x=\"677\" y=\"-600.8\" font-family=\"Times,serif\" font-size=\"14.00\" fill=\"#000000\">gini = 0.401</text>\n<text text-anchor=\"middle\" x=\"677\" y=\"-585.8\" font-family=\"Times,serif\" font-size=\"14.00\" fill=\"#000000\">samples = 18</text>\n<text text-anchor=\"middle\" x=\"677\" y=\"-570.8\" font-family=\"Times,serif\" font-size=\"14.00\" fill=\"#000000\">value = [5, 13]</text>\n<text text-anchor=\"middle\" x=\"677\" y=\"-555.8\" font-family=\"Times,serif\" font-size=\"14.00\" fill=\"#000000\">class = 1</text>\n</g>\n<!-- 1&#45;&gt;2 -->\n<g id=\"edge2\" class=\"edge\">\n<title>1&#45;&gt;2</title>\n<path fill=\"none\" stroke=\"#000000\" d=\"M834.2624,-676.1399C804.0177,-659.4773 767.2132,-639.2008 736.8149,-622.4536\"/>\n<polygon fill=\"#000000\" stroke=\"#000000\" points=\"738.4603,-619.3641 728.0126,-617.6042 735.0825,-625.4952 738.4603,-619.3641\"/>\n</g>\n<!-- 5 -->\n<g id=\"node6\" class=\"node\">\n<title>5</title>\n<polygon fill=\"none\" stroke=\"#000000\" points=\"951.5,-631 834.5,-631 834.5,-548 951.5,-548 951.5,-631\"/>\n<text text-anchor=\"middle\" x=\"893\" y=\"-615.8\" font-family=\"Times,serif\" font-size=\"14.00\" fill=\"#000000\">Pclass &lt;= 1.5</text>\n<text text-anchor=\"middle\" x=\"893\" y=\"-600.8\" font-family=\"Times,serif\" font-size=\"14.00\" fill=\"#000000\">gini = 0.287</text>\n<text text-anchor=\"middle\" x=\"893\" y=\"-585.8\" font-family=\"Times,serif\" font-size=\"14.00\" fill=\"#000000\">samples = 299</text>\n<text text-anchor=\"middle\" x=\"893\" y=\"-570.8\" font-family=\"Times,serif\" font-size=\"14.00\" fill=\"#000000\">value = [247, 52]</text>\n<text text-anchor=\"middle\" x=\"893\" y=\"-555.8\" font-family=\"Times,serif\" font-size=\"14.00\" fill=\"#000000\">class = 0</text>\n</g>\n<!-- 1&#45;&gt;5 -->\n<g id=\"edge5\" class=\"edge\">\n<title>1&#45;&gt;5</title>\n<path fill=\"none\" stroke=\"#000000\" d=\"M893,-666.8796C893,-658.6838 893,-649.9891 893,-641.5013\"/>\n<polygon fill=\"#000000\" stroke=\"#000000\" points=\"896.5001,-641.298 893,-631.2981 889.5001,-641.2981 896.5001,-641.298\"/>\n</g>\n<!-- 3 -->\n<g id=\"node4\" class=\"node\">\n<title>3</title>\n<polygon fill=\"none\" stroke=\"#000000\" points=\"611,-504.5 509,-504.5 509,-436.5 611,-436.5 611,-504.5\"/>\n<text text-anchor=\"middle\" x=\"560\" y=\"-489.3\" font-family=\"Times,serif\" font-size=\"14.00\" fill=\"#000000\">gini = 0.0</text>\n<text text-anchor=\"middle\" x=\"560\" y=\"-474.3\" font-family=\"Times,serif\" font-size=\"14.00\" fill=\"#000000\">samples = 13</text>\n<text text-anchor=\"middle\" x=\"560\" y=\"-459.3\" font-family=\"Times,serif\" font-size=\"14.00\" fill=\"#000000\">value = [0, 13]</text>\n<text text-anchor=\"middle\" x=\"560\" y=\"-444.3\" font-family=\"Times,serif\" font-size=\"14.00\" fill=\"#000000\">class = 1</text>\n</g>\n<!-- 2&#45;&gt;3 -->\n<g id=\"edge3\" class=\"edge\">\n<title>2&#45;&gt;3</title>\n<path fill=\"none\" stroke=\"#000000\" d=\"M636.0791,-547.8796C624.7272,-536.3337 612.4018,-523.7976 601.043,-512.2446\"/>\n<polygon fill=\"#000000\" stroke=\"#000000\" points=\"603.2449,-509.4919 593.7382,-504.8149 598.2534,-514.3995 603.2449,-509.4919\"/>\n</g>\n<!-- 4 -->\n<g id=\"node5\" class=\"node\">\n<title>4</title>\n<polygon fill=\"none\" stroke=\"#000000\" points=\"724.5,-504.5 629.5,-504.5 629.5,-436.5 724.5,-436.5 724.5,-504.5\"/>\n<text text-anchor=\"middle\" x=\"677\" y=\"-489.3\" font-family=\"Times,serif\" font-size=\"14.00\" fill=\"#000000\">gini = 0.0</text>\n<text text-anchor=\"middle\" x=\"677\" y=\"-474.3\" font-family=\"Times,serif\" font-size=\"14.00\" fill=\"#000000\">samples = 5</text>\n<text text-anchor=\"middle\" x=\"677\" y=\"-459.3\" font-family=\"Times,serif\" font-size=\"14.00\" fill=\"#000000\">value = [5, 0]</text>\n<text text-anchor=\"middle\" x=\"677\" y=\"-444.3\" font-family=\"Times,serif\" font-size=\"14.00\" fill=\"#000000\">class = 0</text>\n</g>\n<!-- 2&#45;&gt;4 -->\n<g id=\"edge4\" class=\"edge\">\n<title>2&#45;&gt;4</title>\n<path fill=\"none\" stroke=\"#000000\" d=\"M677,-547.8796C677,-537.2134 677,-525.7021 677,-514.9015\"/>\n<polygon fill=\"#000000\" stroke=\"#000000\" points=\"680.5001,-514.8149 677,-504.8149 673.5001,-514.815 680.5001,-514.8149\"/>\n</g>\n<!-- 6 -->\n<g id=\"node7\" class=\"node\">\n<title>6</title>\n<polygon fill=\"none\" stroke=\"#000000\" points=\"853,-512 743,-512 743,-429 853,-429 853,-512\"/>\n<text text-anchor=\"middle\" x=\"798\" y=\"-496.8\" font-family=\"Times,serif\" font-size=\"14.00\" fill=\"#000000\">Age &lt;= 53.0</text>\n<text text-anchor=\"middle\" x=\"798\" y=\"-481.8\" font-family=\"Times,serif\" font-size=\"14.00\" fill=\"#000000\">gini = 0.473</text>\n<text text-anchor=\"middle\" x=\"798\" y=\"-466.8\" font-family=\"Times,serif\" font-size=\"14.00\" fill=\"#000000\">samples = 65</text>\n<text text-anchor=\"middle\" x=\"798\" y=\"-451.8\" font-family=\"Times,serif\" font-size=\"14.00\" fill=\"#000000\">value = [40, 25]</text>\n<text text-anchor=\"middle\" x=\"798\" y=\"-436.8\" font-family=\"Times,serif\" font-size=\"14.00\" fill=\"#000000\">class = 0</text>\n</g>\n<!-- 5&#45;&gt;6 -->\n<g id=\"edge6\" class=\"edge\">\n<title>5&#45;&gt;6</title>\n<path fill=\"none\" stroke=\"#000000\" d=\"M859.7736,-547.8796C852.6556,-538.9633 845.0661,-529.4565 837.7308,-520.268\"/>\n<polygon fill=\"#000000\" stroke=\"#000000\" points=\"840.3425,-517.9295 831.3682,-512.2981 834.8719,-522.2968 840.3425,-517.9295\"/>\n</g>\n<!-- 51 -->\n<g id=\"node26\" class=\"node\">\n<title>51</title>\n<polygon fill=\"none\" stroke=\"#000000\" points=\"1040.5,-512 923.5,-512 923.5,-429 1040.5,-429 1040.5,-512\"/>\n<text text-anchor=\"middle\" x=\"982\" y=\"-496.8\" font-family=\"Times,serif\" font-size=\"14.00\" fill=\"#000000\">Fare &lt;= 51.698</text>\n<text text-anchor=\"middle\" x=\"982\" y=\"-481.8\" font-family=\"Times,serif\" font-size=\"14.00\" fill=\"#000000\">gini = 0.204</text>\n<text text-anchor=\"middle\" x=\"982\" y=\"-466.8\" font-family=\"Times,serif\" font-size=\"14.00\" fill=\"#000000\">samples = 234</text>\n<text text-anchor=\"middle\" x=\"982\" y=\"-451.8\" font-family=\"Times,serif\" font-size=\"14.00\" fill=\"#000000\">value = [207, 27]</text>\n<text text-anchor=\"middle\" x=\"982\" y=\"-436.8\" font-family=\"Times,serif\" font-size=\"14.00\" fill=\"#000000\">class = 0</text>\n</g>\n<!-- 5&#45;&gt;51 -->\n<g id=\"edge25\" class=\"edge\">\n<title>5&#45;&gt;51</title>\n<path fill=\"none\" stroke=\"#000000\" d=\"M924.1279,-547.8796C930.729,-539.0534 937.7629,-529.6485 944.5702,-520.5466\"/>\n<polygon fill=\"#000000\" stroke=\"#000000\" points=\"947.5528,-522.4024 950.7393,-512.2981 941.9472,-518.2099 947.5528,-522.4024\"/>\n</g>\n<!-- 7 -->\n<g id=\"node8\" class=\"node\">\n<title>7</title>\n<polygon fill=\"none\" stroke=\"#000000\" points=\"415,-393 305,-393 305,-310 415,-310 415,-393\"/>\n<text text-anchor=\"middle\" x=\"360\" y=\"-377.8\" font-family=\"Times,serif\" font-size=\"14.00\" fill=\"#000000\">Age &lt;= 47.5</text>\n<text text-anchor=\"middle\" x=\"360\" y=\"-362.8\" font-family=\"Times,serif\" font-size=\"14.00\" fill=\"#000000\">gini = 0.497</text>\n<text text-anchor=\"middle\" x=\"360\" y=\"-347.8\" font-family=\"Times,serif\" font-size=\"14.00\" fill=\"#000000\">samples = 50</text>\n<text text-anchor=\"middle\" x=\"360\" y=\"-332.8\" font-family=\"Times,serif\" font-size=\"14.00\" fill=\"#000000\">value = [27, 23]</text>\n<text text-anchor=\"middle\" x=\"360\" y=\"-317.8\" font-family=\"Times,serif\" font-size=\"14.00\" fill=\"#000000\">class = 0</text>\n</g>\n<!-- 6&#45;&gt;7 -->\n<g id=\"edge7\" class=\"edge\">\n<title>6&#45;&gt;7</title>\n<path fill=\"none\" stroke=\"#000000\" d=\"M742.6829,-433.3751C739.464,-431.7861 736.2242,-430.3123 733,-429 630.1719,-387.1473 501.8287,-366.86 425.638,-357.8513\"/>\n<polygon fill=\"#000000\" stroke=\"#000000\" points=\"425.5762,-354.3211 415.2414,-356.6539 424.7752,-361.2751 425.5762,-354.3211\"/>\n</g>\n<!-- 44 -->\n<g id=\"node19\" class=\"node\">\n<title>44</title>\n<polygon fill=\"none\" stroke=\"#000000\" points=\"824.5,-393 717.5,-393 717.5,-310 824.5,-310 824.5,-393\"/>\n<text text-anchor=\"middle\" x=\"771\" y=\"-377.8\" font-family=\"Times,serif\" font-size=\"14.00\" fill=\"#000000\">Fare &lt;= 78.244</text>\n<text text-anchor=\"middle\" x=\"771\" y=\"-362.8\" font-family=\"Times,serif\" font-size=\"14.00\" fill=\"#000000\">gini = 0.231</text>\n<text text-anchor=\"middle\" x=\"771\" y=\"-347.8\" font-family=\"Times,serif\" font-size=\"14.00\" fill=\"#000000\">samples = 15</text>\n<text text-anchor=\"middle\" x=\"771\" y=\"-332.8\" font-family=\"Times,serif\" font-size=\"14.00\" fill=\"#000000\">value = [13, 2]</text>\n<text text-anchor=\"middle\" x=\"771\" y=\"-317.8\" font-family=\"Times,serif\" font-size=\"14.00\" fill=\"#000000\">class = 0</text>\n</g>\n<!-- 6&#45;&gt;44 -->\n<g id=\"edge18\" class=\"edge\">\n<title>6&#45;&gt;44</title>\n<path fill=\"none\" stroke=\"#000000\" d=\"M788.5567,-428.8796C786.6767,-420.5938 784.6811,-411.798 782.7351,-403.2216\"/>\n<polygon fill=\"#000000\" stroke=\"#000000\" points=\"786.1096,-402.2757 780.4836,-393.2981 779.2831,-403.8247 786.1096,-402.2757\"/>\n</g>\n<!-- 8 -->\n<g id=\"node9\" class=\"node\">\n<title>8</title>\n<polygon fill=\"none\" stroke=\"#000000\" points=\"241,-274 131,-274 131,-191 241,-191 241,-274\"/>\n<text text-anchor=\"middle\" x=\"186\" y=\"-258.8\" font-family=\"Times,serif\" font-size=\"14.00\" fill=\"#000000\">Age &lt;= 45.5</text>\n<text text-anchor=\"middle\" x=\"186\" y=\"-243.8\" font-family=\"Times,serif\" font-size=\"14.00\" fill=\"#000000\">gini = 0.476</text>\n<text text-anchor=\"middle\" x=\"186\" y=\"-228.8\" font-family=\"Times,serif\" font-size=\"14.00\" fill=\"#000000\">samples = 41</text>\n<text text-anchor=\"middle\" x=\"186\" y=\"-213.8\" font-family=\"Times,serif\" font-size=\"14.00\" fill=\"#000000\">value = [25, 16]</text>\n<text text-anchor=\"middle\" x=\"186\" y=\"-198.8\" font-family=\"Times,serif\" font-size=\"14.00\" fill=\"#000000\">class = 0</text>\n</g>\n<!-- 7&#45;&gt;8 -->\n<g id=\"edge8\" class=\"edge\">\n<title>7&#45;&gt;8</title>\n<path fill=\"none\" stroke=\"#000000\" d=\"M304.9453,-313.8477C287.4906,-301.9102 268.0436,-288.6103 250.0152,-276.2805\"/>\n<polygon fill=\"#000000\" stroke=\"#000000\" points=\"251.5238,-273.072 241.2938,-270.3159 247.5722,-278.85 251.5238,-273.072\"/>\n</g>\n<!-- 35 -->\n<g id=\"node14\" class=\"node\">\n<title>35</title>\n<polygon fill=\"none\" stroke=\"#000000\" points=\"407.5,-274 312.5,-274 312.5,-191 407.5,-191 407.5,-274\"/>\n<text text-anchor=\"middle\" x=\"360\" y=\"-258.8\" font-family=\"Times,serif\" font-size=\"14.00\" fill=\"#000000\">Parch &lt;= 0.5</text>\n<text text-anchor=\"middle\" x=\"360\" y=\"-243.8\" font-family=\"Times,serif\" font-size=\"14.00\" fill=\"#000000\">gini = 0.346</text>\n<text text-anchor=\"middle\" x=\"360\" y=\"-228.8\" font-family=\"Times,serif\" font-size=\"14.00\" fill=\"#000000\">samples = 9</text>\n<text text-anchor=\"middle\" x=\"360\" y=\"-213.8\" font-family=\"Times,serif\" font-size=\"14.00\" fill=\"#000000\">value = [2, 7]</text>\n<text text-anchor=\"middle\" x=\"360\" y=\"-198.8\" font-family=\"Times,serif\" font-size=\"14.00\" fill=\"#000000\">class = 1</text>\n</g>\n<!-- 7&#45;&gt;35 -->\n<g id=\"edge13\" class=\"edge\">\n<title>7&#45;&gt;35</title>\n<path fill=\"none\" stroke=\"#000000\" d=\"M360,-309.8796C360,-301.6838 360,-292.9891 360,-284.5013\"/>\n<polygon fill=\"#000000\" stroke=\"#000000\" points=\"363.5001,-284.298 360,-274.2981 356.5001,-284.2981 363.5001,-284.298\"/>\n</g>\n<!-- 9 -->\n<g id=\"node10\" class=\"node\">\n<title>9</title>\n<polygon fill=\"none\" stroke=\"#000000\" points=\"120,-155 6,-155 6,-72 120,-72 120,-155\"/>\n<text text-anchor=\"middle\" x=\"63\" y=\"-139.8\" font-family=\"Times,serif\" font-size=\"14.00\" fill=\"#000000\">Fare &lt;= 387.665</text>\n<text text-anchor=\"middle\" x=\"63\" y=\"-124.8\" font-family=\"Times,serif\" font-size=\"14.00\" fill=\"#000000\">gini = 0.494</text>\n<text text-anchor=\"middle\" x=\"63\" y=\"-109.8\" font-family=\"Times,serif\" font-size=\"14.00\" fill=\"#000000\">samples = 36</text>\n<text text-anchor=\"middle\" x=\"63\" y=\"-94.8\" font-family=\"Times,serif\" font-size=\"14.00\" fill=\"#000000\">value = [20, 16]</text>\n<text text-anchor=\"middle\" x=\"63\" y=\"-79.8\" font-family=\"Times,serif\" font-size=\"14.00\" fill=\"#000000\">class = 0</text>\n</g>\n<!-- 8&#45;&gt;9 -->\n<g id=\"edge9\" class=\"edge\">\n<title>8&#45;&gt;9</title>\n<path fill=\"none\" stroke=\"#000000\" d=\"M142.9806,-190.8796C133.4853,-181.6931 123.3422,-171.8798 113.5785,-162.4336\"/>\n<polygon fill=\"#000000\" stroke=\"#000000\" points=\"115.8237,-159.7359 106.203,-155.2981 110.9564,-164.7668 115.8237,-159.7359\"/>\n</g>\n<!-- 34 -->\n<g id=\"node13\" class=\"node\">\n<title>34</title>\n<polygon fill=\"none\" stroke=\"#000000\" points=\"233.5,-147.5 138.5,-147.5 138.5,-79.5 233.5,-79.5 233.5,-147.5\"/>\n<text text-anchor=\"middle\" x=\"186\" y=\"-132.3\" font-family=\"Times,serif\" font-size=\"14.00\" fill=\"#000000\">gini = 0.0</text>\n<text text-anchor=\"middle\" x=\"186\" y=\"-117.3\" font-family=\"Times,serif\" font-size=\"14.00\" fill=\"#000000\">samples = 5</text>\n<text text-anchor=\"middle\" x=\"186\" y=\"-102.3\" font-family=\"Times,serif\" font-size=\"14.00\" fill=\"#000000\">value = [5, 0]</text>\n<text text-anchor=\"middle\" x=\"186\" y=\"-87.3\" font-family=\"Times,serif\" font-size=\"14.00\" fill=\"#000000\">class = 0</text>\n</g>\n<!-- 8&#45;&gt;34 -->\n<g id=\"edge12\" class=\"edge\">\n<title>8&#45;&gt;34</title>\n<path fill=\"none\" stroke=\"#000000\" d=\"M186,-190.8796C186,-180.2134 186,-168.7021 186,-157.9015\"/>\n<polygon fill=\"#000000\" stroke=\"#000000\" points=\"189.5001,-157.8149 186,-147.8149 182.5001,-157.815 189.5001,-157.8149\"/>\n</g>\n<!-- 10 -->\n<g id=\"node11\" class=\"node\">\n<title>10</title>\n<polygon fill=\"none\" stroke=\"#000000\" points=\"54,-36 0,-36 0,0 54,0 54,-36\"/>\n<text text-anchor=\"middle\" x=\"27\" y=\"-14.3\" font-family=\"Times,serif\" font-size=\"14.00\" fill=\"#000000\">(...)</text>\n</g>\n<!-- 9&#45;&gt;10 -->\n<g id=\"edge10\" class=\"edge\">\n<title>9&#45;&gt;10</title>\n<path fill=\"none\" stroke=\"#000000\" d=\"M47.3146,-71.8901C43.9739,-63.0279 40.525,-53.8788 37.4386,-45.6913\"/>\n<polygon fill=\"#000000\" stroke=\"#000000\" points=\"40.6877,-44.3878 33.8853,-36.2651 34.1376,-46.8569 40.6877,-44.3878\"/>\n</g>\n<!-- 33 -->\n<g id=\"node12\" class=\"node\">\n<title>33</title>\n<polygon fill=\"none\" stroke=\"#000000\" points=\"126,-36 72,-36 72,0 126,0 126,-36\"/>\n<text text-anchor=\"middle\" x=\"99\" y=\"-14.3\" font-family=\"Times,serif\" font-size=\"14.00\" fill=\"#000000\">(...)</text>\n</g>\n<!-- 9&#45;&gt;33 -->\n<g id=\"edge11\" class=\"edge\">\n<title>9&#45;&gt;33</title>\n<path fill=\"none\" stroke=\"#000000\" d=\"M78.6854,-71.8901C82.0261,-63.0279 85.475,-53.8788 88.5614,-45.6913\"/>\n<polygon fill=\"#000000\" stroke=\"#000000\" points=\"91.8624,-46.8569 92.1147,-36.2651 85.3123,-44.3878 91.8624,-46.8569\"/>\n</g>\n<!-- 36 -->\n<g id=\"node15\" class=\"node\">\n<title>36</title>\n<polygon fill=\"none\" stroke=\"#000000\" points=\"346.5,-155 251.5,-155 251.5,-72 346.5,-72 346.5,-155\"/>\n<text text-anchor=\"middle\" x=\"299\" y=\"-139.8\" font-family=\"Times,serif\" font-size=\"14.00\" fill=\"#000000\">Age &lt;= 49.5</text>\n<text text-anchor=\"middle\" x=\"299\" y=\"-124.8\" font-family=\"Times,serif\" font-size=\"14.00\" fill=\"#000000\">gini = 0.219</text>\n<text text-anchor=\"middle\" x=\"299\" y=\"-109.8\" font-family=\"Times,serif\" font-size=\"14.00\" fill=\"#000000\">samples = 8</text>\n<text text-anchor=\"middle\" x=\"299\" y=\"-94.8\" font-family=\"Times,serif\" font-size=\"14.00\" fill=\"#000000\">value = [1, 7]</text>\n<text text-anchor=\"middle\" x=\"299\" y=\"-79.8\" font-family=\"Times,serif\" font-size=\"14.00\" fill=\"#000000\">class = 1</text>\n</g>\n<!-- 35&#45;&gt;36 -->\n<g id=\"edge14\" class=\"edge\">\n<title>35&#45;&gt;36</title>\n<path fill=\"none\" stroke=\"#000000\" d=\"M338.6652,-190.8796C334.2793,-182.3236 329.6147,-173.2238 325.083,-164.3833\"/>\n<polygon fill=\"#000000\" stroke=\"#000000\" points=\"328.1022,-162.6004 320.4259,-155.2981 321.873,-165.7936 328.1022,-162.6004\"/>\n</g>\n<!-- 43 -->\n<g id=\"node18\" class=\"node\">\n<title>43</title>\n<polygon fill=\"none\" stroke=\"#000000\" points=\"459.5,-147.5 364.5,-147.5 364.5,-79.5 459.5,-79.5 459.5,-147.5\"/>\n<text text-anchor=\"middle\" x=\"412\" y=\"-132.3\" font-family=\"Times,serif\" font-size=\"14.00\" fill=\"#000000\">gini = 0.0</text>\n<text text-anchor=\"middle\" x=\"412\" y=\"-117.3\" font-family=\"Times,serif\" font-size=\"14.00\" fill=\"#000000\">samples = 1</text>\n<text text-anchor=\"middle\" x=\"412\" y=\"-102.3\" font-family=\"Times,serif\" font-size=\"14.00\" fill=\"#000000\">value = [1, 0]</text>\n<text text-anchor=\"middle\" x=\"412\" y=\"-87.3\" font-family=\"Times,serif\" font-size=\"14.00\" fill=\"#000000\">class = 0</text>\n</g>\n<!-- 35&#45;&gt;43 -->\n<g id=\"edge17\" class=\"edge\">\n<title>35&#45;&gt;43</title>\n<path fill=\"none\" stroke=\"#000000\" d=\"M378.1871,-190.8796C382.944,-179.9935 388.0857,-168.227 392.8892,-157.2344\"/>\n<polygon fill=\"#000000\" stroke=\"#000000\" points=\"396.2082,-158.3798 397.0052,-147.8149 389.7939,-155.5768 396.2082,-158.3798\"/>\n</g>\n<!-- 37 -->\n<g id=\"node16\" class=\"node\">\n<title>37</title>\n<polygon fill=\"none\" stroke=\"#000000\" points=\"290,-36 236,-36 236,0 290,0 290,-36\"/>\n<text text-anchor=\"middle\" x=\"263\" y=\"-14.3\" font-family=\"Times,serif\" font-size=\"14.00\" fill=\"#000000\">(...)</text>\n</g>\n<!-- 36&#45;&gt;37 -->\n<g id=\"edge15\" class=\"edge\">\n<title>36&#45;&gt;37</title>\n<path fill=\"none\" stroke=\"#000000\" d=\"M283.3146,-71.8901C279.9739,-63.0279 276.525,-53.8788 273.4386,-45.6913\"/>\n<polygon fill=\"#000000\" stroke=\"#000000\" points=\"276.6877,-44.3878 269.8853,-36.2651 270.1376,-46.8569 276.6877,-44.3878\"/>\n</g>\n<!-- 38 -->\n<g id=\"node17\" class=\"node\">\n<title>38</title>\n<polygon fill=\"none\" stroke=\"#000000\" points=\"362,-36 308,-36 308,0 362,0 362,-36\"/>\n<text text-anchor=\"middle\" x=\"335\" y=\"-14.3\" font-family=\"Times,serif\" font-size=\"14.00\" fill=\"#000000\">(...)</text>\n</g>\n<!-- 36&#45;&gt;38 -->\n<g id=\"edge16\" class=\"edge\">\n<title>36&#45;&gt;38</title>\n<path fill=\"none\" stroke=\"#000000\" d=\"M314.6854,-71.8901C318.0261,-63.0279 321.475,-53.8788 324.5614,-45.6913\"/>\n<polygon fill=\"#000000\" stroke=\"#000000\" points=\"327.8624,-46.8569 328.1147,-36.2651 321.3123,-44.3878 327.8624,-46.8569\"/>\n</g>\n<!-- 45 -->\n<g id=\"node20\" class=\"node\">\n<title>45</title>\n<polygon fill=\"none\" stroke=\"#000000\" points=\"705.5,-274 598.5,-274 598.5,-191 705.5,-191 705.5,-274\"/>\n<text text-anchor=\"middle\" x=\"652\" y=\"-258.8\" font-family=\"Times,serif\" font-size=\"14.00\" fill=\"#000000\">Fare &lt;= 35.077</text>\n<text text-anchor=\"middle\" x=\"652\" y=\"-243.8\" font-family=\"Times,serif\" font-size=\"14.00\" fill=\"#000000\">gini = 0.133</text>\n<text text-anchor=\"middle\" x=\"652\" y=\"-228.8\" font-family=\"Times,serif\" font-size=\"14.00\" fill=\"#000000\">samples = 14</text>\n<text text-anchor=\"middle\" x=\"652\" y=\"-213.8\" font-family=\"Times,serif\" font-size=\"14.00\" fill=\"#000000\">value = [13, 1]</text>\n<text text-anchor=\"middle\" x=\"652\" y=\"-198.8\" font-family=\"Times,serif\" font-size=\"14.00\" fill=\"#000000\">class = 0</text>\n</g>\n<!-- 44&#45;&gt;45 -->\n<g id=\"edge19\" class=\"edge\">\n<title>44&#45;&gt;45</title>\n<path fill=\"none\" stroke=\"#000000\" d=\"M729.3796,-309.8796C720.1931,-300.6931 710.3798,-290.8798 700.9336,-281.4336\"/>\n<polygon fill=\"#000000\" stroke=\"#000000\" points=\"703.3441,-278.8943 693.7981,-274.2981 698.3943,-283.8441 703.3441,-278.8943\"/>\n</g>\n<!-- 50 -->\n<g id=\"node25\" class=\"node\">\n<title>50</title>\n<polygon fill=\"none\" stroke=\"#000000\" points=\"818.5,-266.5 723.5,-266.5 723.5,-198.5 818.5,-198.5 818.5,-266.5\"/>\n<text text-anchor=\"middle\" x=\"771\" y=\"-251.3\" font-family=\"Times,serif\" font-size=\"14.00\" fill=\"#000000\">gini = 0.0</text>\n<text text-anchor=\"middle\" x=\"771\" y=\"-236.3\" font-family=\"Times,serif\" font-size=\"14.00\" fill=\"#000000\">samples = 1</text>\n<text text-anchor=\"middle\" x=\"771\" y=\"-221.3\" font-family=\"Times,serif\" font-size=\"14.00\" fill=\"#000000\">value = [0, 1]</text>\n<text text-anchor=\"middle\" x=\"771\" y=\"-206.3\" font-family=\"Times,serif\" font-size=\"14.00\" fill=\"#000000\">class = 1</text>\n</g>\n<!-- 44&#45;&gt;50 -->\n<g id=\"edge24\" class=\"edge\">\n<title>44&#45;&gt;50</title>\n<path fill=\"none\" stroke=\"#000000\" d=\"M771,-309.8796C771,-299.2134 771,-287.7021 771,-276.9015\"/>\n<polygon fill=\"#000000\" stroke=\"#000000\" points=\"774.5001,-276.8149 771,-266.8149 767.5001,-276.815 774.5001,-276.8149\"/>\n</g>\n<!-- 46 -->\n<g id=\"node21\" class=\"node\">\n<title>46</title>\n<polygon fill=\"none\" stroke=\"#000000\" points=\"580,-147.5 478,-147.5 478,-79.5 580,-79.5 580,-147.5\"/>\n<text text-anchor=\"middle\" x=\"529\" y=\"-132.3\" font-family=\"Times,serif\" font-size=\"14.00\" fill=\"#000000\">gini = 0.0</text>\n<text text-anchor=\"middle\" x=\"529\" y=\"-117.3\" font-family=\"Times,serif\" font-size=\"14.00\" fill=\"#000000\">samples = 10</text>\n<text text-anchor=\"middle\" x=\"529\" y=\"-102.3\" font-family=\"Times,serif\" font-size=\"14.00\" fill=\"#000000\">value = [10, 0]</text>\n<text text-anchor=\"middle\" x=\"529\" y=\"-87.3\" font-family=\"Times,serif\" font-size=\"14.00\" fill=\"#000000\">class = 0</text>\n</g>\n<!-- 45&#45;&gt;46 -->\n<g id=\"edge20\" class=\"edge\">\n<title>45&#45;&gt;46</title>\n<path fill=\"none\" stroke=\"#000000\" d=\"M608.9806,-190.8796C596.9329,-179.2237 583.8422,-166.5587 571.8069,-154.9148\"/>\n<polygon fill=\"#000000\" stroke=\"#000000\" points=\"574.089,-152.2528 564.4684,-147.8149 569.2217,-157.2837 574.089,-152.2528\"/>\n</g>\n<!-- 47 -->\n<g id=\"node22\" class=\"node\">\n<title>47</title>\n<polygon fill=\"none\" stroke=\"#000000\" points=\"705.5,-155 598.5,-155 598.5,-72 705.5,-72 705.5,-155\"/>\n<text text-anchor=\"middle\" x=\"652\" y=\"-139.8\" font-family=\"Times,serif\" font-size=\"14.00\" fill=\"#000000\">Fare &lt;= 42.502</text>\n<text text-anchor=\"middle\" x=\"652\" y=\"-124.8\" font-family=\"Times,serif\" font-size=\"14.00\" fill=\"#000000\">gini = 0.375</text>\n<text text-anchor=\"middle\" x=\"652\" y=\"-109.8\" font-family=\"Times,serif\" font-size=\"14.00\" fill=\"#000000\">samples = 4</text>\n<text text-anchor=\"middle\" x=\"652\" y=\"-94.8\" font-family=\"Times,serif\" font-size=\"14.00\" fill=\"#000000\">value = [3, 1]</text>\n<text text-anchor=\"middle\" x=\"652\" y=\"-79.8\" font-family=\"Times,serif\" font-size=\"14.00\" fill=\"#000000\">class = 0</text>\n</g>\n<!-- 45&#45;&gt;47 -->\n<g id=\"edge21\" class=\"edge\">\n<title>45&#45;&gt;47</title>\n<path fill=\"none\" stroke=\"#000000\" d=\"M652,-190.8796C652,-182.6838 652,-173.9891 652,-165.5013\"/>\n<polygon fill=\"#000000\" stroke=\"#000000\" points=\"655.5001,-165.298 652,-155.2981 648.5001,-165.2981 655.5001,-165.298\"/>\n</g>\n<!-- 48 -->\n<g id=\"node23\" class=\"node\">\n<title>48</title>\n<polygon fill=\"none\" stroke=\"#000000\" points=\"643,-36 589,-36 589,0 643,0 643,-36\"/>\n<text text-anchor=\"middle\" x=\"616\" y=\"-14.3\" font-family=\"Times,serif\" font-size=\"14.00\" fill=\"#000000\">(...)</text>\n</g>\n<!-- 47&#45;&gt;48 -->\n<g id=\"edge22\" class=\"edge\">\n<title>47&#45;&gt;48</title>\n<path fill=\"none\" stroke=\"#000000\" d=\"M636.3146,-71.8901C632.9739,-63.0279 629.525,-53.8788 626.4386,-45.6913\"/>\n<polygon fill=\"#000000\" stroke=\"#000000\" points=\"629.6877,-44.3878 622.8853,-36.2651 623.1376,-46.8569 629.6877,-44.3878\"/>\n</g>\n<!-- 49 -->\n<g id=\"node24\" class=\"node\">\n<title>49</title>\n<polygon fill=\"none\" stroke=\"#000000\" points=\"715,-36 661,-36 661,0 715,0 715,-36\"/>\n<text text-anchor=\"middle\" x=\"688\" y=\"-14.3\" font-family=\"Times,serif\" font-size=\"14.00\" fill=\"#000000\">(...)</text>\n</g>\n<!-- 47&#45;&gt;49 -->\n<g id=\"edge23\" class=\"edge\">\n<title>47&#45;&gt;49</title>\n<path fill=\"none\" stroke=\"#000000\" d=\"M667.6854,-71.8901C671.0261,-63.0279 674.475,-53.8788 677.5614,-45.6913\"/>\n<polygon fill=\"#000000\" stroke=\"#000000\" points=\"680.8624,-46.8569 681.1147,-36.2651 674.3123,-44.3878 680.8624,-46.8569\"/>\n</g>\n<!-- 52 -->\n<g id=\"node27\" class=\"node\">\n<title>52</title>\n<polygon fill=\"none\" stroke=\"#000000\" points=\"1040.5,-393 923.5,-393 923.5,-310 1040.5,-310 1040.5,-393\"/>\n<text text-anchor=\"middle\" x=\"982\" y=\"-377.8\" font-family=\"Times,serif\" font-size=\"14.00\" fill=\"#000000\">Age &lt;= 13.0</text>\n<text text-anchor=\"middle\" x=\"982\" y=\"-362.8\" font-family=\"Times,serif\" font-size=\"14.00\" fill=\"#000000\">gini = 0.189</text>\n<text text-anchor=\"middle\" x=\"982\" y=\"-347.8\" font-family=\"Times,serif\" font-size=\"14.00\" fill=\"#000000\">samples = 227</text>\n<text text-anchor=\"middle\" x=\"982\" y=\"-332.8\" font-family=\"Times,serif\" font-size=\"14.00\" fill=\"#000000\">value = [203, 24]</text>\n<text text-anchor=\"middle\" x=\"982\" y=\"-317.8\" font-family=\"Times,serif\" font-size=\"14.00\" fill=\"#000000\">class = 0</text>\n</g>\n<!-- 51&#45;&gt;52 -->\n<g id=\"edge26\" class=\"edge\">\n<title>51&#45;&gt;52</title>\n<path fill=\"none\" stroke=\"#000000\" d=\"M982,-428.8796C982,-420.6838 982,-411.9891 982,-403.5013\"/>\n<polygon fill=\"#000000\" stroke=\"#000000\" points=\"985.5001,-403.298 982,-393.2981 978.5001,-403.2981 985.5001,-403.298\"/>\n</g>\n<!-- 143 -->\n<g id=\"node38\" class=\"node\">\n<title>143</title>\n<polygon fill=\"none\" stroke=\"#000000\" points=\"1306.5,-393 1199.5,-393 1199.5,-310 1306.5,-310 1306.5,-393\"/>\n<text text-anchor=\"middle\" x=\"1253\" y=\"-377.8\" font-family=\"Times,serif\" font-size=\"14.00\" fill=\"#000000\">Fare &lt;= 64.998</text>\n<text text-anchor=\"middle\" x=\"1253\" y=\"-362.8\" font-family=\"Times,serif\" font-size=\"14.00\" fill=\"#000000\">gini = 0.49</text>\n<text text-anchor=\"middle\" x=\"1253\" y=\"-347.8\" font-family=\"Times,serif\" font-size=\"14.00\" fill=\"#000000\">samples = 7</text>\n<text text-anchor=\"middle\" x=\"1253\" y=\"-332.8\" font-family=\"Times,serif\" font-size=\"14.00\" fill=\"#000000\">value = [4, 3]</text>\n<text text-anchor=\"middle\" x=\"1253\" y=\"-317.8\" font-family=\"Times,serif\" font-size=\"14.00\" fill=\"#000000\">class = 0</text>\n</g>\n<!-- 51&#45;&gt;143 -->\n<g id=\"edge37\" class=\"edge\">\n<title>51&#45;&gt;143</title>\n<path fill=\"none\" stroke=\"#000000\" d=\"M1040.803,-444.6788C1084.8389,-425.342 1144.9892,-398.9291 1190.0056,-379.1618\"/>\n<polygon fill=\"#000000\" stroke=\"#000000\" points=\"1191.6217,-382.2747 1199.3706,-375.0494 1188.8072,-375.8654 1191.6217,-382.2747\"/>\n</g>\n<!-- 53 -->\n<g id=\"node28\" class=\"node\">\n<title>53</title>\n<polygon fill=\"none\" stroke=\"#000000\" points=\"931.5,-274 836.5,-274 836.5,-191 931.5,-191 931.5,-274\"/>\n<text text-anchor=\"middle\" x=\"884\" y=\"-258.8\" font-family=\"Times,serif\" font-size=\"14.00\" fill=\"#000000\">SibSp &lt;= 2.0</text>\n<text text-anchor=\"middle\" x=\"884\" y=\"-243.8\" font-family=\"Times,serif\" font-size=\"14.00\" fill=\"#000000\">gini = 0.444</text>\n<text text-anchor=\"middle\" x=\"884\" y=\"-228.8\" font-family=\"Times,serif\" font-size=\"14.00\" fill=\"#000000\">samples = 9</text>\n<text text-anchor=\"middle\" x=\"884\" y=\"-213.8\" font-family=\"Times,serif\" font-size=\"14.00\" fill=\"#000000\">value = [6, 3]</text>\n<text text-anchor=\"middle\" x=\"884\" y=\"-198.8\" font-family=\"Times,serif\" font-size=\"14.00\" fill=\"#000000\">class = 0</text>\n</g>\n<!-- 52&#45;&gt;53 -->\n<g id=\"edge27\" class=\"edge\">\n<title>52&#45;&gt;53</title>\n<path fill=\"none\" stroke=\"#000000\" d=\"M947.7244,-309.8796C940.3816,-300.9633 932.5524,-291.4565 924.9854,-282.268\"/>\n<polygon fill=\"#000000\" stroke=\"#000000\" points=\"927.4808,-279.7924 918.4219,-274.2981 922.0773,-284.2424 927.4808,-279.7924\"/>\n</g>\n<!-- 56 -->\n<g id=\"node31\" class=\"node\">\n<title>56</title>\n<polygon fill=\"none\" stroke=\"#000000\" points=\"1066.5,-274 949.5,-274 949.5,-191 1066.5,-191 1066.5,-274\"/>\n<text text-anchor=\"middle\" x=\"1008\" y=\"-258.8\" font-family=\"Times,serif\" font-size=\"14.00\" fill=\"#000000\">Fare &lt;= 8.175</text>\n<text text-anchor=\"middle\" x=\"1008\" y=\"-243.8\" font-family=\"Times,serif\" font-size=\"14.00\" fill=\"#000000\">gini = 0.174</text>\n<text text-anchor=\"middle\" x=\"1008\" y=\"-228.8\" font-family=\"Times,serif\" font-size=\"14.00\" fill=\"#000000\">samples = 218</text>\n<text text-anchor=\"middle\" x=\"1008\" y=\"-213.8\" font-family=\"Times,serif\" font-size=\"14.00\" fill=\"#000000\">value = [197, 21]</text>\n<text text-anchor=\"middle\" x=\"1008\" y=\"-198.8\" font-family=\"Times,serif\" font-size=\"14.00\" fill=\"#000000\">class = 0</text>\n</g>\n<!-- 52&#45;&gt;56 -->\n<g id=\"edge30\" class=\"edge\">\n<title>52&#45;&gt;56</title>\n<path fill=\"none\" stroke=\"#000000\" d=\"M991.0935,-309.8796C992.9039,-301.5938 994.8257,-292.798 996.6995,-284.2216\"/>\n<polygon fill=\"#000000\" stroke=\"#000000\" points=\"1000.1524,-284.8147 998.8676,-274.2981 993.3137,-283.3205 1000.1524,-284.8147\"/>\n</g>\n<!-- 54 -->\n<g id=\"node29\" class=\"node\">\n<title>54</title>\n<polygon fill=\"none\" stroke=\"#000000\" points=\"818.5,-147.5 723.5,-147.5 723.5,-79.5 818.5,-79.5 818.5,-147.5\"/>\n<text text-anchor=\"middle\" x=\"771\" y=\"-132.3\" font-family=\"Times,serif\" font-size=\"14.00\" fill=\"#000000\">gini = 0.0</text>\n<text text-anchor=\"middle\" x=\"771\" y=\"-117.3\" font-family=\"Times,serif\" font-size=\"14.00\" fill=\"#000000\">samples = 3</text>\n<text text-anchor=\"middle\" x=\"771\" y=\"-102.3\" font-family=\"Times,serif\" font-size=\"14.00\" fill=\"#000000\">value = [0, 3]</text>\n<text text-anchor=\"middle\" x=\"771\" y=\"-87.3\" font-family=\"Times,serif\" font-size=\"14.00\" fill=\"#000000\">class = 1</text>\n</g>\n<!-- 53&#45;&gt;54 -->\n<g id=\"edge28\" class=\"edge\">\n<title>53&#45;&gt;54</title>\n<path fill=\"none\" stroke=\"#000000\" d=\"M844.4781,-190.8796C833.5143,-179.3337 821.6103,-166.7976 810.6399,-155.2446\"/>\n<polygon fill=\"#000000\" stroke=\"#000000\" points=\"813.0087,-152.6564 803.5848,-147.8149 807.9327,-157.4766 813.0087,-152.6564\"/>\n</g>\n<!-- 55 -->\n<g id=\"node30\" class=\"node\">\n<title>55</title>\n<polygon fill=\"none\" stroke=\"#000000\" points=\"931.5,-147.5 836.5,-147.5 836.5,-79.5 931.5,-79.5 931.5,-147.5\"/>\n<text text-anchor=\"middle\" x=\"884\" y=\"-132.3\" font-family=\"Times,serif\" font-size=\"14.00\" fill=\"#000000\">gini = 0.0</text>\n<text text-anchor=\"middle\" x=\"884\" y=\"-117.3\" font-family=\"Times,serif\" font-size=\"14.00\" fill=\"#000000\">samples = 6</text>\n<text text-anchor=\"middle\" x=\"884\" y=\"-102.3\" font-family=\"Times,serif\" font-size=\"14.00\" fill=\"#000000\">value = [6, 0]</text>\n<text text-anchor=\"middle\" x=\"884\" y=\"-87.3\" font-family=\"Times,serif\" font-size=\"14.00\" fill=\"#000000\">class = 0</text>\n</g>\n<!-- 53&#45;&gt;55 -->\n<g id=\"edge29\" class=\"edge\">\n<title>53&#45;&gt;55</title>\n<path fill=\"none\" stroke=\"#000000\" d=\"M884,-190.8796C884,-180.2134 884,-168.7021 884,-157.9015\"/>\n<polygon fill=\"#000000\" stroke=\"#000000\" points=\"887.5001,-157.8149 884,-147.8149 880.5001,-157.815 887.5001,-157.8149\"/>\n</g>\n<!-- 57 -->\n<g id=\"node32\" class=\"node\">\n<title>57</title>\n<polygon fill=\"none\" stroke=\"#000000\" points=\"1060,-155 950,-155 950,-72 1060,-72 1060,-155\"/>\n<text text-anchor=\"middle\" x=\"1005\" y=\"-139.8\" font-family=\"Times,serif\" font-size=\"14.00\" fill=\"#000000\">Age &lt;= 32.5</text>\n<text text-anchor=\"middle\" x=\"1005\" y=\"-124.8\" font-family=\"Times,serif\" font-size=\"14.00\" fill=\"#000000\">gini = 0.25</text>\n<text text-anchor=\"middle\" x=\"1005\" y=\"-109.8\" font-family=\"Times,serif\" font-size=\"14.00\" fill=\"#000000\">samples = 109</text>\n<text text-anchor=\"middle\" x=\"1005\" y=\"-94.8\" font-family=\"Times,serif\" font-size=\"14.00\" fill=\"#000000\">value = [93, 16]</text>\n<text text-anchor=\"middle\" x=\"1005\" y=\"-79.8\" font-family=\"Times,serif\" font-size=\"14.00\" fill=\"#000000\">class = 0</text>\n</g>\n<!-- 56&#45;&gt;57 -->\n<g id=\"edge31\" class=\"edge\">\n<title>56&#45;&gt;57</title>\n<path fill=\"none\" stroke=\"#000000\" d=\"M1006.9507,-190.8796C1006.7441,-182.6838 1006.5249,-173.9891 1006.311,-165.5013\"/>\n<polygon fill=\"#000000\" stroke=\"#000000\" points=\"1009.8047,-165.2067 1006.0537,-155.2981 1002.807,-165.3831 1009.8047,-165.2067\"/>\n</g>\n<!-- 110 -->\n<g id=\"node35\" class=\"node\">\n<title>110</title>\n<polygon fill=\"none\" stroke=\"#000000\" points=\"1188,-155 1078,-155 1078,-72 1188,-72 1188,-155\"/>\n<text text-anchor=\"middle\" x=\"1133\" y=\"-139.8\" font-family=\"Times,serif\" font-size=\"14.00\" fill=\"#000000\">Age &lt;= 29.5</text>\n<text text-anchor=\"middle\" x=\"1133\" y=\"-124.8\" font-family=\"Times,serif\" font-size=\"14.00\" fill=\"#000000\">gini = 0.088</text>\n<text text-anchor=\"middle\" x=\"1133\" y=\"-109.8\" font-family=\"Times,serif\" font-size=\"14.00\" fill=\"#000000\">samples = 109</text>\n<text text-anchor=\"middle\" x=\"1133\" y=\"-94.8\" font-family=\"Times,serif\" font-size=\"14.00\" fill=\"#000000\">value = [104, 5]</text>\n<text text-anchor=\"middle\" x=\"1133\" y=\"-79.8\" font-family=\"Times,serif\" font-size=\"14.00\" fill=\"#000000\">class = 0</text>\n</g>\n<!-- 56&#45;&gt;110 -->\n<g id=\"edge34\" class=\"edge\">\n<title>56&#45;&gt;110</title>\n<path fill=\"none\" stroke=\"#000000\" d=\"M1051.7189,-190.8796C1061.3686,-181.6931 1071.6766,-171.8798 1081.5991,-162.4336\"/>\n<polygon fill=\"#000000\" stroke=\"#000000\" points=\"1084.265,-164.7282 1089.0945,-155.2981 1079.4384,-159.6582 1084.265,-164.7282\"/>\n</g>\n<!-- 58 -->\n<g id=\"node33\" class=\"node\">\n<title>58</title>\n<polygon fill=\"none\" stroke=\"#000000\" points=\"964,-36 910,-36 910,0 964,0 964,-36\"/>\n<text text-anchor=\"middle\" x=\"937\" y=\"-14.3\" font-family=\"Times,serif\" font-size=\"14.00\" fill=\"#000000\">(...)</text>\n</g>\n<!-- 57&#45;&gt;58 -->\n<g id=\"edge32\" class=\"edge\">\n<title>57&#45;&gt;58</title>\n<path fill=\"none\" stroke=\"#000000\" d=\"M975.372,-71.8901C968.7844,-62.6384 961.9741,-53.0739 955.9526,-44.6173\"/>\n<polygon fill=\"#000000\" stroke=\"#000000\" points=\"958.6569,-42.381 950.0055,-36.2651 952.9547,-46.4412 958.6569,-42.381\"/>\n</g>\n<!-- 103 -->\n<g id=\"node34\" class=\"node\">\n<title>103</title>\n<polygon fill=\"none\" stroke=\"#000000\" points=\"1036,-36 982,-36 982,0 1036,0 1036,-36\"/>\n<text text-anchor=\"middle\" x=\"1009\" y=\"-14.3\" font-family=\"Times,serif\" font-size=\"14.00\" fill=\"#000000\">(...)</text>\n</g>\n<!-- 57&#45;&gt;103 -->\n<g id=\"edge33\" class=\"edge\">\n<title>57&#45;&gt;103</title>\n<path fill=\"none\" stroke=\"#000000\" d=\"M1006.7428,-71.8901C1007.1018,-63.3201 1007.472,-54.4817 1007.8061,-46.5041\"/>\n<polygon fill=\"#000000\" stroke=\"#000000\" points=\"1011.3133,-46.4028 1008.235,-36.2651 1004.3195,-46.1098 1011.3133,-46.4028\"/>\n</g>\n<!-- 111 -->\n<g id=\"node36\" class=\"node\">\n<title>111</title>\n<polygon fill=\"none\" stroke=\"#000000\" points=\"1113,-36 1059,-36 1059,0 1113,0 1113,-36\"/>\n<text text-anchor=\"middle\" x=\"1086\" y=\"-14.3\" font-family=\"Times,serif\" font-size=\"14.00\" fill=\"#000000\">(...)</text>\n</g>\n<!-- 110&#45;&gt;111 -->\n<g id=\"edge35\" class=\"edge\">\n<title>110&#45;&gt;111</title>\n<path fill=\"none\" stroke=\"#000000\" d=\"M1112.5218,-71.8901C1108.1124,-62.9305 1103.5586,-53.6777 1099.4955,-45.4217\"/>\n<polygon fill=\"#000000\" stroke=\"#000000\" points=\"1102.5451,-43.6919 1094.9891,-36.2651 1096.2645,-46.7829 1102.5451,-43.6919\"/>\n</g>\n<!-- 120 -->\n<g id=\"node37\" class=\"node\">\n<title>120</title>\n<polygon fill=\"none\" stroke=\"#000000\" points=\"1185,-36 1131,-36 1131,0 1185,0 1185,-36\"/>\n<text text-anchor=\"middle\" x=\"1158\" y=\"-14.3\" font-family=\"Times,serif\" font-size=\"14.00\" fill=\"#000000\">(...)</text>\n</g>\n<!-- 110&#45;&gt;120 -->\n<g id=\"edge36\" class=\"edge\">\n<title>110&#45;&gt;120</title>\n<path fill=\"none\" stroke=\"#000000\" d=\"M1143.8926,-71.8901C1146.1871,-63.1253 1148.555,-54.0798 1150.6802,-45.9615\"/>\n<polygon fill=\"#000000\" stroke=\"#000000\" points=\"1154.0719,-46.8255 1153.2186,-36.2651 1147.3001,-45.0527 1154.0719,-46.8255\"/>\n</g>\n<!-- 144 -->\n<g id=\"node39\" class=\"node\">\n<title>144</title>\n<polygon fill=\"none\" stroke=\"#000000\" points=\"1300.5,-274 1205.5,-274 1205.5,-191 1300.5,-191 1300.5,-274\"/>\n<text text-anchor=\"middle\" x=\"1253\" y=\"-258.8\" font-family=\"Times,serif\" font-size=\"14.00\" fill=\"#000000\">Age &lt;= 30.0</text>\n<text text-anchor=\"middle\" x=\"1253\" y=\"-243.8\" font-family=\"Times,serif\" font-size=\"14.00\" fill=\"#000000\">gini = 0.375</text>\n<text text-anchor=\"middle\" x=\"1253\" y=\"-228.8\" font-family=\"Times,serif\" font-size=\"14.00\" fill=\"#000000\">samples = 4</text>\n<text text-anchor=\"middle\" x=\"1253\" y=\"-213.8\" font-family=\"Times,serif\" font-size=\"14.00\" fill=\"#000000\">value = [1, 3]</text>\n<text text-anchor=\"middle\" x=\"1253\" y=\"-198.8\" font-family=\"Times,serif\" font-size=\"14.00\" fill=\"#000000\">class = 1</text>\n</g>\n<!-- 143&#45;&gt;144 -->\n<g id=\"edge38\" class=\"edge\">\n<title>143&#45;&gt;144</title>\n<path fill=\"none\" stroke=\"#000000\" d=\"M1253,-309.8796C1253,-301.6838 1253,-292.9891 1253,-284.5013\"/>\n<polygon fill=\"#000000\" stroke=\"#000000\" points=\"1256.5001,-284.298 1253,-274.2981 1249.5001,-284.2981 1256.5001,-284.298\"/>\n</g>\n<!-- 149 -->\n<g id=\"node44\" class=\"node\">\n<title>149</title>\n<polygon fill=\"none\" stroke=\"#000000\" points=\"1413.5,-266.5 1318.5,-266.5 1318.5,-198.5 1413.5,-198.5 1413.5,-266.5\"/>\n<text text-anchor=\"middle\" x=\"1366\" y=\"-251.3\" font-family=\"Times,serif\" font-size=\"14.00\" fill=\"#000000\">gini = 0.0</text>\n<text text-anchor=\"middle\" x=\"1366\" y=\"-236.3\" font-family=\"Times,serif\" font-size=\"14.00\" fill=\"#000000\">samples = 3</text>\n<text text-anchor=\"middle\" x=\"1366\" y=\"-221.3\" font-family=\"Times,serif\" font-size=\"14.00\" fill=\"#000000\">value = [3, 0]</text>\n<text text-anchor=\"middle\" x=\"1366\" y=\"-206.3\" font-family=\"Times,serif\" font-size=\"14.00\" fill=\"#000000\">class = 0</text>\n</g>\n<!-- 143&#45;&gt;149 -->\n<g id=\"edge43\" class=\"edge\">\n<title>143&#45;&gt;149</title>\n<path fill=\"none\" stroke=\"#000000\" d=\"M1292.5219,-309.8796C1303.4857,-298.3337 1315.3897,-285.7976 1326.3601,-274.2446\"/>\n<polygon fill=\"#000000\" stroke=\"#000000\" points=\"1329.0673,-276.4766 1333.4152,-266.8149 1323.9913,-271.6564 1329.0673,-276.4766\"/>\n</g>\n<!-- 145 -->\n<g id=\"node40\" class=\"node\">\n<title>145</title>\n<polygon fill=\"none\" stroke=\"#000000\" points=\"1301.5,-155 1206.5,-155 1206.5,-72 1301.5,-72 1301.5,-155\"/>\n<text text-anchor=\"middle\" x=\"1254\" y=\"-139.8\" font-family=\"Times,serif\" font-size=\"14.00\" fill=\"#000000\">Age &lt;= 27.0</text>\n<text text-anchor=\"middle\" x=\"1254\" y=\"-124.8\" font-family=\"Times,serif\" font-size=\"14.00\" fill=\"#000000\">gini = 0.5</text>\n<text text-anchor=\"middle\" x=\"1254\" y=\"-109.8\" font-family=\"Times,serif\" font-size=\"14.00\" fill=\"#000000\">samples = 2</text>\n<text text-anchor=\"middle\" x=\"1254\" y=\"-94.8\" font-family=\"Times,serif\" font-size=\"14.00\" fill=\"#000000\">value = [1, 1]</text>\n<text text-anchor=\"middle\" x=\"1254\" y=\"-79.8\" font-family=\"Times,serif\" font-size=\"14.00\" fill=\"#000000\">class = 0</text>\n</g>\n<!-- 144&#45;&gt;145 -->\n<g id=\"edge39\" class=\"edge\">\n<title>144&#45;&gt;145</title>\n<path fill=\"none\" stroke=\"#000000\" d=\"M1253.3498,-190.8796C1253.4186,-182.6838 1253.4917,-173.9891 1253.563,-165.5013\"/>\n<polygon fill=\"#000000\" stroke=\"#000000\" points=\"1257.0645,-165.3272 1253.6488,-155.2981 1250.0648,-165.2683 1257.0645,-165.3272\"/>\n</g>\n<!-- 148 -->\n<g id=\"node43\" class=\"node\">\n<title>148</title>\n<polygon fill=\"none\" stroke=\"#000000\" points=\"1414.5,-147.5 1319.5,-147.5 1319.5,-79.5 1414.5,-79.5 1414.5,-147.5\"/>\n<text text-anchor=\"middle\" x=\"1367\" y=\"-132.3\" font-family=\"Times,serif\" font-size=\"14.00\" fill=\"#000000\">gini = 0.0</text>\n<text text-anchor=\"middle\" x=\"1367\" y=\"-117.3\" font-family=\"Times,serif\" font-size=\"14.00\" fill=\"#000000\">samples = 2</text>\n<text text-anchor=\"middle\" x=\"1367\" y=\"-102.3\" font-family=\"Times,serif\" font-size=\"14.00\" fill=\"#000000\">value = [0, 2]</text>\n<text text-anchor=\"middle\" x=\"1367\" y=\"-87.3\" font-family=\"Times,serif\" font-size=\"14.00\" fill=\"#000000\">class = 1</text>\n</g>\n<!-- 144&#45;&gt;148 -->\n<g id=\"edge42\" class=\"edge\">\n<title>144&#45;&gt;148</title>\n<path fill=\"none\" stroke=\"#000000\" d=\"M1292.8717,-190.8796C1303.9324,-179.3337 1315.9418,-166.7976 1327.0094,-155.2446\"/>\n<polygon fill=\"#000000\" stroke=\"#000000\" points=\"1329.7365,-157.4573 1334.1269,-147.8149 1324.6817,-152.6149 1329.7365,-157.4573\"/>\n</g>\n<!-- 146 -->\n<g id=\"node41\" class=\"node\">\n<title>146</title>\n<polygon fill=\"none\" stroke=\"#000000\" points=\"1265,-36 1211,-36 1211,0 1265,0 1265,-36\"/>\n<text text-anchor=\"middle\" x=\"1238\" y=\"-14.3\" font-family=\"Times,serif\" font-size=\"14.00\" fill=\"#000000\">(...)</text>\n</g>\n<!-- 145&#45;&gt;146 -->\n<g id=\"edge40\" class=\"edge\">\n<title>145&#45;&gt;146</title>\n<path fill=\"none\" stroke=\"#000000\" d=\"M1247.0287,-71.8901C1245.5766,-63.2227 1244.0785,-54.2808 1242.73,-46.2325\"/>\n<polygon fill=\"#000000\" stroke=\"#000000\" points=\"1246.1645,-45.5493 1241.0601,-36.2651 1239.2607,-46.706 1246.1645,-45.5493\"/>\n</g>\n<!-- 147 -->\n<g id=\"node42\" class=\"node\">\n<title>147</title>\n<polygon fill=\"none\" stroke=\"#000000\" points=\"1337,-36 1283,-36 1283,0 1337,0 1337,-36\"/>\n<text text-anchor=\"middle\" x=\"1310\" y=\"-14.3\" font-family=\"Times,serif\" font-size=\"14.00\" fill=\"#000000\">(...)</text>\n</g>\n<!-- 145&#45;&gt;147 -->\n<g id=\"edge41\" class=\"edge\">\n<title>145&#45;&gt;147</title>\n<path fill=\"none\" stroke=\"#000000\" d=\"M1278.3995,-71.8901C1283.7104,-62.8331 1289.197,-53.4765 1294.0779,-45.1528\"/>\n<polygon fill=\"#000000\" stroke=\"#000000\" points=\"1297.2504,-46.6619 1299.2896,-36.2651 1291.212,-43.121 1297.2504,-46.6619\"/>\n</g>\n<!-- 151 -->\n<g id=\"node46\" class=\"node\">\n<title>151</title>\n<polygon fill=\"none\" stroke=\"#000000\" points=\"1833,-631 1723,-631 1723,-548 1833,-548 1833,-631\"/>\n<text text-anchor=\"middle\" x=\"1778\" y=\"-615.8\" font-family=\"Times,serif\" font-size=\"14.00\" fill=\"#000000\">Fare &lt;= 26.125</text>\n<text text-anchor=\"middle\" x=\"1778\" y=\"-600.8\" font-family=\"Times,serif\" font-size=\"14.00\" fill=\"#000000\">gini = 0.089</text>\n<text text-anchor=\"middle\" x=\"1778\" y=\"-585.8\" font-family=\"Times,serif\" font-size=\"14.00\" fill=\"#000000\">samples = 107</text>\n<text text-anchor=\"middle\" x=\"1778\" y=\"-570.8\" font-family=\"Times,serif\" font-size=\"14.00\" fill=\"#000000\">value = [5, 102]</text>\n<text text-anchor=\"middle\" x=\"1778\" y=\"-555.8\" font-family=\"Times,serif\" font-size=\"14.00\" fill=\"#000000\">class = 1</text>\n</g>\n<!-- 150&#45;&gt;151 -->\n<g id=\"edge45\" class=\"edge\">\n<title>150&#45;&gt;151</title>\n<path fill=\"none\" stroke=\"#000000\" d=\"M1778,-666.8796C1778,-658.6838 1778,-649.9891 1778,-641.5013\"/>\n<polygon fill=\"#000000\" stroke=\"#000000\" points=\"1781.5001,-641.298 1778,-631.2981 1774.5001,-641.2981 1781.5001,-641.298\"/>\n</g>\n<!-- 184 -->\n<g id=\"node69\" class=\"node\">\n<title>184</title>\n<polygon fill=\"none\" stroke=\"#000000\" points=\"2580,-631 2470,-631 2470,-548 2580,-548 2580,-631\"/>\n<text text-anchor=\"middle\" x=\"2525\" y=\"-615.8\" font-family=\"Times,serif\" font-size=\"14.00\" fill=\"#000000\">Fare &lt;= 20.8</text>\n<text text-anchor=\"middle\" x=\"2525\" y=\"-600.8\" font-family=\"Times,serif\" font-size=\"14.00\" fill=\"#000000\">gini = 0.493</text>\n<text text-anchor=\"middle\" x=\"2525\" y=\"-585.8\" font-family=\"Times,serif\" font-size=\"14.00\" fill=\"#000000\">samples = 75</text>\n<text text-anchor=\"middle\" x=\"2525\" y=\"-570.8\" font-family=\"Times,serif\" font-size=\"14.00\" fill=\"#000000\">value = [42, 33]</text>\n<text text-anchor=\"middle\" x=\"2525\" y=\"-555.8\" font-family=\"Times,serif\" font-size=\"14.00\" fill=\"#000000\">class = 0</text>\n</g>\n<!-- 150&#45;&gt;184 -->\n<g id=\"edge68\" class=\"edge\">\n<title>150&#45;&gt;184</title>\n<path fill=\"none\" stroke=\"#000000\" d=\"M1836.6158,-699.1623C1974.0751,-677.2645 2316.3764,-622.7346 2459.9724,-599.8591\"/>\n<polygon fill=\"#000000\" stroke=\"#000000\" points=\"2460.6375,-603.2974 2469.9624,-598.2677 2459.5362,-596.3846 2460.6375,-603.2974\"/>\n</g>\n<!-- 152 -->\n<g id=\"node47\" class=\"node\">\n<title>152</title>\n<polygon fill=\"none\" stroke=\"#000000\" points=\"1766,-512 1664,-512 1664,-429 1766,-429 1766,-512\"/>\n<text text-anchor=\"middle\" x=\"1715\" y=\"-496.8\" font-family=\"Times,serif\" font-size=\"14.00\" fill=\"#000000\">Age &lt;= 36.5</text>\n<text text-anchor=\"middle\" x=\"1715\" y=\"-481.8\" font-family=\"Times,serif\" font-size=\"14.00\" fill=\"#000000\">gini = 0.198</text>\n<text text-anchor=\"middle\" x=\"1715\" y=\"-466.8\" font-family=\"Times,serif\" font-size=\"14.00\" fill=\"#000000\">samples = 36</text>\n<text text-anchor=\"middle\" x=\"1715\" y=\"-451.8\" font-family=\"Times,serif\" font-size=\"14.00\" fill=\"#000000\">value = [4, 32]</text>\n<text text-anchor=\"middle\" x=\"1715\" y=\"-436.8\" font-family=\"Times,serif\" font-size=\"14.00\" fill=\"#000000\">class = 1</text>\n</g>\n<!-- 151&#45;&gt;152 -->\n<g id=\"edge46\" class=\"edge\">\n<title>151&#45;&gt;152</title>\n<path fill=\"none\" stroke=\"#000000\" d=\"M1755.9657,-547.8796C1751.436,-539.3236 1746.6185,-530.2238 1741.9382,-521.3833\"/>\n<polygon fill=\"#000000\" stroke=\"#000000\" points=\"1744.9006,-519.4983 1737.1284,-512.2981 1738.7141,-522.7736 1744.9006,-519.4983\"/>\n</g>\n<!-- 177 -->\n<g id=\"node62\" class=\"node\">\n<title>177</title>\n<polygon fill=\"none\" stroke=\"#000000\" points=\"1898,-512 1784,-512 1784,-429 1898,-429 1898,-512\"/>\n<text text-anchor=\"middle\" x=\"1841\" y=\"-496.8\" font-family=\"Times,serif\" font-size=\"14.00\" fill=\"#000000\">Fare &lt;= 143.592</text>\n<text text-anchor=\"middle\" x=\"1841\" y=\"-481.8\" font-family=\"Times,serif\" font-size=\"14.00\" fill=\"#000000\">gini = 0.028</text>\n<text text-anchor=\"middle\" x=\"1841\" y=\"-466.8\" font-family=\"Times,serif\" font-size=\"14.00\" fill=\"#000000\">samples = 71</text>\n<text text-anchor=\"middle\" x=\"1841\" y=\"-451.8\" font-family=\"Times,serif\" font-size=\"14.00\" fill=\"#000000\">value = [1, 70]</text>\n<text text-anchor=\"middle\" x=\"1841\" y=\"-436.8\" font-family=\"Times,serif\" font-size=\"14.00\" fill=\"#000000\">class = 1</text>\n</g>\n<!-- 151&#45;&gt;177 -->\n<g id=\"edge61\" class=\"edge\">\n<title>151&#45;&gt;177</title>\n<path fill=\"none\" stroke=\"#000000\" d=\"M1800.0343,-547.8796C1804.564,-539.3236 1809.3815,-530.2238 1814.0618,-521.3833\"/>\n<polygon fill=\"#000000\" stroke=\"#000000\" points=\"1817.2859,-522.7736 1818.8716,-512.2981 1811.0994,-519.4983 1817.2859,-522.7736\"/>\n</g>\n<!-- 153 -->\n<g id=\"node48\" class=\"node\">\n<title>153</title>\n<polygon fill=\"none\" stroke=\"#000000\" points=\"1653,-393 1551,-393 1551,-310 1653,-310 1653,-393\"/>\n<text text-anchor=\"middle\" x=\"1602\" y=\"-377.8\" font-family=\"Times,serif\" font-size=\"14.00\" fill=\"#000000\">Age &lt;= 27.5</text>\n<text text-anchor=\"middle\" x=\"1602\" y=\"-362.8\" font-family=\"Times,serif\" font-size=\"14.00\" fill=\"#000000\">gini = 0.142</text>\n<text text-anchor=\"middle\" x=\"1602\" y=\"-347.8\" font-family=\"Times,serif\" font-size=\"14.00\" fill=\"#000000\">samples = 26</text>\n<text text-anchor=\"middle\" x=\"1602\" y=\"-332.8\" font-family=\"Times,serif\" font-size=\"14.00\" fill=\"#000000\">value = [2, 24]</text>\n<text text-anchor=\"middle\" x=\"1602\" y=\"-317.8\" font-family=\"Times,serif\" font-size=\"14.00\" fill=\"#000000\">class = 1</text>\n</g>\n<!-- 152&#45;&gt;153 -->\n<g id=\"edge47\" class=\"edge\">\n<title>152&#45;&gt;153</title>\n<path fill=\"none\" stroke=\"#000000\" d=\"M1675.4781,-428.8796C1666.8403,-419.7832 1657.619,-410.0722 1648.7303,-400.7116\"/>\n<polygon fill=\"#000000\" stroke=\"#000000\" points=\"1651.1146,-398.1395 1641.6906,-393.2981 1646.0385,-402.9597 1651.1146,-398.1395\"/>\n</g>\n<!-- 168 -->\n<g id=\"node55\" class=\"node\">\n<title>168</title>\n<polygon fill=\"none\" stroke=\"#000000\" points=\"1766.5,-393 1671.5,-393 1671.5,-310 1766.5,-310 1766.5,-393\"/>\n<text text-anchor=\"middle\" x=\"1719\" y=\"-377.8\" font-family=\"Times,serif\" font-size=\"14.00\" fill=\"#000000\">Age &lt;= 39.0</text>\n<text text-anchor=\"middle\" x=\"1719\" y=\"-362.8\" font-family=\"Times,serif\" font-size=\"14.00\" fill=\"#000000\">gini = 0.32</text>\n<text text-anchor=\"middle\" x=\"1719\" y=\"-347.8\" font-family=\"Times,serif\" font-size=\"14.00\" fill=\"#000000\">samples = 10</text>\n<text text-anchor=\"middle\" x=\"1719\" y=\"-332.8\" font-family=\"Times,serif\" font-size=\"14.00\" fill=\"#000000\">value = [2, 8]</text>\n<text text-anchor=\"middle\" x=\"1719\" y=\"-317.8\" font-family=\"Times,serif\" font-size=\"14.00\" fill=\"#000000\">class = 1</text>\n</g>\n<!-- 152&#45;&gt;168 -->\n<g id=\"edge54\" class=\"edge\">\n<title>152&#45;&gt;168</title>\n<path fill=\"none\" stroke=\"#000000\" d=\"M1716.399,-428.8796C1716.6745,-420.6838 1716.9668,-411.9891 1717.2521,-403.5013\"/>\n<polygon fill=\"#000000\" stroke=\"#000000\" points=\"1720.757,-403.41 1717.595,-393.2981 1713.761,-403.1748 1720.757,-403.41\"/>\n</g>\n<!-- 154 -->\n<g id=\"node49\" class=\"node\">\n<title>154</title>\n<polygon fill=\"none\" stroke=\"#000000\" points=\"1532.5,-274 1431.5,-274 1431.5,-191 1532.5,-191 1532.5,-274\"/>\n<text text-anchor=\"middle\" x=\"1482\" y=\"-258.8\" font-family=\"Times,serif\" font-size=\"14.00\" fill=\"#000000\">Age &lt;= 23.5</text>\n<text text-anchor=\"middle\" x=\"1482\" y=\"-243.8\" font-family=\"Times,serif\" font-size=\"14.00\" fill=\"#000000\">gini = 0.26</text>\n<text text-anchor=\"middle\" x=\"1482\" y=\"-228.8\" font-family=\"Times,serif\" font-size=\"14.00\" fill=\"#000000\">samples = 13</text>\n<text text-anchor=\"middle\" x=\"1482\" y=\"-213.8\" font-family=\"Times,serif\" font-size=\"14.00\" fill=\"#000000\">value = [2, 11]</text>\n<text text-anchor=\"middle\" x=\"1482\" y=\"-198.8\" font-family=\"Times,serif\" font-size=\"14.00\" fill=\"#000000\">class = 1</text>\n</g>\n<!-- 153&#45;&gt;154 -->\n<g id=\"edge48\" class=\"edge\">\n<title>153&#45;&gt;154</title>\n<path fill=\"none\" stroke=\"#000000\" d=\"M1560.0298,-309.8796C1550.7662,-300.6931 1540.8704,-290.8798 1531.3448,-281.4336\"/>\n<polygon fill=\"#000000\" stroke=\"#000000\" points=\"1533.7144,-278.8543 1524.1493,-274.2981 1528.7854,-283.8247 1533.7144,-278.8543\"/>\n</g>\n<!-- 167 -->\n<g id=\"node54\" class=\"node\">\n<title>167</title>\n<polygon fill=\"none\" stroke=\"#000000\" points=\"1653,-266.5 1551,-266.5 1551,-198.5 1653,-198.5 1653,-266.5\"/>\n<text text-anchor=\"middle\" x=\"1602\" y=\"-251.3\" font-family=\"Times,serif\" font-size=\"14.00\" fill=\"#000000\">gini = 0.0</text>\n<text text-anchor=\"middle\" x=\"1602\" y=\"-236.3\" font-family=\"Times,serif\" font-size=\"14.00\" fill=\"#000000\">samples = 13</text>\n<text text-anchor=\"middle\" x=\"1602\" y=\"-221.3\" font-family=\"Times,serif\" font-size=\"14.00\" fill=\"#000000\">value = [0, 13]</text>\n<text text-anchor=\"middle\" x=\"1602\" y=\"-206.3\" font-family=\"Times,serif\" font-size=\"14.00\" fill=\"#000000\">class = 1</text>\n</g>\n<!-- 153&#45;&gt;167 -->\n<g id=\"edge53\" class=\"edge\">\n<title>153&#45;&gt;167</title>\n<path fill=\"none\" stroke=\"#000000\" d=\"M1602,-309.8796C1602,-299.2134 1602,-287.7021 1602,-276.9015\"/>\n<polygon fill=\"#000000\" stroke=\"#000000\" points=\"1605.5001,-276.8149 1602,-266.8149 1598.5001,-276.815 1605.5001,-276.8149\"/>\n</g>\n<!-- 155 -->\n<g id=\"node50\" class=\"node\">\n<title>155</title>\n<polygon fill=\"none\" stroke=\"#000000\" points=\"1528.5,-147.5 1433.5,-147.5 1433.5,-79.5 1528.5,-79.5 1528.5,-147.5\"/>\n<text text-anchor=\"middle\" x=\"1481\" y=\"-132.3\" font-family=\"Times,serif\" font-size=\"14.00\" fill=\"#000000\">gini = 0.0</text>\n<text text-anchor=\"middle\" x=\"1481\" y=\"-117.3\" font-family=\"Times,serif\" font-size=\"14.00\" fill=\"#000000\">samples = 7</text>\n<text text-anchor=\"middle\" x=\"1481\" y=\"-102.3\" font-family=\"Times,serif\" font-size=\"14.00\" fill=\"#000000\">value = [0, 7]</text>\n<text text-anchor=\"middle\" x=\"1481\" y=\"-87.3\" font-family=\"Times,serif\" font-size=\"14.00\" fill=\"#000000\">class = 1</text>\n</g>\n<!-- 154&#45;&gt;155 -->\n<g id=\"edge49\" class=\"edge\">\n<title>154&#45;&gt;155</title>\n<path fill=\"none\" stroke=\"#000000\" d=\"M1481.6502,-190.8796C1481.5606,-180.2134 1481.4639,-168.7021 1481.3731,-157.9015\"/>\n<polygon fill=\"#000000\" stroke=\"#000000\" points=\"1484.8724,-157.7851 1481.2884,-147.8149 1477.8726,-157.844 1484.8724,-157.7851\"/>\n</g>\n<!-- 156 -->\n<g id=\"node51\" class=\"node\">\n<title>156</title>\n<polygon fill=\"none\" stroke=\"#000000\" points=\"1641.5,-155 1546.5,-155 1546.5,-72 1641.5,-72 1641.5,-155\"/>\n<text text-anchor=\"middle\" x=\"1594\" y=\"-139.8\" font-family=\"Times,serif\" font-size=\"14.00\" fill=\"#000000\">Parch &lt;= 1.0</text>\n<text text-anchor=\"middle\" x=\"1594\" y=\"-124.8\" font-family=\"Times,serif\" font-size=\"14.00\" fill=\"#000000\">gini = 0.444</text>\n<text text-anchor=\"middle\" x=\"1594\" y=\"-109.8\" font-family=\"Times,serif\" font-size=\"14.00\" fill=\"#000000\">samples = 6</text>\n<text text-anchor=\"middle\" x=\"1594\" y=\"-94.8\" font-family=\"Times,serif\" font-size=\"14.00\" fill=\"#000000\">value = [2, 4]</text>\n<text text-anchor=\"middle\" x=\"1594\" y=\"-79.8\" font-family=\"Times,serif\" font-size=\"14.00\" fill=\"#000000\">class = 1</text>\n</g>\n<!-- 154&#45;&gt;156 -->\n<g id=\"edge50\" class=\"edge\">\n<title>154&#45;&gt;156</title>\n<path fill=\"none\" stroke=\"#000000\" d=\"M1521.1722,-190.8796C1529.7335,-181.7832 1538.8732,-172.0722 1547.6832,-162.7116\"/>\n<polygon fill=\"#000000\" stroke=\"#000000\" points=\"1550.3557,-164.9789 1554.6606,-155.2981 1545.2583,-160.1813 1550.3557,-164.9789\"/>\n</g>\n<!-- 157 -->\n<g id=\"node52\" class=\"node\">\n<title>157</title>\n<polygon fill=\"none\" stroke=\"#000000\" points=\"1585,-36 1531,-36 1531,0 1585,0 1585,-36\"/>\n<text text-anchor=\"middle\" x=\"1558\" y=\"-14.3\" font-family=\"Times,serif\" font-size=\"14.00\" fill=\"#000000\">(...)</text>\n</g>\n<!-- 156&#45;&gt;157 -->\n<g id=\"edge51\" class=\"edge\">\n<title>156&#45;&gt;157</title>\n<path fill=\"none\" stroke=\"#000000\" d=\"M1578.3146,-71.8901C1574.9739,-63.0279 1571.525,-53.8788 1568.4386,-45.6913\"/>\n<polygon fill=\"#000000\" stroke=\"#000000\" points=\"1571.6877,-44.3878 1564.8853,-36.2651 1565.1376,-46.8569 1571.6877,-44.3878\"/>\n</g>\n<!-- 166 -->\n<g id=\"node53\" class=\"node\">\n<title>166</title>\n<polygon fill=\"none\" stroke=\"#000000\" points=\"1657,-36 1603,-36 1603,0 1657,0 1657,-36\"/>\n<text text-anchor=\"middle\" x=\"1630\" y=\"-14.3\" font-family=\"Times,serif\" font-size=\"14.00\" fill=\"#000000\">(...)</text>\n</g>\n<!-- 156&#45;&gt;166 -->\n<g id=\"edge52\" class=\"edge\">\n<title>156&#45;&gt;166</title>\n<path fill=\"none\" stroke=\"#000000\" d=\"M1609.6854,-71.8901C1613.0261,-63.0279 1616.475,-53.8788 1619.5614,-45.6913\"/>\n<polygon fill=\"#000000\" stroke=\"#000000\" points=\"1622.8624,-46.8569 1623.1147,-36.2651 1616.3123,-44.3878 1622.8624,-46.8569\"/>\n</g>\n<!-- 169 -->\n<g id=\"node56\" class=\"node\">\n<title>169</title>\n<polygon fill=\"none\" stroke=\"#000000\" points=\"1766.5,-266.5 1671.5,-266.5 1671.5,-198.5 1766.5,-198.5 1766.5,-266.5\"/>\n<text text-anchor=\"middle\" x=\"1719\" y=\"-251.3\" font-family=\"Times,serif\" font-size=\"14.00\" fill=\"#000000\">gini = 0.0</text>\n<text text-anchor=\"middle\" x=\"1719\" y=\"-236.3\" font-family=\"Times,serif\" font-size=\"14.00\" fill=\"#000000\">samples = 1</text>\n<text text-anchor=\"middle\" x=\"1719\" y=\"-221.3\" font-family=\"Times,serif\" font-size=\"14.00\" fill=\"#000000\">value = [1, 0]</text>\n<text text-anchor=\"middle\" x=\"1719\" y=\"-206.3\" font-family=\"Times,serif\" font-size=\"14.00\" fill=\"#000000\">class = 0</text>\n</g>\n<!-- 168&#45;&gt;169 -->\n<g id=\"edge55\" class=\"edge\">\n<title>168&#45;&gt;169</title>\n<path fill=\"none\" stroke=\"#000000\" d=\"M1719,-309.8796C1719,-299.2134 1719,-287.7021 1719,-276.9015\"/>\n<polygon fill=\"#000000\" stroke=\"#000000\" points=\"1722.5001,-276.8149 1719,-266.8149 1715.5001,-276.815 1722.5001,-276.8149\"/>\n</g>\n<!-- 170 -->\n<g id=\"node57\" class=\"node\">\n<title>170</title>\n<polygon fill=\"none\" stroke=\"#000000\" points=\"1879.5,-274 1784.5,-274 1784.5,-191 1879.5,-191 1879.5,-274\"/>\n<text text-anchor=\"middle\" x=\"1832\" y=\"-258.8\" font-family=\"Times,serif\" font-size=\"14.00\" fill=\"#000000\">SibSp &lt;= 0.5</text>\n<text text-anchor=\"middle\" x=\"1832\" y=\"-243.8\" font-family=\"Times,serif\" font-size=\"14.00\" fill=\"#000000\">gini = 0.198</text>\n<text text-anchor=\"middle\" x=\"1832\" y=\"-228.8\" font-family=\"Times,serif\" font-size=\"14.00\" fill=\"#000000\">samples = 9</text>\n<text text-anchor=\"middle\" x=\"1832\" y=\"-213.8\" font-family=\"Times,serif\" font-size=\"14.00\" fill=\"#000000\">value = [1, 8]</text>\n<text text-anchor=\"middle\" x=\"1832\" y=\"-198.8\" font-family=\"Times,serif\" font-size=\"14.00\" fill=\"#000000\">class = 1</text>\n</g>\n<!-- 168&#45;&gt;170 -->\n<g id=\"edge56\" class=\"edge\">\n<title>168&#45;&gt;170</title>\n<path fill=\"none\" stroke=\"#000000\" d=\"M1758.5219,-309.8796C1767.1597,-300.7832 1776.381,-291.0722 1785.2697,-281.7116\"/>\n<polygon fill=\"#000000\" stroke=\"#000000\" points=\"1787.9615,-283.9597 1792.3094,-274.2981 1782.8854,-279.1395 1787.9615,-283.9597\"/>\n</g>\n<!-- 171 -->\n<g id=\"node58\" class=\"node\">\n<title>171</title>\n<polygon fill=\"none\" stroke=\"#000000\" points=\"1766.5,-147.5 1671.5,-147.5 1671.5,-79.5 1766.5,-79.5 1766.5,-147.5\"/>\n<text text-anchor=\"middle\" x=\"1719\" y=\"-132.3\" font-family=\"Times,serif\" font-size=\"14.00\" fill=\"#000000\">gini = 0.0</text>\n<text text-anchor=\"middle\" x=\"1719\" y=\"-117.3\" font-family=\"Times,serif\" font-size=\"14.00\" fill=\"#000000\">samples = 6</text>\n<text text-anchor=\"middle\" x=\"1719\" y=\"-102.3\" font-family=\"Times,serif\" font-size=\"14.00\" fill=\"#000000\">value = [0, 6]</text>\n<text text-anchor=\"middle\" x=\"1719\" y=\"-87.3\" font-family=\"Times,serif\" font-size=\"14.00\" fill=\"#000000\">class = 1</text>\n</g>\n<!-- 170&#45;&gt;171 -->\n<g id=\"edge57\" class=\"edge\">\n<title>170&#45;&gt;171</title>\n<path fill=\"none\" stroke=\"#000000\" d=\"M1792.4781,-190.8796C1781.5143,-179.3337 1769.6103,-166.7976 1758.6399,-155.2446\"/>\n<polygon fill=\"#000000\" stroke=\"#000000\" points=\"1761.0087,-152.6564 1751.5848,-147.8149 1755.9327,-157.4766 1761.0087,-152.6564\"/>\n</g>\n<!-- 172 -->\n<g id=\"node59\" class=\"node\">\n<title>172</title>\n<polygon fill=\"none\" stroke=\"#000000\" points=\"1879.5,-155 1784.5,-155 1784.5,-72 1879.5,-72 1879.5,-155\"/>\n<text text-anchor=\"middle\" x=\"1832\" y=\"-139.8\" font-family=\"Times,serif\" font-size=\"14.00\" fill=\"#000000\">Age &lt;= 43.0</text>\n<text text-anchor=\"middle\" x=\"1832\" y=\"-124.8\" font-family=\"Times,serif\" font-size=\"14.00\" fill=\"#000000\">gini = 0.444</text>\n<text text-anchor=\"middle\" x=\"1832\" y=\"-109.8\" font-family=\"Times,serif\" font-size=\"14.00\" fill=\"#000000\">samples = 3</text>\n<text text-anchor=\"middle\" x=\"1832\" y=\"-94.8\" font-family=\"Times,serif\" font-size=\"14.00\" fill=\"#000000\">value = [1, 2]</text>\n<text text-anchor=\"middle\" x=\"1832\" y=\"-79.8\" font-family=\"Times,serif\" font-size=\"14.00\" fill=\"#000000\">class = 1</text>\n</g>\n<!-- 170&#45;&gt;172 -->\n<g id=\"edge58\" class=\"edge\">\n<title>170&#45;&gt;172</title>\n<path fill=\"none\" stroke=\"#000000\" d=\"M1832,-190.8796C1832,-182.6838 1832,-173.9891 1832,-165.5013\"/>\n<polygon fill=\"#000000\" stroke=\"#000000\" points=\"1835.5001,-165.298 1832,-155.2981 1828.5001,-165.2981 1835.5001,-165.298\"/>\n</g>\n<!-- 173 -->\n<g id=\"node60\" class=\"node\">\n<title>173</title>\n<polygon fill=\"none\" stroke=\"#000000\" points=\"1823,-36 1769,-36 1769,0 1823,0 1823,-36\"/>\n<text text-anchor=\"middle\" x=\"1796\" y=\"-14.3\" font-family=\"Times,serif\" font-size=\"14.00\" fill=\"#000000\">(...)</text>\n</g>\n<!-- 172&#45;&gt;173 -->\n<g id=\"edge59\" class=\"edge\">\n<title>172&#45;&gt;173</title>\n<path fill=\"none\" stroke=\"#000000\" d=\"M1816.3146,-71.8901C1812.9739,-63.0279 1809.525,-53.8788 1806.4386,-45.6913\"/>\n<polygon fill=\"#000000\" stroke=\"#000000\" points=\"1809.6877,-44.3878 1802.8853,-36.2651 1803.1376,-46.8569 1809.6877,-44.3878\"/>\n</g>\n<!-- 174 -->\n<g id=\"node61\" class=\"node\">\n<title>174</title>\n<polygon fill=\"none\" stroke=\"#000000\" points=\"1895,-36 1841,-36 1841,0 1895,0 1895,-36\"/>\n<text text-anchor=\"middle\" x=\"1868\" y=\"-14.3\" font-family=\"Times,serif\" font-size=\"14.00\" fill=\"#000000\">(...)</text>\n</g>\n<!-- 172&#45;&gt;174 -->\n<g id=\"edge60\" class=\"edge\">\n<title>172&#45;&gt;174</title>\n<path fill=\"none\" stroke=\"#000000\" d=\"M1847.6854,-71.8901C1851.0261,-63.0279 1854.475,-53.8788 1857.5614,-45.6913\"/>\n<polygon fill=\"#000000\" stroke=\"#000000\" points=\"1860.8624,-46.8569 1861.1147,-36.2651 1854.3123,-44.3878 1860.8624,-46.8569\"/>\n</g>\n<!-- 178 -->\n<g id=\"node63\" class=\"node\">\n<title>178</title>\n<polygon fill=\"none\" stroke=\"#000000\" points=\"1890,-385.5 1788,-385.5 1788,-317.5 1890,-317.5 1890,-385.5\"/>\n<text text-anchor=\"middle\" x=\"1839\" y=\"-370.3\" font-family=\"Times,serif\" font-size=\"14.00\" fill=\"#000000\">gini = 0.0</text>\n<text text-anchor=\"middle\" x=\"1839\" y=\"-355.3\" font-family=\"Times,serif\" font-size=\"14.00\" fill=\"#000000\">samples = 57</text>\n<text text-anchor=\"middle\" x=\"1839\" y=\"-340.3\" font-family=\"Times,serif\" font-size=\"14.00\" fill=\"#000000\">value = [0, 57]</text>\n<text text-anchor=\"middle\" x=\"1839\" y=\"-325.3\" font-family=\"Times,serif\" font-size=\"14.00\" fill=\"#000000\">class = 1</text>\n</g>\n<!-- 177&#45;&gt;178 -->\n<g id=\"edge62\" class=\"edge\">\n<title>177&#45;&gt;178</title>\n<path fill=\"none\" stroke=\"#000000\" d=\"M1840.3005,-428.8796C1840.1212,-418.2134 1839.9278,-406.7021 1839.7462,-395.9015\"/>\n<polygon fill=\"#000000\" stroke=\"#000000\" points=\"1843.2444,-395.7547 1839.5767,-385.8149 1836.2454,-395.8724 1843.2444,-395.7547\"/>\n</g>\n<!-- 179 -->\n<g id=\"node64\" class=\"node\">\n<title>179</title>\n<polygon fill=\"none\" stroke=\"#000000\" points=\"2022,-393 1908,-393 1908,-310 2022,-310 2022,-393\"/>\n<text text-anchor=\"middle\" x=\"1965\" y=\"-377.8\" font-family=\"Times,serif\" font-size=\"14.00\" fill=\"#000000\">Fare &lt;= 152.506</text>\n<text text-anchor=\"middle\" x=\"1965\" y=\"-362.8\" font-family=\"Times,serif\" font-size=\"14.00\" fill=\"#000000\">gini = 0.133</text>\n<text text-anchor=\"middle\" x=\"1965\" y=\"-347.8\" font-family=\"Times,serif\" font-size=\"14.00\" fill=\"#000000\">samples = 14</text>\n<text text-anchor=\"middle\" x=\"1965\" y=\"-332.8\" font-family=\"Times,serif\" font-size=\"14.00\" fill=\"#000000\">value = [1, 13]</text>\n<text text-anchor=\"middle\" x=\"1965\" y=\"-317.8\" font-family=\"Times,serif\" font-size=\"14.00\" fill=\"#000000\">class = 1</text>\n</g>\n<!-- 177&#45;&gt;179 -->\n<g id=\"edge63\" class=\"edge\">\n<title>177&#45;&gt;179</title>\n<path fill=\"none\" stroke=\"#000000\" d=\"M1884.3692,-428.8796C1893.9416,-419.6931 1904.1672,-409.8798 1914.0103,-400.4336\"/>\n<polygon fill=\"#000000\" stroke=\"#000000\" points=\"1916.6541,-402.7475 1921.4457,-393.2981 1911.8072,-397.6969 1916.6541,-402.7475\"/>\n</g>\n<!-- 180 -->\n<g id=\"node65\" class=\"node\">\n<title>180</title>\n<polygon fill=\"none\" stroke=\"#000000\" points=\"2002.5,-274 1907.5,-274 1907.5,-191 2002.5,-191 2002.5,-274\"/>\n<text text-anchor=\"middle\" x=\"1955\" y=\"-258.8\" font-family=\"Times,serif\" font-size=\"14.00\" fill=\"#000000\">Age &lt;= 23.5</text>\n<text text-anchor=\"middle\" x=\"1955\" y=\"-243.8\" font-family=\"Times,serif\" font-size=\"14.00\" fill=\"#000000\">gini = 0.5</text>\n<text text-anchor=\"middle\" x=\"1955\" y=\"-228.8\" font-family=\"Times,serif\" font-size=\"14.00\" fill=\"#000000\">samples = 2</text>\n<text text-anchor=\"middle\" x=\"1955\" y=\"-213.8\" font-family=\"Times,serif\" font-size=\"14.00\" fill=\"#000000\">value = [1, 1]</text>\n<text text-anchor=\"middle\" x=\"1955\" y=\"-198.8\" font-family=\"Times,serif\" font-size=\"14.00\" fill=\"#000000\">class = 0</text>\n</g>\n<!-- 179&#45;&gt;180 -->\n<g id=\"edge64\" class=\"edge\">\n<title>179&#45;&gt;180</title>\n<path fill=\"none\" stroke=\"#000000\" d=\"M1961.5025,-309.8796C1960.8138,-301.6838 1960.0831,-292.9891 1959.3699,-284.5013\"/>\n<polygon fill=\"#000000\" stroke=\"#000000\" points=\"1962.8376,-283.9698 1958.5124,-274.2981 1955.8622,-284.5561 1962.8376,-283.9698\"/>\n</g>\n<!-- 183 -->\n<g id=\"node68\" class=\"node\">\n<title>183</title>\n<polygon fill=\"none\" stroke=\"#000000\" points=\"2123,-266.5 2021,-266.5 2021,-198.5 2123,-198.5 2123,-266.5\"/>\n<text text-anchor=\"middle\" x=\"2072\" y=\"-251.3\" font-family=\"Times,serif\" font-size=\"14.00\" fill=\"#000000\">gini = 0.0</text>\n<text text-anchor=\"middle\" x=\"2072\" y=\"-236.3\" font-family=\"Times,serif\" font-size=\"14.00\" fill=\"#000000\">samples = 12</text>\n<text text-anchor=\"middle\" x=\"2072\" y=\"-221.3\" font-family=\"Times,serif\" font-size=\"14.00\" fill=\"#000000\">value = [0, 12]</text>\n<text text-anchor=\"middle\" x=\"2072\" y=\"-206.3\" font-family=\"Times,serif\" font-size=\"14.00\" fill=\"#000000\">class = 1</text>\n</g>\n<!-- 179&#45;&gt;183 -->\n<g id=\"edge67\" class=\"edge\">\n<title>179&#45;&gt;183</title>\n<path fill=\"none\" stroke=\"#000000\" d=\"M2002.4234,-309.8796C2012.7061,-298.4436 2023.8623,-286.0363 2034.1679,-274.575\"/>\n<polygon fill=\"#000000\" stroke=\"#000000\" points=\"2037.0618,-276.5912 2041.1454,-266.8149 2031.8565,-271.9108 2037.0618,-276.5912\"/>\n</g>\n<!-- 181 -->\n<g id=\"node66\" class=\"node\">\n<title>181</title>\n<polygon fill=\"none\" stroke=\"#000000\" points=\"1992.5,-147.5 1897.5,-147.5 1897.5,-79.5 1992.5,-79.5 1992.5,-147.5\"/>\n<text text-anchor=\"middle\" x=\"1945\" y=\"-132.3\" font-family=\"Times,serif\" font-size=\"14.00\" fill=\"#000000\">gini = 0.0</text>\n<text text-anchor=\"middle\" x=\"1945\" y=\"-117.3\" font-family=\"Times,serif\" font-size=\"14.00\" fill=\"#000000\">samples = 1</text>\n<text text-anchor=\"middle\" x=\"1945\" y=\"-102.3\" font-family=\"Times,serif\" font-size=\"14.00\" fill=\"#000000\">value = [0, 1]</text>\n<text text-anchor=\"middle\" x=\"1945\" y=\"-87.3\" font-family=\"Times,serif\" font-size=\"14.00\" fill=\"#000000\">class = 1</text>\n</g>\n<!-- 180&#45;&gt;181 -->\n<g id=\"edge65\" class=\"edge\">\n<title>180&#45;&gt;181</title>\n<path fill=\"none\" stroke=\"#000000\" d=\"M1951.5025,-190.8796C1950.6062,-180.2134 1949.6388,-168.7021 1948.7312,-157.9015\"/>\n<polygon fill=\"#000000\" stroke=\"#000000\" points=\"1952.2088,-157.4867 1947.8836,-147.8149 1945.2334,-158.0729 1952.2088,-157.4867\"/>\n</g>\n<!-- 182 -->\n<g id=\"node67\" class=\"node\">\n<title>182</title>\n<polygon fill=\"none\" stroke=\"#000000\" points=\"2105.5,-147.5 2010.5,-147.5 2010.5,-79.5 2105.5,-79.5 2105.5,-147.5\"/>\n<text text-anchor=\"middle\" x=\"2058\" y=\"-132.3\" font-family=\"Times,serif\" font-size=\"14.00\" fill=\"#000000\">gini = 0.0</text>\n<text text-anchor=\"middle\" x=\"2058\" y=\"-117.3\" font-family=\"Times,serif\" font-size=\"14.00\" fill=\"#000000\">samples = 1</text>\n<text text-anchor=\"middle\" x=\"2058\" y=\"-102.3\" font-family=\"Times,serif\" font-size=\"14.00\" fill=\"#000000\">value = [1, 0]</text>\n<text text-anchor=\"middle\" x=\"2058\" y=\"-87.3\" font-family=\"Times,serif\" font-size=\"14.00\" fill=\"#000000\">class = 0</text>\n</g>\n<!-- 180&#45;&gt;182 -->\n<g id=\"edge66\" class=\"edge\">\n<title>180&#45;&gt;182</title>\n<path fill=\"none\" stroke=\"#000000\" d=\"M1991.0244,-190.8796C2000.9227,-179.4436 2011.6619,-167.0363 2021.5822,-155.575\"/>\n<polygon fill=\"#000000\" stroke=\"#000000\" points=\"2024.4007,-157.6666 2028.2988,-147.8149 2019.1079,-153.0855 2024.4007,-157.6666\"/>\n</g>\n<!-- 185 -->\n<g id=\"node70\" class=\"node\">\n<title>185</title>\n<polygon fill=\"none\" stroke=\"#000000\" points=\"2580,-512 2470,-512 2470,-429 2580,-429 2580,-512\"/>\n<text text-anchor=\"middle\" x=\"2525\" y=\"-496.8\" font-family=\"Times,serif\" font-size=\"14.00\" fill=\"#000000\">Parch &lt;= 0.5</text>\n<text text-anchor=\"middle\" x=\"2525\" y=\"-481.8\" font-family=\"Times,serif\" font-size=\"14.00\" fill=\"#000000\">gini = 0.496</text>\n<text text-anchor=\"middle\" x=\"2525\" y=\"-466.8\" font-family=\"Times,serif\" font-size=\"14.00\" fill=\"#000000\">samples = 55</text>\n<text text-anchor=\"middle\" x=\"2525\" y=\"-451.8\" font-family=\"Times,serif\" font-size=\"14.00\" fill=\"#000000\">value = [25, 30]</text>\n<text text-anchor=\"middle\" x=\"2525\" y=\"-436.8\" font-family=\"Times,serif\" font-size=\"14.00\" fill=\"#000000\">class = 1</text>\n</g>\n<!-- 184&#45;&gt;185 -->\n<g id=\"edge69\" class=\"edge\">\n<title>184&#45;&gt;185</title>\n<path fill=\"none\" stroke=\"#000000\" d=\"M2525,-547.8796C2525,-539.6838 2525,-530.9891 2525,-522.5013\"/>\n<polygon fill=\"#000000\" stroke=\"#000000\" points=\"2528.5001,-522.298 2525,-512.2981 2521.5001,-522.2981 2528.5001,-522.298\"/>\n</g>\n<!-- 234 -->\n<g id=\"node91\" class=\"node\">\n<title>234</title>\n<polygon fill=\"none\" stroke=\"#000000\" points=\"2950,-512 2848,-512 2848,-429 2950,-429 2950,-512\"/>\n<text text-anchor=\"middle\" x=\"2899\" y=\"-496.8\" font-family=\"Times,serif\" font-size=\"14.00\" fill=\"#000000\">Age &lt;= 5.5</text>\n<text text-anchor=\"middle\" x=\"2899\" y=\"-481.8\" font-family=\"Times,serif\" font-size=\"14.00\" fill=\"#000000\">gini = 0.255</text>\n<text text-anchor=\"middle\" x=\"2899\" y=\"-466.8\" font-family=\"Times,serif\" font-size=\"14.00\" fill=\"#000000\">samples = 20</text>\n<text text-anchor=\"middle\" x=\"2899\" y=\"-451.8\" font-family=\"Times,serif\" font-size=\"14.00\" fill=\"#000000\">value = [17, 3]</text>\n<text text-anchor=\"middle\" x=\"2899\" y=\"-436.8\" font-family=\"Times,serif\" font-size=\"14.00\" fill=\"#000000\">class = 0</text>\n</g>\n<!-- 184&#45;&gt;234 -->\n<g id=\"edge90\" class=\"edge\">\n<title>184&#45;&gt;234</title>\n<path fill=\"none\" stroke=\"#000000\" d=\"M2580.185,-571.9411C2649.0778,-550.0207 2766.5357,-512.6477 2838.0266,-489.9006\"/>\n<polygon fill=\"#000000\" stroke=\"#000000\" points=\"2839.3314,-493.1584 2847.7994,-486.7911 2837.2089,-486.488 2839.3314,-493.1584\"/>\n</g>\n<!-- 186 -->\n<g id=\"node71\" class=\"node\">\n<title>186</title>\n<polygon fill=\"none\" stroke=\"#000000\" points=\"2518,-393 2408,-393 2408,-310 2518,-310 2518,-393\"/>\n<text text-anchor=\"middle\" x=\"2463\" y=\"-377.8\" font-family=\"Times,serif\" font-size=\"14.00\" fill=\"#000000\">Fare &lt;= 7.763</text>\n<text text-anchor=\"middle\" x=\"2463\" y=\"-362.8\" font-family=\"Times,serif\" font-size=\"14.00\" fill=\"#000000\">gini = 0.499</text>\n<text text-anchor=\"middle\" x=\"2463\" y=\"-347.8\" font-family=\"Times,serif\" font-size=\"14.00\" fill=\"#000000\">samples = 40</text>\n<text text-anchor=\"middle\" x=\"2463\" y=\"-332.8\" font-family=\"Times,serif\" font-size=\"14.00\" fill=\"#000000\">value = [21, 19]</text>\n<text text-anchor=\"middle\" x=\"2463\" y=\"-317.8\" font-family=\"Times,serif\" font-size=\"14.00\" fill=\"#000000\">class = 0</text>\n</g>\n<!-- 185&#45;&gt;186 -->\n<g id=\"edge70\" class=\"edge\">\n<title>185&#45;&gt;186</title>\n<path fill=\"none\" stroke=\"#000000\" d=\"M2503.3154,-428.8796C2498.8577,-420.3236 2494.1166,-411.2238 2489.5106,-402.3833\"/>\n<polygon fill=\"#000000\" stroke=\"#000000\" points=\"2492.5017,-400.5494 2484.7771,-393.2981 2486.2938,-403.7838 2492.5017,-400.5494\"/>\n</g>\n<!-- 225 -->\n<g id=\"node84\" class=\"node\">\n<title>225</title>\n<polygon fill=\"none\" stroke=\"#000000\" points=\"2664.5,-393 2563.5,-393 2563.5,-310 2664.5,-310 2664.5,-393\"/>\n<text text-anchor=\"middle\" x=\"2614\" y=\"-377.8\" font-family=\"Times,serif\" font-size=\"14.00\" fill=\"#000000\">Age &lt;= 38.0</text>\n<text text-anchor=\"middle\" x=\"2614\" y=\"-362.8\" font-family=\"Times,serif\" font-size=\"14.00\" fill=\"#000000\">gini = 0.391</text>\n<text text-anchor=\"middle\" x=\"2614\" y=\"-347.8\" font-family=\"Times,serif\" font-size=\"14.00\" fill=\"#000000\">samples = 15</text>\n<text text-anchor=\"middle\" x=\"2614\" y=\"-332.8\" font-family=\"Times,serif\" font-size=\"14.00\" fill=\"#000000\">value = [4, 11]</text>\n<text text-anchor=\"middle\" x=\"2614\" y=\"-317.8\" font-family=\"Times,serif\" font-size=\"14.00\" fill=\"#000000\">class = 1</text>\n</g>\n<!-- 185&#45;&gt;225 -->\n<g id=\"edge83\" class=\"edge\">\n<title>185&#45;&gt;225</title>\n<path fill=\"none\" stroke=\"#000000\" d=\"M2556.1279,-428.8796C2562.729,-420.0534 2569.7629,-410.6485 2576.5702,-401.5466\"/>\n<polygon fill=\"#000000\" stroke=\"#000000\" points=\"2579.5528,-403.4024 2582.7393,-393.2981 2573.9472,-399.2099 2579.5528,-403.4024\"/>\n</g>\n<!-- 187 -->\n<g id=\"node72\" class=\"node\">\n<title>187</title>\n<polygon fill=\"none\" stroke=\"#000000\" points=\"2337,-274 2239,-274 2239,-191 2337,-191 2337,-274\"/>\n<text text-anchor=\"middle\" x=\"2288\" y=\"-258.8\" font-family=\"Times,serif\" font-size=\"14.00\" fill=\"#000000\">Age &lt;= 26.25</text>\n<text text-anchor=\"middle\" x=\"2288\" y=\"-243.8\" font-family=\"Times,serif\" font-size=\"14.00\" fill=\"#000000\">gini = 0.397</text>\n<text text-anchor=\"middle\" x=\"2288\" y=\"-228.8\" font-family=\"Times,serif\" font-size=\"14.00\" fill=\"#000000\">samples = 11</text>\n<text text-anchor=\"middle\" x=\"2288\" y=\"-213.8\" font-family=\"Times,serif\" font-size=\"14.00\" fill=\"#000000\">value = [3, 8]</text>\n<text text-anchor=\"middle\" x=\"2288\" y=\"-198.8\" font-family=\"Times,serif\" font-size=\"14.00\" fill=\"#000000\">class = 1</text>\n</g>\n<!-- 186&#45;&gt;187 -->\n<g id=\"edge71\" class=\"edge\">\n<title>186&#45;&gt;187</title>\n<path fill=\"none\" stroke=\"#000000\" d=\"M2407.6289,-313.8477C2387.8271,-300.3824 2365.4758,-285.1836 2345.4985,-271.599\"/>\n<polygon fill=\"#000000\" stroke=\"#000000\" points=\"2347.3338,-268.6145 2337.0964,-265.8856 2343.3976,-274.403 2347.3338,-268.6145\"/>\n</g>\n<!-- 198 -->\n<g id=\"node77\" class=\"node\">\n<title>198</title>\n<polygon fill=\"none\" stroke=\"#000000\" points=\"2517.5,-274 2408.5,-274 2408.5,-191 2517.5,-191 2517.5,-274\"/>\n<text text-anchor=\"middle\" x=\"2463\" y=\"-258.8\" font-family=\"Times,serif\" font-size=\"14.00\" fill=\"#000000\">Age &lt;= 25.5</text>\n<text text-anchor=\"middle\" x=\"2463\" y=\"-243.8\" font-family=\"Times,serif\" font-size=\"14.00\" fill=\"#000000\">gini = 0.471</text>\n<text text-anchor=\"middle\" x=\"2463\" y=\"-228.8\" font-family=\"Times,serif\" font-size=\"14.00\" fill=\"#000000\">samples = 29</text>\n<text text-anchor=\"middle\" x=\"2463\" y=\"-213.8\" font-family=\"Times,serif\" font-size=\"14.00\" fill=\"#000000\">value = [18, 11]</text>\n<text text-anchor=\"middle\" x=\"2463\" y=\"-198.8\" font-family=\"Times,serif\" font-size=\"14.00\" fill=\"#000000\">class = 0</text>\n</g>\n<!-- 186&#45;&gt;198 -->\n<g id=\"edge76\" class=\"edge\">\n<title>186&#45;&gt;198</title>\n<path fill=\"none\" stroke=\"#000000\" d=\"M2463,-309.8796C2463,-301.6838 2463,-292.9891 2463,-284.5013\"/>\n<polygon fill=\"#000000\" stroke=\"#000000\" points=\"2466.5001,-284.298 2463,-274.2981 2459.5001,-284.2981 2466.5001,-284.298\"/>\n</g>\n<!-- 188 -->\n<g id=\"node73\" class=\"node\">\n<title>188</title>\n<polygon fill=\"none\" stroke=\"#000000\" points=\"2222.5,-155 2123.5,-155 2123.5,-72 2222.5,-72 2222.5,-155\"/>\n<text text-anchor=\"middle\" x=\"2173\" y=\"-139.8\" font-family=\"Times,serif\" font-size=\"14.00\" fill=\"#000000\">Fare &lt;= 6.987</text>\n<text text-anchor=\"middle\" x=\"2173\" y=\"-124.8\" font-family=\"Times,serif\" font-size=\"14.00\" fill=\"#000000\">gini = 0.32</text>\n<text text-anchor=\"middle\" x=\"2173\" y=\"-109.8\" font-family=\"Times,serif\" font-size=\"14.00\" fill=\"#000000\">samples = 10</text>\n<text text-anchor=\"middle\" x=\"2173\" y=\"-94.8\" font-family=\"Times,serif\" font-size=\"14.00\" fill=\"#000000\">value = [2, 8]</text>\n<text text-anchor=\"middle\" x=\"2173\" y=\"-79.8\" font-family=\"Times,serif\" font-size=\"14.00\" fill=\"#000000\">class = 1</text>\n</g>\n<!-- 187&#45;&gt;188 -->\n<g id=\"edge72\" class=\"edge\">\n<title>187&#45;&gt;188</title>\n<path fill=\"none\" stroke=\"#000000\" d=\"M2247.7786,-190.8796C2238.988,-181.7832 2229.6034,-172.0722 2220.5574,-162.7116\"/>\n<polygon fill=\"#000000\" stroke=\"#000000\" points=\"2222.8591,-160.0568 2213.3931,-155.2981 2217.8255,-164.9212 2222.8591,-160.0568\"/>\n</g>\n<!-- 197 -->\n<g id=\"node76\" class=\"node\">\n<title>197</title>\n<polygon fill=\"none\" stroke=\"#000000\" points=\"2335.5,-147.5 2240.5,-147.5 2240.5,-79.5 2335.5,-79.5 2335.5,-147.5\"/>\n<text text-anchor=\"middle\" x=\"2288\" y=\"-132.3\" font-family=\"Times,serif\" font-size=\"14.00\" fill=\"#000000\">gini = 0.0</text>\n<text text-anchor=\"middle\" x=\"2288\" y=\"-117.3\" font-family=\"Times,serif\" font-size=\"14.00\" fill=\"#000000\">samples = 1</text>\n<text text-anchor=\"middle\" x=\"2288\" y=\"-102.3\" font-family=\"Times,serif\" font-size=\"14.00\" fill=\"#000000\">value = [1, 0]</text>\n<text text-anchor=\"middle\" x=\"2288\" y=\"-87.3\" font-family=\"Times,serif\" font-size=\"14.00\" fill=\"#000000\">class = 0</text>\n</g>\n<!-- 187&#45;&gt;197 -->\n<g id=\"edge75\" class=\"edge\">\n<title>187&#45;&gt;197</title>\n<path fill=\"none\" stroke=\"#000000\" d=\"M2288,-190.8796C2288,-180.2134 2288,-168.7021 2288,-157.9015\"/>\n<polygon fill=\"#000000\" stroke=\"#000000\" points=\"2291.5001,-157.8149 2288,-147.8149 2284.5001,-157.815 2291.5001,-157.8149\"/>\n</g>\n<!-- 189 -->\n<g id=\"node74\" class=\"node\">\n<title>189</title>\n<polygon fill=\"none\" stroke=\"#000000\" points=\"2164,-36 2110,-36 2110,0 2164,0 2164,-36\"/>\n<text text-anchor=\"middle\" x=\"2137\" y=\"-14.3\" font-family=\"Times,serif\" font-size=\"14.00\" fill=\"#000000\">(...)</text>\n</g>\n<!-- 188&#45;&gt;189 -->\n<g id=\"edge73\" class=\"edge\">\n<title>188&#45;&gt;189</title>\n<path fill=\"none\" stroke=\"#000000\" d=\"M2157.3146,-71.8901C2153.9739,-63.0279 2150.525,-53.8788 2147.4386,-45.6913\"/>\n<polygon fill=\"#000000\" stroke=\"#000000\" points=\"2150.6877,-44.3878 2143.8853,-36.2651 2144.1376,-46.8569 2150.6877,-44.3878\"/>\n</g>\n<!-- 190 -->\n<g id=\"node75\" class=\"node\">\n<title>190</title>\n<polygon fill=\"none\" stroke=\"#000000\" points=\"2236,-36 2182,-36 2182,0 2236,0 2236,-36\"/>\n<text text-anchor=\"middle\" x=\"2209\" y=\"-14.3\" font-family=\"Times,serif\" font-size=\"14.00\" fill=\"#000000\">(...)</text>\n</g>\n<!-- 188&#45;&gt;190 -->\n<g id=\"edge74\" class=\"edge\">\n<title>188&#45;&gt;190</title>\n<path fill=\"none\" stroke=\"#000000\" d=\"M2188.6854,-71.8901C2192.0261,-63.0279 2195.475,-53.8788 2198.5614,-45.6913\"/>\n<polygon fill=\"#000000\" stroke=\"#000000\" points=\"2201.8624,-46.8569 2202.1147,-36.2651 2195.3123,-44.3878 2201.8624,-46.8569\"/>\n</g>\n<!-- 199 -->\n<g id=\"node78\" class=\"node\">\n<title>199</title>\n<polygon fill=\"none\" stroke=\"#000000\" points=\"2456,-155 2354,-155 2354,-72 2456,-72 2456,-155\"/>\n<text text-anchor=\"middle\" x=\"2405\" y=\"-139.8\" font-family=\"Times,serif\" font-size=\"14.00\" fill=\"#000000\">Fare &lt;= 8.346</text>\n<text text-anchor=\"middle\" x=\"2405\" y=\"-124.8\" font-family=\"Times,serif\" font-size=\"14.00\" fill=\"#000000\">gini = 0.375</text>\n<text text-anchor=\"middle\" x=\"2405\" y=\"-109.8\" font-family=\"Times,serif\" font-size=\"14.00\" fill=\"#000000\">samples = 16</text>\n<text text-anchor=\"middle\" x=\"2405\" y=\"-94.8\" font-family=\"Times,serif\" font-size=\"14.00\" fill=\"#000000\">value = [12, 4]</text>\n<text text-anchor=\"middle\" x=\"2405\" y=\"-79.8\" font-family=\"Times,serif\" font-size=\"14.00\" fill=\"#000000\">class = 0</text>\n</g>\n<!-- 198&#45;&gt;199 -->\n<g id=\"edge77\" class=\"edge\">\n<title>198&#45;&gt;199</title>\n<path fill=\"none\" stroke=\"#000000\" d=\"M2442.7144,-190.8796C2438.5443,-182.3236 2434.1091,-173.2238 2429.8003,-164.3833\"/>\n<polygon fill=\"#000000\" stroke=\"#000000\" points=\"2432.8997,-162.7538 2425.3722,-155.2981 2426.6073,-165.8207 2432.8997,-162.7538\"/>\n</g>\n<!-- 210 -->\n<g id=\"node81\" class=\"node\">\n<title>210</title>\n<polygon fill=\"none\" stroke=\"#000000\" points=\"2569.5,-155 2474.5,-155 2474.5,-72 2569.5,-72 2569.5,-155\"/>\n<text text-anchor=\"middle\" x=\"2522\" y=\"-139.8\" font-family=\"Times,serif\" font-size=\"14.00\" fill=\"#000000\">Fare &lt;= 7.91</text>\n<text text-anchor=\"middle\" x=\"2522\" y=\"-124.8\" font-family=\"Times,serif\" font-size=\"14.00\" fill=\"#000000\">gini = 0.497</text>\n<text text-anchor=\"middle\" x=\"2522\" y=\"-109.8\" font-family=\"Times,serif\" font-size=\"14.00\" fill=\"#000000\">samples = 13</text>\n<text text-anchor=\"middle\" x=\"2522\" y=\"-94.8\" font-family=\"Times,serif\" font-size=\"14.00\" fill=\"#000000\">value = [6, 7]</text>\n<text text-anchor=\"middle\" x=\"2522\" y=\"-79.8\" font-family=\"Times,serif\" font-size=\"14.00\" fill=\"#000000\">class = 1</text>\n</g>\n<!-- 198&#45;&gt;210 -->\n<g id=\"edge80\" class=\"edge\">\n<title>198&#45;&gt;210</title>\n<path fill=\"none\" stroke=\"#000000\" d=\"M2483.6353,-190.8796C2487.8774,-182.3236 2492.389,-173.2238 2496.7721,-164.3833\"/>\n<polygon fill=\"#000000\" stroke=\"#000000\" points=\"2499.9703,-165.8121 2501.2766,-155.2981 2493.6988,-162.7026 2499.9703,-165.8121\"/>\n</g>\n<!-- 200 -->\n<g id=\"node79\" class=\"node\">\n<title>200</title>\n<polygon fill=\"none\" stroke=\"#000000\" points=\"2362,-36 2308,-36 2308,0 2362,0 2362,-36\"/>\n<text text-anchor=\"middle\" x=\"2335\" y=\"-14.3\" font-family=\"Times,serif\" font-size=\"14.00\" fill=\"#000000\">(...)</text>\n</g>\n<!-- 199&#45;&gt;200 -->\n<g id=\"edge78\" class=\"edge\">\n<title>199&#45;&gt;200</title>\n<path fill=\"none\" stroke=\"#000000\" d=\"M2374.5006,-71.8901C2367.6478,-62.541 2360.561,-52.8725 2354.3146,-44.3506\"/>\n<polygon fill=\"#000000\" stroke=\"#000000\" points=\"2357.1228,-42.2614 2348.388,-36.2651 2351.477,-46.3997 2357.1228,-42.2614\"/>\n</g>\n<!-- 207 -->\n<g id=\"node80\" class=\"node\">\n<title>207</title>\n<polygon fill=\"none\" stroke=\"#000000\" points=\"2434,-36 2380,-36 2380,0 2434,0 2434,-36\"/>\n<text text-anchor=\"middle\" x=\"2407\" y=\"-14.3\" font-family=\"Times,serif\" font-size=\"14.00\" fill=\"#000000\">(...)</text>\n</g>\n<!-- 199&#45;&gt;207 -->\n<g id=\"edge79\" class=\"edge\">\n<title>199&#45;&gt;207</title>\n<path fill=\"none\" stroke=\"#000000\" d=\"M2405.8714,-71.8901C2406.0509,-63.3201 2406.236,-54.4817 2406.4031,-46.5041\"/>\n<polygon fill=\"#000000\" stroke=\"#000000\" points=\"2409.9072,-46.3362 2406.6175,-36.2651 2402.9088,-46.1896 2409.9072,-46.3362\"/>\n</g>\n<!-- 211 -->\n<g id=\"node82\" class=\"node\">\n<title>211</title>\n<polygon fill=\"none\" stroke=\"#000000\" points=\"2516,-36 2462,-36 2462,0 2516,0 2516,-36\"/>\n<text text-anchor=\"middle\" x=\"2489\" y=\"-14.3\" font-family=\"Times,serif\" font-size=\"14.00\" fill=\"#000000\">(...)</text>\n</g>\n<!-- 210&#45;&gt;211 -->\n<g id=\"edge81\" class=\"edge\">\n<title>210&#45;&gt;211</title>\n<path fill=\"none\" stroke=\"#000000\" d=\"M2507.6217,-71.8901C2504.593,-63.1253 2501.4674,-54.0798 2498.6621,-45.9615\"/>\n<polygon fill=\"#000000\" stroke=\"#000000\" points=\"2501.8856,-44.5736 2495.3115,-36.2651 2495.2695,-46.8599 2501.8856,-44.5736\"/>\n</g>\n<!-- 212 -->\n<g id=\"node83\" class=\"node\">\n<title>212</title>\n<polygon fill=\"none\" stroke=\"#000000\" points=\"2588,-36 2534,-36 2534,0 2588,0 2588,-36\"/>\n<text text-anchor=\"middle\" x=\"2561\" y=\"-14.3\" font-family=\"Times,serif\" font-size=\"14.00\" fill=\"#000000\">(...)</text>\n</g>\n<!-- 210&#45;&gt;212 -->\n<g id=\"edge82\" class=\"edge\">\n<title>210&#45;&gt;212</title>\n<path fill=\"none\" stroke=\"#000000\" d=\"M2538.9925,-71.8901C2542.6116,-63.0279 2546.3479,-53.8788 2549.6915,-45.6913\"/>\n<polygon fill=\"#000000\" stroke=\"#000000\" points=\"2553.0005,-46.8461 2553.541,-36.2651 2546.52,-44.1996 2553.0005,-46.8461\"/>\n</g>\n<!-- 226 -->\n<g id=\"node85\" class=\"node\">\n<title>226</title>\n<polygon fill=\"none\" stroke=\"#000000\" points=\"2664.5,-274 2563.5,-274 2563.5,-191 2664.5,-191 2664.5,-274\"/>\n<text text-anchor=\"middle\" x=\"2614\" y=\"-258.8\" font-family=\"Times,serif\" font-size=\"14.00\" fill=\"#000000\">Age &lt;= 13.0</text>\n<text text-anchor=\"middle\" x=\"2614\" y=\"-243.8\" font-family=\"Times,serif\" font-size=\"14.00\" fill=\"#000000\">gini = 0.26</text>\n<text text-anchor=\"middle\" x=\"2614\" y=\"-228.8\" font-family=\"Times,serif\" font-size=\"14.00\" fill=\"#000000\">samples = 13</text>\n<text text-anchor=\"middle\" x=\"2614\" y=\"-213.8\" font-family=\"Times,serif\" font-size=\"14.00\" fill=\"#000000\">value = [2, 11]</text>\n<text text-anchor=\"middle\" x=\"2614\" y=\"-198.8\" font-family=\"Times,serif\" font-size=\"14.00\" fill=\"#000000\">class = 1</text>\n</g>\n<!-- 225&#45;&gt;226 -->\n<g id=\"edge84\" class=\"edge\">\n<title>225&#45;&gt;226</title>\n<path fill=\"none\" stroke=\"#000000\" d=\"M2614,-309.8796C2614,-301.6838 2614,-292.9891 2614,-284.5013\"/>\n<polygon fill=\"#000000\" stroke=\"#000000\" points=\"2617.5001,-284.298 2614,-274.2981 2610.5001,-284.2981 2617.5001,-284.298\"/>\n</g>\n<!-- 233 -->\n<g id=\"node90\" class=\"node\">\n<title>233</title>\n<polygon fill=\"none\" stroke=\"#000000\" points=\"2777.5,-266.5 2682.5,-266.5 2682.5,-198.5 2777.5,-198.5 2777.5,-266.5\"/>\n<text text-anchor=\"middle\" x=\"2730\" y=\"-251.3\" font-family=\"Times,serif\" font-size=\"14.00\" fill=\"#000000\">gini = 0.0</text>\n<text text-anchor=\"middle\" x=\"2730\" y=\"-236.3\" font-family=\"Times,serif\" font-size=\"14.00\" fill=\"#000000\">samples = 2</text>\n<text text-anchor=\"middle\" x=\"2730\" y=\"-221.3\" font-family=\"Times,serif\" font-size=\"14.00\" fill=\"#000000\">value = [2, 0]</text>\n<text text-anchor=\"middle\" x=\"2730\" y=\"-206.3\" font-family=\"Times,serif\" font-size=\"14.00\" fill=\"#000000\">class = 0</text>\n</g>\n<!-- 225&#45;&gt;233 -->\n<g id=\"edge89\" class=\"edge\">\n<title>225&#45;&gt;233</title>\n<path fill=\"none\" stroke=\"#000000\" d=\"M2654.5712,-309.8796C2665.826,-298.3337 2678.0461,-285.7976 2689.3078,-274.2446\"/>\n<polygon fill=\"#000000\" stroke=\"#000000\" points=\"2692.0762,-276.4188 2696.5501,-266.8149 2687.0636,-271.5326 2692.0762,-276.4188\"/>\n</g>\n<!-- 227 -->\n<g id=\"node86\" class=\"node\">\n<title>227</title>\n<polygon fill=\"none\" stroke=\"#000000\" points=\"2694.5,-155 2587.5,-155 2587.5,-72 2694.5,-72 2694.5,-155\"/>\n<text text-anchor=\"middle\" x=\"2641\" y=\"-139.8\" font-family=\"Times,serif\" font-size=\"14.00\" fill=\"#000000\">Fare &lt;= 10.798</text>\n<text text-anchor=\"middle\" x=\"2641\" y=\"-124.8\" font-family=\"Times,serif\" font-size=\"14.00\" fill=\"#000000\">gini = 0.444</text>\n<text text-anchor=\"middle\" x=\"2641\" y=\"-109.8\" font-family=\"Times,serif\" font-size=\"14.00\" fill=\"#000000\">samples = 6</text>\n<text text-anchor=\"middle\" x=\"2641\" y=\"-94.8\" font-family=\"Times,serif\" font-size=\"14.00\" fill=\"#000000\">value = [2, 4]</text>\n<text text-anchor=\"middle\" x=\"2641\" y=\"-79.8\" font-family=\"Times,serif\" font-size=\"14.00\" fill=\"#000000\">class = 1</text>\n</g>\n<!-- 226&#45;&gt;227 -->\n<g id=\"edge85\" class=\"edge\">\n<title>226&#45;&gt;227</title>\n<path fill=\"none\" stroke=\"#000000\" d=\"M2623.4433,-190.8796C2625.3233,-182.5938 2627.3189,-173.798 2629.2649,-165.2216\"/>\n<polygon fill=\"#000000\" stroke=\"#000000\" points=\"2632.7169,-165.8247 2631.5164,-155.2981 2625.8904,-164.2757 2632.7169,-165.8247\"/>\n</g>\n<!-- 232 -->\n<g id=\"node89\" class=\"node\">\n<title>232</title>\n<polygon fill=\"none\" stroke=\"#000000\" points=\"2807.5,-147.5 2712.5,-147.5 2712.5,-79.5 2807.5,-79.5 2807.5,-147.5\"/>\n<text text-anchor=\"middle\" x=\"2760\" y=\"-132.3\" font-family=\"Times,serif\" font-size=\"14.00\" fill=\"#000000\">gini = 0.0</text>\n<text text-anchor=\"middle\" x=\"2760\" y=\"-117.3\" font-family=\"Times,serif\" font-size=\"14.00\" fill=\"#000000\">samples = 7</text>\n<text text-anchor=\"middle\" x=\"2760\" y=\"-102.3\" font-family=\"Times,serif\" font-size=\"14.00\" fill=\"#000000\">value = [0, 7]</text>\n<text text-anchor=\"middle\" x=\"2760\" y=\"-87.3\" font-family=\"Times,serif\" font-size=\"14.00\" fill=\"#000000\">class = 1</text>\n</g>\n<!-- 226&#45;&gt;232 -->\n<g id=\"edge88\" class=\"edge\">\n<title>226&#45;&gt;232</title>\n<path fill=\"none\" stroke=\"#000000\" d=\"M2664.654,-191.2135C2679.3861,-179.2058 2695.462,-166.1029 2710.1446,-154.1356\"/>\n<polygon fill=\"#000000\" stroke=\"#000000\" points=\"2712.6007,-156.649 2718.1409,-147.6181 2708.1782,-151.223 2712.6007,-156.649\"/>\n</g>\n<!-- 228 -->\n<g id=\"node87\" class=\"node\">\n<title>228</title>\n<polygon fill=\"none\" stroke=\"#000000\" points=\"2665,-36 2611,-36 2611,0 2665,0 2665,-36\"/>\n<text text-anchor=\"middle\" x=\"2638\" y=\"-14.3\" font-family=\"Times,serif\" font-size=\"14.00\" fill=\"#000000\">(...)</text>\n</g>\n<!-- 227&#45;&gt;228 -->\n<g id=\"edge86\" class=\"edge\">\n<title>227&#45;&gt;228</title>\n<path fill=\"none\" stroke=\"#000000\" d=\"M2639.6929,-71.8901C2639.4237,-63.3201 2639.146,-54.4817 2638.8954,-46.5041\"/>\n<polygon fill=\"#000000\" stroke=\"#000000\" points=\"2642.3861,-46.1502 2638.5738,-36.2651 2635.3896,-46.3701 2642.3861,-46.1502\"/>\n</g>\n<!-- 229 -->\n<g id=\"node88\" class=\"node\">\n<title>229</title>\n<polygon fill=\"none\" stroke=\"#000000\" points=\"2737,-36 2683,-36 2683,0 2737,0 2737,-36\"/>\n<text text-anchor=\"middle\" x=\"2710\" y=\"-14.3\" font-family=\"Times,serif\" font-size=\"14.00\" fill=\"#000000\">(...)</text>\n</g>\n<!-- 227&#45;&gt;229 -->\n<g id=\"edge87\" class=\"edge\">\n<title>227&#45;&gt;229</title>\n<path fill=\"none\" stroke=\"#000000\" d=\"M2671.0637,-71.8901C2677.7482,-62.6384 2684.6586,-53.0739 2690.7687,-44.6173\"/>\n<polygon fill=\"#000000\" stroke=\"#000000\" points=\"2693.7837,-46.4206 2696.8032,-36.2651 2688.1097,-42.321 2693.7837,-46.4206\"/>\n</g>\n<!-- 235 -->\n<g id=\"node92\" class=\"node\">\n<title>235</title>\n<polygon fill=\"none\" stroke=\"#000000\" points=\"2946.5,-393 2851.5,-393 2851.5,-310 2946.5,-310 2946.5,-393\"/>\n<text text-anchor=\"middle\" x=\"2899\" y=\"-377.8\" font-family=\"Times,serif\" font-size=\"14.00\" fill=\"#000000\">Age &lt;= 3.5</text>\n<text text-anchor=\"middle\" x=\"2899\" y=\"-362.8\" font-family=\"Times,serif\" font-size=\"14.00\" fill=\"#000000\">gini = 0.5</text>\n<text text-anchor=\"middle\" x=\"2899\" y=\"-347.8\" font-family=\"Times,serif\" font-size=\"14.00\" fill=\"#000000\">samples = 4</text>\n<text text-anchor=\"middle\" x=\"2899\" y=\"-332.8\" font-family=\"Times,serif\" font-size=\"14.00\" fill=\"#000000\">value = [2, 2]</text>\n<text text-anchor=\"middle\" x=\"2899\" y=\"-317.8\" font-family=\"Times,serif\" font-size=\"14.00\" fill=\"#000000\">class = 0</text>\n</g>\n<!-- 234&#45;&gt;235 -->\n<g id=\"edge91\" class=\"edge\">\n<title>234&#45;&gt;235</title>\n<path fill=\"none\" stroke=\"#000000\" d=\"M2899,-428.8796C2899,-420.6838 2899,-411.9891 2899,-403.5013\"/>\n<polygon fill=\"#000000\" stroke=\"#000000\" points=\"2902.5001,-403.298 2899,-393.2981 2895.5001,-403.2981 2902.5001,-403.298\"/>\n</g>\n<!-- 238 -->\n<g id=\"node95\" class=\"node\">\n<title>238</title>\n<polygon fill=\"none\" stroke=\"#000000\" points=\"3124,-393 3022,-393 3022,-310 3124,-310 3124,-393\"/>\n<text text-anchor=\"middle\" x=\"3073\" y=\"-377.8\" font-family=\"Times,serif\" font-size=\"14.00\" fill=\"#000000\">Parch &lt;= 4.5</text>\n<text text-anchor=\"middle\" x=\"3073\" y=\"-362.8\" font-family=\"Times,serif\" font-size=\"14.00\" fill=\"#000000\">gini = 0.117</text>\n<text text-anchor=\"middle\" x=\"3073\" y=\"-347.8\" font-family=\"Times,serif\" font-size=\"14.00\" fill=\"#000000\">samples = 16</text>\n<text text-anchor=\"middle\" x=\"3073\" y=\"-332.8\" font-family=\"Times,serif\" font-size=\"14.00\" fill=\"#000000\">value = [15, 1]</text>\n<text text-anchor=\"middle\" x=\"3073\" y=\"-317.8\" font-family=\"Times,serif\" font-size=\"14.00\" fill=\"#000000\">class = 0</text>\n</g>\n<!-- 234&#45;&gt;238 -->\n<g id=\"edge94\" class=\"edge\">\n<title>234&#45;&gt;238</title>\n<path fill=\"none\" stroke=\"#000000\" d=\"M2950.2646,-435.4397C2970.0886,-421.882 2992.9086,-406.2751 3013.4531,-392.2246\"/>\n<polygon fill=\"#000000\" stroke=\"#000000\" points=\"3015.5229,-395.0493 3021.8014,-386.5152 3011.5713,-389.2713 3015.5229,-395.0493\"/>\n</g>\n<!-- 236 -->\n<g id=\"node93\" class=\"node\">\n<title>236</title>\n<polygon fill=\"none\" stroke=\"#000000\" points=\"2890.5,-266.5 2795.5,-266.5 2795.5,-198.5 2890.5,-198.5 2890.5,-266.5\"/>\n<text text-anchor=\"middle\" x=\"2843\" y=\"-251.3\" font-family=\"Times,serif\" font-size=\"14.00\" fill=\"#000000\">gini = 0.0</text>\n<text text-anchor=\"middle\" x=\"2843\" y=\"-236.3\" font-family=\"Times,serif\" font-size=\"14.00\" fill=\"#000000\">samples = 2</text>\n<text text-anchor=\"middle\" x=\"2843\" y=\"-221.3\" font-family=\"Times,serif\" font-size=\"14.00\" fill=\"#000000\">value = [2, 0]</text>\n<text text-anchor=\"middle\" x=\"2843\" y=\"-206.3\" font-family=\"Times,serif\" font-size=\"14.00\" fill=\"#000000\">class = 0</text>\n</g>\n<!-- 235&#45;&gt;236 -->\n<g id=\"edge92\" class=\"edge\">\n<title>235&#45;&gt;236</title>\n<path fill=\"none\" stroke=\"#000000\" d=\"M2879.4139,-309.8796C2874.2393,-298.8835 2868.642,-286.9893 2863.4242,-275.9015\"/>\n<polygon fill=\"#000000\" stroke=\"#000000\" points=\"2866.5731,-274.3728 2859.1482,-266.8149 2860.2394,-277.3534 2866.5731,-274.3728\"/>\n</g>\n<!-- 237 -->\n<g id=\"node94\" class=\"node\">\n<title>237</title>\n<polygon fill=\"none\" stroke=\"#000000\" points=\"3003.5,-266.5 2908.5,-266.5 2908.5,-198.5 3003.5,-198.5 3003.5,-266.5\"/>\n<text text-anchor=\"middle\" x=\"2956\" y=\"-251.3\" font-family=\"Times,serif\" font-size=\"14.00\" fill=\"#000000\">gini = 0.0</text>\n<text text-anchor=\"middle\" x=\"2956\" y=\"-236.3\" font-family=\"Times,serif\" font-size=\"14.00\" fill=\"#000000\">samples = 2</text>\n<text text-anchor=\"middle\" x=\"2956\" y=\"-221.3\" font-family=\"Times,serif\" font-size=\"14.00\" fill=\"#000000\">value = [0, 2]</text>\n<text text-anchor=\"middle\" x=\"2956\" y=\"-206.3\" font-family=\"Times,serif\" font-size=\"14.00\" fill=\"#000000\">class = 1</text>\n</g>\n<!-- 235&#45;&gt;237 -->\n<g id=\"edge93\" class=\"edge\">\n<title>235&#45;&gt;237</title>\n<path fill=\"none\" stroke=\"#000000\" d=\"M2918.9358,-309.8796C2924.2029,-298.8835 2929.9001,-286.9893 2935.211,-275.9015\"/>\n<polygon fill=\"#000000\" stroke=\"#000000\" points=\"2938.4,-277.3457 2939.5634,-266.8149 2932.0869,-274.3217 2938.4,-277.3457\"/>\n</g>\n<!-- 239 -->\n<g id=\"node96\" class=\"node\">\n<title>239</title>\n<polygon fill=\"none\" stroke=\"#000000\" points=\"3124,-266.5 3022,-266.5 3022,-198.5 3124,-198.5 3124,-266.5\"/>\n<text text-anchor=\"middle\" x=\"3073\" y=\"-251.3\" font-family=\"Times,serif\" font-size=\"14.00\" fill=\"#000000\">gini = 0.0</text>\n<text text-anchor=\"middle\" x=\"3073\" y=\"-236.3\" font-family=\"Times,serif\" font-size=\"14.00\" fill=\"#000000\">samples = 12</text>\n<text text-anchor=\"middle\" x=\"3073\" y=\"-221.3\" font-family=\"Times,serif\" font-size=\"14.00\" fill=\"#000000\">value = [12, 0]</text>\n<text text-anchor=\"middle\" x=\"3073\" y=\"-206.3\" font-family=\"Times,serif\" font-size=\"14.00\" fill=\"#000000\">class = 0</text>\n</g>\n<!-- 238&#45;&gt;239 -->\n<g id=\"edge95\" class=\"edge\">\n<title>238&#45;&gt;239</title>\n<path fill=\"none\" stroke=\"#000000\" d=\"M3073,-309.8796C3073,-299.2134 3073,-287.7021 3073,-276.9015\"/>\n<polygon fill=\"#000000\" stroke=\"#000000\" points=\"3076.5001,-276.8149 3073,-266.8149 3069.5001,-276.815 3076.5001,-276.8149\"/>\n</g>\n<!-- 240 -->\n<g id=\"node97\" class=\"node\">\n<title>240</title>\n<polygon fill=\"none\" stroke=\"#000000\" points=\"3237.5,-274 3142.5,-274 3142.5,-191 3237.5,-191 3237.5,-274\"/>\n<text text-anchor=\"middle\" x=\"3190\" y=\"-258.8\" font-family=\"Times,serif\" font-size=\"14.00\" fill=\"#000000\">Age &lt;= 38.5</text>\n<text text-anchor=\"middle\" x=\"3190\" y=\"-243.8\" font-family=\"Times,serif\" font-size=\"14.00\" fill=\"#000000\">gini = 0.375</text>\n<text text-anchor=\"middle\" x=\"3190\" y=\"-228.8\" font-family=\"Times,serif\" font-size=\"14.00\" fill=\"#000000\">samples = 4</text>\n<text text-anchor=\"middle\" x=\"3190\" y=\"-213.8\" font-family=\"Times,serif\" font-size=\"14.00\" fill=\"#000000\">value = [3, 1]</text>\n<text text-anchor=\"middle\" x=\"3190\" y=\"-198.8\" font-family=\"Times,serif\" font-size=\"14.00\" fill=\"#000000\">class = 0</text>\n</g>\n<!-- 238&#45;&gt;240 -->\n<g id=\"edge96\" class=\"edge\">\n<title>238&#45;&gt;240</title>\n<path fill=\"none\" stroke=\"#000000\" d=\"M3113.9209,-309.8796C3122.953,-300.6931 3132.6013,-290.8798 3141.8888,-281.4336\"/>\n<polygon fill=\"#000000\" stroke=\"#000000\" points=\"3144.3893,-283.8827 3148.9044,-274.2981 3139.3977,-278.975 3144.3893,-283.8827\"/>\n</g>\n<!-- 241 -->\n<g id=\"node98\" class=\"node\">\n<title>241</title>\n<polygon fill=\"none\" stroke=\"#000000\" points=\"3181.5,-147.5 3086.5,-147.5 3086.5,-79.5 3181.5,-79.5 3181.5,-147.5\"/>\n<text text-anchor=\"middle\" x=\"3134\" y=\"-132.3\" font-family=\"Times,serif\" font-size=\"14.00\" fill=\"#000000\">gini = 0.0</text>\n<text text-anchor=\"middle\" x=\"3134\" y=\"-117.3\" font-family=\"Times,serif\" font-size=\"14.00\" fill=\"#000000\">samples = 1</text>\n<text text-anchor=\"middle\" x=\"3134\" y=\"-102.3\" font-family=\"Times,serif\" font-size=\"14.00\" fill=\"#000000\">value = [0, 1]</text>\n<text text-anchor=\"middle\" x=\"3134\" y=\"-87.3\" font-family=\"Times,serif\" font-size=\"14.00\" fill=\"#000000\">class = 1</text>\n</g>\n<!-- 240&#45;&gt;241 -->\n<g id=\"edge97\" class=\"edge\">\n<title>240&#45;&gt;241</title>\n<path fill=\"none\" stroke=\"#000000\" d=\"M3170.4139,-190.8796C3165.2393,-179.8835 3159.642,-167.9893 3154.4242,-156.9015\"/>\n<polygon fill=\"#000000\" stroke=\"#000000\" points=\"3157.5731,-155.3728 3150.1482,-147.8149 3151.2394,-158.3534 3157.5731,-155.3728\"/>\n</g>\n<!-- 242 -->\n<g id=\"node99\" class=\"node\">\n<title>242</title>\n<polygon fill=\"none\" stroke=\"#000000\" points=\"3294.5,-147.5 3199.5,-147.5 3199.5,-79.5 3294.5,-79.5 3294.5,-147.5\"/>\n<text text-anchor=\"middle\" x=\"3247\" y=\"-132.3\" font-family=\"Times,serif\" font-size=\"14.00\" fill=\"#000000\">gini = 0.0</text>\n<text text-anchor=\"middle\" x=\"3247\" y=\"-117.3\" font-family=\"Times,serif\" font-size=\"14.00\" fill=\"#000000\">samples = 3</text>\n<text text-anchor=\"middle\" x=\"3247\" y=\"-102.3\" font-family=\"Times,serif\" font-size=\"14.00\" fill=\"#000000\">value = [3, 0]</text>\n<text text-anchor=\"middle\" x=\"3247\" y=\"-87.3\" font-family=\"Times,serif\" font-size=\"14.00\" fill=\"#000000\">class = 0</text>\n</g>\n<!-- 240&#45;&gt;242 -->\n<g id=\"edge98\" class=\"edge\">\n<title>240&#45;&gt;242</title>\n<path fill=\"none\" stroke=\"#000000\" d=\"M3209.9358,-190.8796C3215.2029,-179.8835 3220.9001,-167.9893 3226.211,-156.9015\"/>\n<polygon fill=\"#000000\" stroke=\"#000000\" points=\"3229.4,-158.3457 3230.5634,-147.8149 3223.0869,-155.3217 3229.4,-158.3457\"/>\n</g>\n</g>\n</svg>\n"
          },
          "metadata": {
            "tags": []
          },
          "execution_count": 104
        }
      ]
    },
    {
      "cell_type": "code",
      "metadata": {
        "colab": {
          "base_uri": "https://localhost:8080/",
          "height": 204
        },
        "id": "7bblwLFXPxQc",
        "outputId": "19a873a7-db0d-46e1-f349-37ce3ae98fa0"
      },
      "source": [
        "X_train.head()"
      ],
      "execution_count": 105,
      "outputs": [
        {
          "output_type": "execute_result",
          "data": {
            "text/html": [
              "<div>\n",
              "<style scoped>\n",
              "    .dataframe tbody tr th:only-of-type {\n",
              "        vertical-align: middle;\n",
              "    }\n",
              "\n",
              "    .dataframe tbody tr th {\n",
              "        vertical-align: top;\n",
              "    }\n",
              "\n",
              "    .dataframe thead th {\n",
              "        text-align: right;\n",
              "    }\n",
              "</style>\n",
              "<table border=\"1\" class=\"dataframe\">\n",
              "  <thead>\n",
              "    <tr style=\"text-align: right;\">\n",
              "      <th></th>\n",
              "      <th>Pclass</th>\n",
              "      <th>Sex</th>\n",
              "      <th>Age</th>\n",
              "      <th>SibSp</th>\n",
              "      <th>Parch</th>\n",
              "      <th>Fare</th>\n",
              "    </tr>\n",
              "  </thead>\n",
              "  <tbody>\n",
              "    <tr>\n",
              "      <th>200</th>\n",
              "      <td>3</td>\n",
              "      <td>0</td>\n",
              "      <td>28.0</td>\n",
              "      <td>0</td>\n",
              "      <td>0</td>\n",
              "      <td>9.5000</td>\n",
              "    </tr>\n",
              "    <tr>\n",
              "      <th>439</th>\n",
              "      <td>2</td>\n",
              "      <td>0</td>\n",
              "      <td>31.0</td>\n",
              "      <td>0</td>\n",
              "      <td>0</td>\n",
              "      <td>10.5000</td>\n",
              "    </tr>\n",
              "    <tr>\n",
              "      <th>100</th>\n",
              "      <td>3</td>\n",
              "      <td>1</td>\n",
              "      <td>28.0</td>\n",
              "      <td>0</td>\n",
              "      <td>0</td>\n",
              "      <td>7.8958</td>\n",
              "    </tr>\n",
              "    <tr>\n",
              "      <th>117</th>\n",
              "      <td>2</td>\n",
              "      <td>0</td>\n",
              "      <td>29.0</td>\n",
              "      <td>1</td>\n",
              "      <td>0</td>\n",
              "      <td>21.0000</td>\n",
              "    </tr>\n",
              "    <tr>\n",
              "      <th>625</th>\n",
              "      <td>1</td>\n",
              "      <td>0</td>\n",
              "      <td>61.0</td>\n",
              "      <td>0</td>\n",
              "      <td>0</td>\n",
              "      <td>32.3208</td>\n",
              "    </tr>\n",
              "  </tbody>\n",
              "</table>\n",
              "</div>"
            ],
            "text/plain": [
              "     Pclass  Sex   Age  SibSp  Parch     Fare\n",
              "200       3    0  28.0      0      0   9.5000\n",
              "439       2    0  31.0      0      0  10.5000\n",
              "100       3    1  28.0      0      0   7.8958\n",
              "117       2    0  29.0      1      0  21.0000\n",
              "625       1    0  61.0      0      0  32.3208"
            ]
          },
          "metadata": {
            "tags": []
          },
          "execution_count": 105
        }
      ]
    },
    {
      "cell_type": "code",
      "metadata": {
        "colab": {
          "base_uri": "https://localhost:8080/"
        },
        "id": "92aP0gj5VaIj",
        "outputId": "04ab544f-cd49-4d3a-c89b-980063510556"
      },
      "source": [
        "dataframe['Pclass'].unique()"
      ],
      "execution_count": 106,
      "outputs": [
        {
          "output_type": "execute_result",
          "data": {
            "text/plain": [
              "array([3, 1, 2])"
            ]
          },
          "metadata": {
            "tags": []
          },
          "execution_count": 106
        }
      ]
    },
    {
      "cell_type": "code",
      "metadata": {
        "id": "rAJOzrYSViWu"
      },
      "source": [
        "teste = np.array([[1, 1, 43.0, 0, 0, 15]])"
      ],
      "execution_count": 107,
      "outputs": []
    },
    {
      "cell_type": "code",
      "metadata": {
        "colab": {
          "base_uri": "https://localhost:8080/"
        },
        "id": "a2Fwr9FhVwwN",
        "outputId": "2e2e1dec-da54-412d-e928-84a2bc0ddda0"
      },
      "source": [
        "teste"
      ],
      "execution_count": 108,
      "outputs": [
        {
          "output_type": "execute_result",
          "data": {
            "text/plain": [
              "array([[ 1.,  1., 43.,  0.,  0., 15.]])"
            ]
          },
          "metadata": {
            "tags": []
          },
          "execution_count": 108
        }
      ]
    },
    {
      "cell_type": "code",
      "metadata": {
        "id": "RDft27PLVxz6"
      },
      "source": [
        "resultado1 = classificador.predict(teste)"
      ],
      "execution_count": 109,
      "outputs": []
    },
    {
      "cell_type": "code",
      "metadata": {
        "colab": {
          "base_uri": "https://localhost:8080/"
        },
        "id": "XlVTPe7kV2AZ",
        "outputId": "e1293263-9490-425b-825e-9276c8a2f59c"
      },
      "source": [
        "resultado1"
      ],
      "execution_count": 110,
      "outputs": [
        {
          "output_type": "execute_result",
          "data": {
            "text/plain": [
              "array([1])"
            ]
          },
          "metadata": {
            "tags": []
          },
          "execution_count": 110
        }
      ]
    },
    {
      "cell_type": "code",
      "metadata": {
        "id": "qVh7lfp7V3NV"
      },
      "source": [
        "# SALVAR O MODELO E CRIAR A API REST."
      ],
      "execution_count": 111,
      "outputs": []
    }
  ]
}